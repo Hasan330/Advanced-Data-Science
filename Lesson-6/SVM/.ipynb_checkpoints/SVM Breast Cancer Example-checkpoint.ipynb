{
 "cells": [
  {
   "cell_type": "markdown",
   "metadata": {},
   "source": [
    "Check: https://github.com/Abdel-Razzak/ADS/blob/Module-6--SVM-%26-PCA/Support%20Vector%20Machines%20with%20Python.ipynb"
   ]
  },
  {
   "cell_type": "code",
   "execution_count": 1,
   "metadata": {
    "ExecuteTime": {
     "end_time": "2017-05-01T11:50:07.056422",
     "start_time": "2017-05-01T11:50:05.385864"
    },
    "collapsed": true
   },
   "outputs": [],
   "source": [
    "import pandas as pd\n",
    "import numpy as np\n",
    "import matplotlib.pyplot as plt\n",
    "import seaborn as sns\n",
    "%matplotlib inline"
   ]
  },
  {
   "cell_type": "code",
   "execution_count": 2,
   "metadata": {
    "ExecuteTime": {
     "end_time": "2017-05-01T11:50:12.668687",
     "start_time": "2017-05-01T11:50:12.541415"
    },
    "collapsed": true
   },
   "outputs": [],
   "source": [
    "from sklearn.datasets import load_breast_cancer"
   ]
  },
  {
   "cell_type": "code",
   "execution_count": 3,
   "metadata": {
    "ExecuteTime": {
     "end_time": "2017-05-01T11:50:20.494193",
     "start_time": "2017-05-01T11:50:20.477610"
    },
    "collapsed": true
   },
   "outputs": [],
   "source": [
    "cancer = load_breast_cancer()"
   ]
  },
  {
   "cell_type": "code",
   "execution_count": 4,
   "metadata": {
    "ExecuteTime": {
     "end_time": "2017-05-01T11:50:27.308919",
     "start_time": "2017-05-01T11:50:27.302436"
    },
    "collapsed": false
   },
   "outputs": [
    {
     "data": {
      "text/plain": [
       "dict_keys(['DESCR', 'data', 'target', 'feature_names', 'target_names'])"
      ]
     },
     "execution_count": 4,
     "metadata": {},
     "output_type": "execute_result"
    }
   ],
   "source": [
    "cancer.keys()"
   ]
  },
  {
   "cell_type": "code",
   "execution_count": 5,
   "metadata": {
    "ExecuteTime": {
     "end_time": "2017-05-01T11:50:42.891880",
     "start_time": "2017-05-01T11:50:42.888414"
    },
    "collapsed": false
   },
   "outputs": [
    {
     "name": "stdout",
     "output_type": "stream",
     "text": [
      "Breast Cancer Wisconsin (Diagnostic) Database\n",
      "=============================================\n",
      "\n",
      "Notes\n",
      "-----\n",
      "Data Set Characteristics:\n",
      "    :Number of Instances: 569\n",
      "\n",
      "    :Number of Attributes: 30 numeric, predictive attributes and the class\n",
      "\n",
      "    :Attribute Information:\n",
      "        - radius (mean of distances from center to points on the perimeter)\n",
      "        - texture (standard deviation of gray-scale values)\n",
      "        - perimeter\n",
      "        - area\n",
      "        - smoothness (local variation in radius lengths)\n",
      "        - compactness (perimeter^2 / area - 1.0)\n",
      "        - concavity (severity of concave portions of the contour)\n",
      "        - concave points (number of concave portions of the contour)\n",
      "        - symmetry \n",
      "        - fractal dimension (\"coastline approximation\" - 1)\n",
      "\n",
      "        The mean, standard error, and \"worst\" or largest (mean of the three\n",
      "        largest values) of these features were computed for each image,\n",
      "        resulting in 30 features.  For instance, field 3 is Mean Radius, field\n",
      "        13 is Radius SE, field 23 is Worst Radius.\n",
      "\n",
      "        - class:\n",
      "                - WDBC-Malignant\n",
      "                - WDBC-Benign\n",
      "\n",
      "    :Summary Statistics:\n",
      "\n",
      "    ===================================== ====== ======\n",
      "                                           Min    Max\n",
      "    ===================================== ====== ======\n",
      "    radius (mean):                        6.981  28.11\n",
      "    texture (mean):                       9.71   39.28\n",
      "    perimeter (mean):                     43.79  188.5\n",
      "    area (mean):                          143.5  2501.0\n",
      "    smoothness (mean):                    0.053  0.163\n",
      "    compactness (mean):                   0.019  0.345\n",
      "    concavity (mean):                     0.0    0.427\n",
      "    concave points (mean):                0.0    0.201\n",
      "    symmetry (mean):                      0.106  0.304\n",
      "    fractal dimension (mean):             0.05   0.097\n",
      "    radius (standard error):              0.112  2.873\n",
      "    texture (standard error):             0.36   4.885\n",
      "    perimeter (standard error):           0.757  21.98\n",
      "    area (standard error):                6.802  542.2\n",
      "    smoothness (standard error):          0.002  0.031\n",
      "    compactness (standard error):         0.002  0.135\n",
      "    concavity (standard error):           0.0    0.396\n",
      "    concave points (standard error):      0.0    0.053\n",
      "    symmetry (standard error):            0.008  0.079\n",
      "    fractal dimension (standard error):   0.001  0.03\n",
      "    radius (worst):                       7.93   36.04\n",
      "    texture (worst):                      12.02  49.54\n",
      "    perimeter (worst):                    50.41  251.2\n",
      "    area (worst):                         185.2  4254.0\n",
      "    smoothness (worst):                   0.071  0.223\n",
      "    compactness (worst):                  0.027  1.058\n",
      "    concavity (worst):                    0.0    1.252\n",
      "    concave points (worst):               0.0    0.291\n",
      "    symmetry (worst):                     0.156  0.664\n",
      "    fractal dimension (worst):            0.055  0.208\n",
      "    ===================================== ====== ======\n",
      "\n",
      "    :Missing Attribute Values: None\n",
      "\n",
      "    :Class Distribution: 212 - Malignant, 357 - Benign\n",
      "\n",
      "    :Creator:  Dr. William H. Wolberg, W. Nick Street, Olvi L. Mangasarian\n",
      "\n",
      "    :Donor: Nick Street\n",
      "\n",
      "    :Date: November, 1995\n",
      "\n",
      "This is a copy of UCI ML Breast Cancer Wisconsin (Diagnostic) datasets.\n",
      "https://goo.gl/U2Uwz2\n",
      "\n",
      "Features are computed from a digitized image of a fine needle\n",
      "aspirate (FNA) of a breast mass.  They describe\n",
      "characteristics of the cell nuclei present in the image.\n",
      "\n",
      "Separating plane described above was obtained using\n",
      "Multisurface Method-Tree (MSM-T) [K. P. Bennett, \"Decision Tree\n",
      "Construction Via Linear Programming.\" Proceedings of the 4th\n",
      "Midwest Artificial Intelligence and Cognitive Science Society,\n",
      "pp. 97-101, 1992], a classification method which uses linear\n",
      "programming to construct a decision tree.  Relevant features\n",
      "were selected using an exhaustive search in the space of 1-4\n",
      "features and 1-3 separating planes.\n",
      "\n",
      "The actual linear program used to obtain the separating plane\n",
      "in the 3-dimensional space is that described in:\n",
      "[K. P. Bennett and O. L. Mangasarian: \"Robust Linear\n",
      "Programming Discrimination of Two Linearly Inseparable Sets\",\n",
      "Optimization Methods and Software 1, 1992, 23-34].\n",
      "\n",
      "This database is also available through the UW CS ftp server:\n",
      "\n",
      "ftp ftp.cs.wisc.edu\n",
      "cd math-prog/cpo-dataset/machine-learn/WDBC/\n",
      "\n",
      "References\n",
      "----------\n",
      "   - W.N. Street, W.H. Wolberg and O.L. Mangasarian. Nuclear feature extraction \n",
      "     for breast tumor diagnosis. IS&T/SPIE 1993 International Symposium on \n",
      "     Electronic Imaging: Science and Technology, volume 1905, pages 861-870,\n",
      "     San Jose, CA, 1993.\n",
      "   - O.L. Mangasarian, W.N. Street and W.H. Wolberg. Breast cancer diagnosis and \n",
      "     prognosis via linear programming. Operations Research, 43(4), pages 570-577, \n",
      "     July-August 1995.\n",
      "   - W.H. Wolberg, W.N. Street, and O.L. Mangasarian. Machine learning techniques\n",
      "     to diagnose breast cancer from fine-needle aspirates. Cancer Letters 77 (1994) \n",
      "     163-171.\n",
      "\n"
     ]
    }
   ],
   "source": [
    "print(cancer['DESCR'])"
   ]
  },
  {
   "cell_type": "code",
   "execution_count": 6,
   "metadata": {
    "ExecuteTime": {
     "end_time": "2017-05-01T11:51:28.849385",
     "start_time": "2017-05-01T11:51:28.839798"
    },
    "collapsed": false
   },
   "outputs": [
    {
     "data": {
      "text/plain": [
       "array(['mean radius', 'mean texture', 'mean perimeter', 'mean area',\n",
       "       'mean smoothness', 'mean compactness', 'mean concavity',\n",
       "       'mean concave points', 'mean symmetry', 'mean fractal dimension',\n",
       "       'radius error', 'texture error', 'perimeter error', 'area error',\n",
       "       'smoothness error', 'compactness error', 'concavity error',\n",
       "       'concave points error', 'symmetry error', 'fractal dimension error',\n",
       "       'worst radius', 'worst texture', 'worst perimeter', 'worst area',\n",
       "       'worst smoothness', 'worst compactness', 'worst concavity',\n",
       "       'worst concave points', 'worst symmetry', 'worst fractal dimension'], \n",
       "      dtype='<U23')"
      ]
     },
     "execution_count": 6,
     "metadata": {},
     "output_type": "execute_result"
    }
   ],
   "source": [
    "cancer['feature_names']"
   ]
  },
  {
   "cell_type": "code",
   "execution_count": 7,
   "metadata": {
    "ExecuteTime": {
     "end_time": "2017-05-01T11:51:38.028491",
     "start_time": "2017-05-01T11:51:38.011363"
    },
    "collapsed": false
   },
   "outputs": [
    {
     "name": "stdout",
     "output_type": "stream",
     "text": [
      "<class 'pandas.core.frame.DataFrame'>\n",
      "RangeIndex: 569 entries, 0 to 568\n",
      "Data columns (total 30 columns):\n",
      "mean radius                569 non-null float64\n",
      "mean texture               569 non-null float64\n",
      "mean perimeter             569 non-null float64\n",
      "mean area                  569 non-null float64\n",
      "mean smoothness            569 non-null float64\n",
      "mean compactness           569 non-null float64\n",
      "mean concavity             569 non-null float64\n",
      "mean concave points        569 non-null float64\n",
      "mean symmetry              569 non-null float64\n",
      "mean fractal dimension     569 non-null float64\n",
      "radius error               569 non-null float64\n",
      "texture error              569 non-null float64\n",
      "perimeter error            569 non-null float64\n",
      "area error                 569 non-null float64\n",
      "smoothness error           569 non-null float64\n",
      "compactness error          569 non-null float64\n",
      "concavity error            569 non-null float64\n",
      "concave points error       569 non-null float64\n",
      "symmetry error             569 non-null float64\n",
      "fractal dimension error    569 non-null float64\n",
      "worst radius               569 non-null float64\n",
      "worst texture              569 non-null float64\n",
      "worst perimeter            569 non-null float64\n",
      "worst area                 569 non-null float64\n",
      "worst smoothness           569 non-null float64\n",
      "worst compactness          569 non-null float64\n",
      "worst concavity            569 non-null float64\n",
      "worst concave points       569 non-null float64\n",
      "worst symmetry             569 non-null float64\n",
      "worst fractal dimension    569 non-null float64\n",
      "dtypes: float64(30)\n",
      "memory usage: 133.4 KB\n"
     ]
    }
   ],
   "source": [
    "df_feat = pd.DataFrame(cancer['data'],columns=cancer['feature_names'])\n",
    "df_feat.info()"
   ]
  },
  {
   "cell_type": "code",
   "execution_count": 44,
   "metadata": {
    "ExecuteTime": {
     "end_time": "2017-05-01T12:12:14.641959",
     "start_time": "2017-05-01T12:12:14.636123"
    },
    "collapsed": false
   },
   "outputs": [
    {
     "data": {
      "text/plain": [
       "array([0, 0, 0, 0, 0])"
      ]
     },
     "execution_count": 44,
     "metadata": {},
     "output_type": "execute_result"
    }
   ],
   "source": [
    "cancer['target'][:5]"
   ]
  },
  {
   "cell_type": "code",
   "execution_count": 10,
   "metadata": {
    "ExecuteTime": {
     "end_time": "2017-05-01T11:52:22.030347",
     "start_time": "2017-05-01T11:52:22.026969"
    },
    "collapsed": true
   },
   "outputs": [],
   "source": [
    "df_target = pd.DataFrame(cancer['target'],columns=['Cancer'])"
   ]
  },
  {
   "cell_type": "code",
   "execution_count": 17,
   "metadata": {
    "ExecuteTime": {
     "end_time": "2017-05-01T11:57:44.083237",
     "start_time": "2017-05-01T11:57:44.052833"
    },
    "collapsed": false
   },
   "outputs": [
    {
     "data": {
      "text/html": [
       "<div>\n",
       "<table border=\"1\" class=\"dataframe\">\n",
       "  <thead>\n",
       "    <tr style=\"text-align: right;\">\n",
       "      <th></th>\n",
       "      <th>mean radius</th>\n",
       "      <th>mean texture</th>\n",
       "      <th>mean perimeter</th>\n",
       "      <th>mean area</th>\n",
       "      <th>mean smoothness</th>\n",
       "      <th>mean compactness</th>\n",
       "      <th>mean concavity</th>\n",
       "      <th>mean concave points</th>\n",
       "      <th>mean symmetry</th>\n",
       "      <th>mean fractal dimension</th>\n",
       "      <th>...</th>\n",
       "      <th>worst radius</th>\n",
       "      <th>worst texture</th>\n",
       "      <th>worst perimeter</th>\n",
       "      <th>worst area</th>\n",
       "      <th>worst smoothness</th>\n",
       "      <th>worst compactness</th>\n",
       "      <th>worst concavity</th>\n",
       "      <th>worst concave points</th>\n",
       "      <th>worst symmetry</th>\n",
       "      <th>worst fractal dimension</th>\n",
       "    </tr>\n",
       "  </thead>\n",
       "  <tbody>\n",
       "    <tr>\n",
       "      <th>0</th>\n",
       "      <td>17.99</td>\n",
       "      <td>10.38</td>\n",
       "      <td>122.80</td>\n",
       "      <td>1001.0</td>\n",
       "      <td>0.11840</td>\n",
       "      <td>0.27760</td>\n",
       "      <td>0.3001</td>\n",
       "      <td>0.14710</td>\n",
       "      <td>0.2419</td>\n",
       "      <td>0.07871</td>\n",
       "      <td>...</td>\n",
       "      <td>25.38</td>\n",
       "      <td>17.33</td>\n",
       "      <td>184.60</td>\n",
       "      <td>2019.0</td>\n",
       "      <td>0.1622</td>\n",
       "      <td>0.6656</td>\n",
       "      <td>0.7119</td>\n",
       "      <td>0.2654</td>\n",
       "      <td>0.4601</td>\n",
       "      <td>0.11890</td>\n",
       "    </tr>\n",
       "    <tr>\n",
       "      <th>1</th>\n",
       "      <td>20.57</td>\n",
       "      <td>17.77</td>\n",
       "      <td>132.90</td>\n",
       "      <td>1326.0</td>\n",
       "      <td>0.08474</td>\n",
       "      <td>0.07864</td>\n",
       "      <td>0.0869</td>\n",
       "      <td>0.07017</td>\n",
       "      <td>0.1812</td>\n",
       "      <td>0.05667</td>\n",
       "      <td>...</td>\n",
       "      <td>24.99</td>\n",
       "      <td>23.41</td>\n",
       "      <td>158.80</td>\n",
       "      <td>1956.0</td>\n",
       "      <td>0.1238</td>\n",
       "      <td>0.1866</td>\n",
       "      <td>0.2416</td>\n",
       "      <td>0.1860</td>\n",
       "      <td>0.2750</td>\n",
       "      <td>0.08902</td>\n",
       "    </tr>\n",
       "    <tr>\n",
       "      <th>2</th>\n",
       "      <td>19.69</td>\n",
       "      <td>21.25</td>\n",
       "      <td>130.00</td>\n",
       "      <td>1203.0</td>\n",
       "      <td>0.10960</td>\n",
       "      <td>0.15990</td>\n",
       "      <td>0.1974</td>\n",
       "      <td>0.12790</td>\n",
       "      <td>0.2069</td>\n",
       "      <td>0.05999</td>\n",
       "      <td>...</td>\n",
       "      <td>23.57</td>\n",
       "      <td>25.53</td>\n",
       "      <td>152.50</td>\n",
       "      <td>1709.0</td>\n",
       "      <td>0.1444</td>\n",
       "      <td>0.4245</td>\n",
       "      <td>0.4504</td>\n",
       "      <td>0.2430</td>\n",
       "      <td>0.3613</td>\n",
       "      <td>0.08758</td>\n",
       "    </tr>\n",
       "    <tr>\n",
       "      <th>3</th>\n",
       "      <td>11.42</td>\n",
       "      <td>20.38</td>\n",
       "      <td>77.58</td>\n",
       "      <td>386.1</td>\n",
       "      <td>0.14250</td>\n",
       "      <td>0.28390</td>\n",
       "      <td>0.2414</td>\n",
       "      <td>0.10520</td>\n",
       "      <td>0.2597</td>\n",
       "      <td>0.09744</td>\n",
       "      <td>...</td>\n",
       "      <td>14.91</td>\n",
       "      <td>26.50</td>\n",
       "      <td>98.87</td>\n",
       "      <td>567.7</td>\n",
       "      <td>0.2098</td>\n",
       "      <td>0.8663</td>\n",
       "      <td>0.6869</td>\n",
       "      <td>0.2575</td>\n",
       "      <td>0.6638</td>\n",
       "      <td>0.17300</td>\n",
       "    </tr>\n",
       "    <tr>\n",
       "      <th>4</th>\n",
       "      <td>20.29</td>\n",
       "      <td>14.34</td>\n",
       "      <td>135.10</td>\n",
       "      <td>1297.0</td>\n",
       "      <td>0.10030</td>\n",
       "      <td>0.13280</td>\n",
       "      <td>0.1980</td>\n",
       "      <td>0.10430</td>\n",
       "      <td>0.1809</td>\n",
       "      <td>0.05883</td>\n",
       "      <td>...</td>\n",
       "      <td>22.54</td>\n",
       "      <td>16.67</td>\n",
       "      <td>152.20</td>\n",
       "      <td>1575.0</td>\n",
       "      <td>0.1374</td>\n",
       "      <td>0.2050</td>\n",
       "      <td>0.4000</td>\n",
       "      <td>0.1625</td>\n",
       "      <td>0.2364</td>\n",
       "      <td>0.07678</td>\n",
       "    </tr>\n",
       "  </tbody>\n",
       "</table>\n",
       "<p>5 rows × 30 columns</p>\n",
       "</div>"
      ],
      "text/plain": [
       "   mean radius  mean texture  mean perimeter  mean area  mean smoothness  \\\n",
       "0        17.99         10.38          122.80     1001.0          0.11840   \n",
       "1        20.57         17.77          132.90     1326.0          0.08474   \n",
       "2        19.69         21.25          130.00     1203.0          0.10960   \n",
       "3        11.42         20.38           77.58      386.1          0.14250   \n",
       "4        20.29         14.34          135.10     1297.0          0.10030   \n",
       "\n",
       "   mean compactness  mean concavity  mean concave points  mean symmetry  \\\n",
       "0           0.27760          0.3001              0.14710         0.2419   \n",
       "1           0.07864          0.0869              0.07017         0.1812   \n",
       "2           0.15990          0.1974              0.12790         0.2069   \n",
       "3           0.28390          0.2414              0.10520         0.2597   \n",
       "4           0.13280          0.1980              0.10430         0.1809   \n",
       "\n",
       "   mean fractal dimension           ...             worst radius  \\\n",
       "0                 0.07871           ...                    25.38   \n",
       "1                 0.05667           ...                    24.99   \n",
       "2                 0.05999           ...                    23.57   \n",
       "3                 0.09744           ...                    14.91   \n",
       "4                 0.05883           ...                    22.54   \n",
       "\n",
       "   worst texture  worst perimeter  worst area  worst smoothness  \\\n",
       "0          17.33           184.60      2019.0            0.1622   \n",
       "1          23.41           158.80      1956.0            0.1238   \n",
       "2          25.53           152.50      1709.0            0.1444   \n",
       "3          26.50            98.87       567.7            0.2098   \n",
       "4          16.67           152.20      1575.0            0.1374   \n",
       "\n",
       "   worst compactness  worst concavity  worst concave points  worst symmetry  \\\n",
       "0             0.6656           0.7119                0.2654          0.4601   \n",
       "1             0.1866           0.2416                0.1860          0.2750   \n",
       "2             0.4245           0.4504                0.2430          0.3613   \n",
       "3             0.8663           0.6869                0.2575          0.6638   \n",
       "4             0.2050           0.4000                0.1625          0.2364   \n",
       "\n",
       "   worst fractal dimension  \n",
       "0                  0.11890  \n",
       "1                  0.08902  \n",
       "2                  0.08758  \n",
       "3                  0.17300  \n",
       "4                  0.07678  \n",
       "\n",
       "[5 rows x 30 columns]"
      ]
     },
     "execution_count": 17,
     "metadata": {},
     "output_type": "execute_result"
    }
   ],
   "source": [
    "df_feat.head()"
   ]
  },
  {
   "cell_type": "markdown",
   "metadata": {},
   "source": [
    "## Exploratory Data Analysis"
   ]
  },
  {
   "cell_type": "markdown",
   "metadata": {
    "ExecuteTime": {
     "end_time": "2017-05-01T11:58:28.672806",
     "start_time": "2017-05-01T11:58:28.668685"
    }
   },
   "source": [
    "Train Test Split"
   ]
  },
  {
   "cell_type": "code",
   "execution_count": 19,
   "metadata": {
    "ExecuteTime": {
     "end_time": "2017-05-01T11:58:45.857331",
     "start_time": "2017-05-01T11:58:45.821355"
    },
    "collapsed": true
   },
   "outputs": [],
   "source": [
    "from sklearn.model_selection import train_test_split"
   ]
  },
  {
   "cell_type": "code",
   "execution_count": 20,
   "metadata": {
    "ExecuteTime": {
     "end_time": "2017-05-01T11:58:49.740636",
     "start_time": "2017-05-01T11:58:49.734455"
    },
    "collapsed": true
   },
   "outputs": [],
   "source": [
    "X_train, X_test, y_train, y_test = train_test_split(df_feat, np.ravel(df_target), test_size=0.30, random_state=101)"
   ]
  },
  {
   "cell_type": "markdown",
   "metadata": {
    "ExecuteTime": {
     "end_time": "2017-05-01T11:58:55.262783",
     "start_time": "2017-05-01T11:58:55.258743"
    }
   },
   "source": [
    "## Train the Support Vector Classifier"
   ]
  },
  {
   "cell_type": "code",
   "execution_count": 22,
   "metadata": {
    "ExecuteTime": {
     "end_time": "2017-05-01T11:59:06.324281",
     "start_time": "2017-05-01T11:59:06.263353"
    },
    "collapsed": true
   },
   "outputs": [],
   "source": [
    "from sklearn.svm import SVC"
   ]
  },
  {
   "cell_type": "code",
   "execution_count": 23,
   "metadata": {
    "ExecuteTime": {
     "end_time": "2017-05-01T11:59:11.713348",
     "start_time": "2017-05-01T11:59:11.709933"
    },
    "collapsed": true
   },
   "outputs": [],
   "source": [
    "model = SVC()"
   ]
  },
  {
   "cell_type": "code",
   "execution_count": 24,
   "metadata": {
    "ExecuteTime": {
     "end_time": "2017-05-01T11:59:16.665668",
     "start_time": "2017-05-01T11:59:16.649553"
    },
    "collapsed": false
   },
   "outputs": [
    {
     "data": {
      "text/plain": [
       "SVC(C=1.0, cache_size=200, class_weight=None, coef0=0.0,\n",
       "  decision_function_shape=None, degree=3, gamma='auto', kernel='rbf',\n",
       "  max_iter=-1, probability=False, random_state=None, shrinking=True,\n",
       "  tol=0.001, verbose=False)"
      ]
     },
     "execution_count": 24,
     "metadata": {},
     "output_type": "execute_result"
    }
   ],
   "source": [
    "model.fit(X_train,y_train)"
   ]
  },
  {
   "cell_type": "markdown",
   "metadata": {},
   "source": [
    "## Predictions and Evaluations"
   ]
  },
  {
   "cell_type": "code",
   "execution_count": 25,
   "metadata": {
    "ExecuteTime": {
     "end_time": "2017-05-01T12:01:52.880650",
     "start_time": "2017-05-01T12:01:52.873422"
    },
    "collapsed": true
   },
   "outputs": [],
   "source": [
    "predictions = model.predict(X_test)"
   ]
  },
  {
   "cell_type": "code",
   "execution_count": 26,
   "metadata": {
    "ExecuteTime": {
     "end_time": "2017-05-01T12:01:58.003782",
     "start_time": "2017-05-01T12:01:58.001050"
    },
    "collapsed": true
   },
   "outputs": [],
   "source": [
    "from sklearn.metrics import classification_report,confusion_matrix"
   ]
  },
  {
   "cell_type": "code",
   "execution_count": 27,
   "metadata": {
    "ExecuteTime": {
     "end_time": "2017-05-01T12:02:01.996742",
     "start_time": "2017-05-01T12:02:01.990644"
    },
    "collapsed": false
   },
   "outputs": [
    {
     "name": "stdout",
     "output_type": "stream",
     "text": [
      "[[  0  66]\n",
      " [  0 105]]\n"
     ]
    }
   ],
   "source": [
    "print(confusion_matrix(y_test,predictions))"
   ]
  },
  {
   "cell_type": "code",
   "execution_count": 29,
   "metadata": {
    "ExecuteTime": {
     "end_time": "2017-05-01T12:02:11.410369",
     "start_time": "2017-05-01T12:02:11.404609"
    },
    "collapsed": false
   },
   "outputs": [
    {
     "name": "stdout",
     "output_type": "stream",
     "text": [
      "             precision    recall  f1-score   support\n",
      "\n",
      "          0       0.00      0.00      0.00        66\n",
      "          1       0.61      1.00      0.76       105\n",
      "\n",
      "avg / total       0.38      0.61      0.47       171\n",
      "\n"
     ]
    },
    {
     "name": "stderr",
     "output_type": "stream",
     "text": [
      "/Users/mac/anaconda/lib/python3.5/site-packages/sklearn/metrics/classification.py:1113: UndefinedMetricWarning: Precision and F-score are ill-defined and being set to 0.0 in labels with no predicted samples.\n",
      "  'precision', 'predicted', average, warn_for)\n"
     ]
    }
   ],
   "source": [
    "print(classification_report(y_test,predictions))"
   ]
  },
  {
   "cell_type": "markdown",
   "metadata": {},
   "source": [
    "Woah! Notice that we are classifying everything into a single class! This means our model needs to have it parameters adjusted (it may also help to normalize the data).\n",
    "We can search for parameters using a GridSearch!"
   ]
  },
  {
   "cell_type": "markdown",
   "metadata": {},
   "source": [
    "# Gridsearch"
   ]
  },
  {
   "cell_type": "code",
   "execution_count": 31,
   "metadata": {
    "ExecuteTime": {
     "end_time": "2017-05-01T12:05:32.598031",
     "start_time": "2017-05-01T12:05:32.594119"
    },
    "collapsed": true
   },
   "outputs": [],
   "source": [
    "from sklearn.model_selection import GridSearchCV"
   ]
  },
  {
   "cell_type": "code",
   "execution_count": 33,
   "metadata": {
    "ExecuteTime": {
     "end_time": "2017-05-01T12:05:55.118239",
     "start_time": "2017-05-01T12:05:55.114409"
    },
    "collapsed": true
   },
   "outputs": [],
   "source": [
    "param_grid = {'C': [0.1,1, 10, 100, 1000], 'gamma': [1,0.1,0.01,0.001,0.0001], 'kernel': ['rbf']}\n",
    "grid = GridSearchCV(SVC(),param_grid,refit=True,verbose=3)"
   ]
  },
  {
   "cell_type": "code",
   "execution_count": 34,
   "metadata": {
    "ExecuteTime": {
     "end_time": "2017-05-01T12:06:46.353395",
     "start_time": "2017-05-01T12:06:45.459921"
    },
    "collapsed": false
   },
   "outputs": [
    {
     "name": "stdout",
     "output_type": "stream",
     "text": [
      "Fitting 3 folds for each of 25 candidates, totalling 75 fits\n",
      "[CV] gamma=1, C=0.1, kernel=rbf ......................................\n",
      "[CV] ....... gamma=1, C=0.1, kernel=rbf, score=0.631579, total=   0.0s\n",
      "[CV] gamma=1, C=0.1, kernel=rbf ......................................\n",
      "[CV] ....... gamma=1, C=0.1, kernel=rbf, score=0.631579, total=   0.0s\n",
      "[CV] gamma=1, C=0.1, kernel=rbf ......................................\n",
      "[CV] ....... gamma=1, C=0.1, kernel=rbf, score=0.636364, total=   0.0s\n",
      "[CV] gamma=0.1, C=0.1, kernel=rbf ....................................\n",
      "[CV] ..... gamma=0.1, C=0.1, kernel=rbf, score=0.631579, total=   0.0s\n",
      "[CV] gamma=0.1, C=0.1, kernel=rbf ....................................\n",
      "[CV] ..... gamma=0.1, C=0.1, kernel=rbf, score=0.631579, total=   0.0s\n",
      "[CV] gamma=0.1, C=0.1, kernel=rbf ....................................\n",
      "[CV] ..... gamma=0.1, C=0.1, kernel=rbf, score=0.636364, total=   0.0s\n",
      "[CV] gamma=0.01, C=0.1, kernel=rbf ...................................\n",
      "[CV] .... gamma=0.01, C=0.1, kernel=rbf, score=0.631579, total=   0.0s\n",
      "[CV] gamma=0.01, C=0.1, kernel=rbf ...................................\n",
      "[CV] .... gamma=0.01, C=0.1, kernel=rbf, score=0.631579, total=   0.0s\n",
      "[CV] gamma=0.01, C=0.1, kernel=rbf ...................................\n",
      "[CV] .... gamma=0.01, C=0.1, kernel=rbf, score=0.636364, total=   0.0s\n",
      "[CV] gamma=0.001, C=0.1, kernel=rbf ..................................\n",
      "[CV] ... gamma=0.001, C=0.1, kernel=rbf, score=0.631579, total=   0.0s\n",
      "[CV] gamma=0.001, C=0.1, kernel=rbf ..................................\n",
      "[CV] ... gamma=0.001, C=0.1, kernel=rbf, score=0.631579, total=   0.0s\n",
      "[CV] gamma=0.001, C=0.1, kernel=rbf ..................................\n",
      "[CV] ... gamma=0.001, C=0.1, kernel=rbf, score=0.636364, total=   0.0s\n",
      "[CV] gamma=0.0001, C=0.1, kernel=rbf .................................\n",
      "[CV] .. gamma=0.0001, C=0.1, kernel=rbf, score=0.902256, total=   0.0s\n",
      "[CV] gamma=0.0001, C=0.1, kernel=rbf .................................\n",
      "[CV] .. gamma=0.0001, C=0.1, kernel=rbf, score=0.962406, total=   0.0s\n",
      "[CV] gamma=0.0001, C=0.1, kernel=rbf .................................\n",
      "[CV] .. gamma=0.0001, C=0.1, kernel=rbf, score=0.916667, total=   0.0s\n",
      "[CV] gamma=1, C=1, kernel=rbf ........................................\n",
      "[CV] ......... gamma=1, C=1, kernel=rbf, score=0.631579, total=   0.0s\n",
      "[CV] gamma=1, C=1, kernel=rbf ........................................\n",
      "[CV] ......... gamma=1, C=1, kernel=rbf, score=0.631579, total=   0.0s\n",
      "[CV] gamma=1, C=1, kernel=rbf ........................................\n",
      "[CV] ......... gamma=1, C=1, kernel=rbf, score=0.636364, total=   0.0s\n",
      "[CV] gamma=0.1, C=1, kernel=rbf ......................................\n"
     ]
    },
    {
     "name": "stderr",
     "output_type": "stream",
     "text": [
      "[Parallel(n_jobs=1)]: Done   1 out of   1 | elapsed:    0.0s remaining:    0.0s\n",
      "[Parallel(n_jobs=1)]: Done   2 out of   2 | elapsed:    0.0s remaining:    0.0s\n"
     ]
    },
    {
     "name": "stdout",
     "output_type": "stream",
     "text": [
      "[CV] ....... gamma=0.1, C=1, kernel=rbf, score=0.631579, total=   0.0s\n",
      "[CV] gamma=0.1, C=1, kernel=rbf ......................................\n",
      "[CV] ....... gamma=0.1, C=1, kernel=rbf, score=0.631579, total=   0.0s\n",
      "[CV] gamma=0.1, C=1, kernel=rbf ......................................\n",
      "[CV] ....... gamma=0.1, C=1, kernel=rbf, score=0.636364, total=   0.0s\n",
      "[CV] gamma=0.01, C=1, kernel=rbf .....................................\n",
      "[CV] ...... gamma=0.01, C=1, kernel=rbf, score=0.631579, total=   0.0s\n",
      "[CV] gamma=0.01, C=1, kernel=rbf .....................................\n",
      "[CV] ...... gamma=0.01, C=1, kernel=rbf, score=0.631579, total=   0.0s\n",
      "[CV] gamma=0.01, C=1, kernel=rbf .....................................\n",
      "[CV] ...... gamma=0.01, C=1, kernel=rbf, score=0.636364, total=   0.0s\n",
      "[CV] gamma=0.001, C=1, kernel=rbf ....................................\n",
      "[CV] ..... gamma=0.001, C=1, kernel=rbf, score=0.902256, total=   0.0s\n",
      "[CV] gamma=0.001, C=1, kernel=rbf ....................................\n",
      "[CV] ..... gamma=0.001, C=1, kernel=rbf, score=0.939850, total=   0.0s\n",
      "[CV] gamma=0.001, C=1, kernel=rbf ....................................\n",
      "[CV] ..... gamma=0.001, C=1, kernel=rbf, score=0.954545, total=   0.0s\n",
      "[CV] gamma=0.0001, C=1, kernel=rbf ...................................\n",
      "[CV] .... gamma=0.0001, C=1, kernel=rbf, score=0.939850, total=   0.0s\n",
      "[CV] gamma=0.0001, C=1, kernel=rbf ...................................\n",
      "[CV] .... gamma=0.0001, C=1, kernel=rbf, score=0.969925, total=   0.0s\n",
      "[CV] gamma=0.0001, C=1, kernel=rbf ...................................\n",
      "[CV] .... gamma=0.0001, C=1, kernel=rbf, score=0.946970, total=   0.0s\n",
      "[CV] gamma=1, C=10, kernel=rbf .......................................\n",
      "[CV] ........ gamma=1, C=10, kernel=rbf, score=0.631579, total=   0.0s\n",
      "[CV] gamma=1, C=10, kernel=rbf .......................................\n",
      "[CV] ........ gamma=1, C=10, kernel=rbf, score=0.631579, total=   0.0s\n",
      "[CV] gamma=1, C=10, kernel=rbf .......................................\n",
      "[CV] ........ gamma=1, C=10, kernel=rbf, score=0.636364, total=   0.0s\n",
      "[CV] gamma=0.1, C=10, kernel=rbf .....................................\n",
      "[CV] ...... gamma=0.1, C=10, kernel=rbf, score=0.631579, total=   0.0s\n",
      "[CV] gamma=0.1, C=10, kernel=rbf .....................................\n",
      "[CV] ...... gamma=0.1, C=10, kernel=rbf, score=0.631579, total=   0.0s\n",
      "[CV] gamma=0.1, C=10, kernel=rbf .....................................\n",
      "[CV] ...... gamma=0.1, C=10, kernel=rbf, score=0.636364, total=   0.0s\n",
      "[CV] gamma=0.01, C=10, kernel=rbf ....................................\n",
      "[CV] ..... gamma=0.01, C=10, kernel=rbf, score=0.631579, total=   0.0s\n",
      "[CV] gamma=0.01, C=10, kernel=rbf ....................................\n",
      "[CV] ..... gamma=0.01, C=10, kernel=rbf, score=0.631579, total=   0.0s\n",
      "[CV] gamma=0.01, C=10, kernel=rbf ....................................\n",
      "[CV] ..... gamma=0.01, C=10, kernel=rbf, score=0.636364, total=   0.0s\n",
      "[CV] gamma=0.001, C=10, kernel=rbf ...................................\n",
      "[CV] .... gamma=0.001, C=10, kernel=rbf, score=0.894737, total=   0.0s\n",
      "[CV] gamma=0.001, C=10, kernel=rbf ...................................\n",
      "[CV] .... gamma=0.001, C=10, kernel=rbf, score=0.932331, total=   0.0s\n",
      "[CV] gamma=0.001, C=10, kernel=rbf ...................................\n",
      "[CV] .... gamma=0.001, C=10, kernel=rbf, score=0.916667, total=   0.0s\n",
      "[CV] gamma=0.0001, C=10, kernel=rbf ..................................\n",
      "[CV] ... gamma=0.0001, C=10, kernel=rbf, score=0.932331, total=   0.0s\n",
      "[CV] gamma=0.0001, C=10, kernel=rbf ..................................\n",
      "[CV] ... gamma=0.0001, C=10, kernel=rbf, score=0.969925, total=   0.0s\n",
      "[CV] gamma=0.0001, C=10, kernel=rbf ..................................\n",
      "[CV] ... gamma=0.0001, C=10, kernel=rbf, score=0.962121, total=   0.0s\n",
      "[CV] gamma=1, C=100, kernel=rbf ......................................\n",
      "[CV] ....... gamma=1, C=100, kernel=rbf, score=0.631579, total=   0.0s\n",
      "[CV] gamma=1, C=100, kernel=rbf ......................................\n",
      "[CV] ....... gamma=1, C=100, kernel=rbf, score=0.631579, total=   0.0s\n",
      "[CV] gamma=1, C=100, kernel=rbf ......................................\n",
      "[CV] ....... gamma=1, C=100, kernel=rbf, score=0.636364, total=   0.0s\n",
      "[CV] gamma=0.1, C=100, kernel=rbf ....................................\n",
      "[CV] ..... gamma=0.1, C=100, kernel=rbf, score=0.631579, total=   0.0s\n",
      "[CV] gamma=0.1, C=100, kernel=rbf ....................................\n",
      "[CV] ..... gamma=0.1, C=100, kernel=rbf, score=0.631579, total=   0.0s\n",
      "[CV] gamma=0.1, C=100, kernel=rbf ....................................\n",
      "[CV] ..... gamma=0.1, C=100, kernel=rbf, score=0.636364, total=   0.0s\n",
      "[CV] gamma=0.01, C=100, kernel=rbf ...................................\n",
      "[CV] .... gamma=0.01, C=100, kernel=rbf, score=0.631579, total=   0.0s\n",
      "[CV] gamma=0.01, C=100, kernel=rbf ...................................\n",
      "[CV] .... gamma=0.01, C=100, kernel=rbf, score=0.631579, total=   0.0s\n",
      "[CV] gamma=0.01, C=100, kernel=rbf ...................................\n",
      "[CV] .... gamma=0.01, C=100, kernel=rbf, score=0.636364, total=   0.0s\n",
      "[CV] gamma=0.001, C=100, kernel=rbf ..................................\n",
      "[CV] ... gamma=0.001, C=100, kernel=rbf, score=0.894737, total=   0.0s\n",
      "[CV] gamma=0.001, C=100, kernel=rbf ..................................\n",
      "[CV] ... gamma=0.001, C=100, kernel=rbf, score=0.932331, total=   0.0s\n",
      "[CV] gamma=0.001, C=100, kernel=rbf ..................................\n",
      "[CV] ... gamma=0.001, C=100, kernel=rbf, score=0.916667, total=   0.0s\n",
      "[CV] gamma=0.0001, C=100, kernel=rbf .................................\n",
      "[CV] .. gamma=0.0001, C=100, kernel=rbf, score=0.917293, total=   0.0s\n",
      "[CV] gamma=0.0001, C=100, kernel=rbf .................................\n",
      "[CV] .. gamma=0.0001, C=100, kernel=rbf, score=0.977444, total=   0.0s\n",
      "[CV] gamma=0.0001, C=100, kernel=rbf .................................\n",
      "[CV] .. gamma=0.0001, C=100, kernel=rbf, score=0.939394, total=   0.0s\n",
      "[CV] gamma=1, C=1000, kernel=rbf .....................................\n",
      "[CV] ...... gamma=1, C=1000, kernel=rbf, score=0.631579, total=   0.0s\n",
      "[CV] gamma=1, C=1000, kernel=rbf .....................................\n",
      "[CV] ...... gamma=1, C=1000, kernel=rbf, score=0.631579, total=   0.0s\n",
      "[CV] gamma=1, C=1000, kernel=rbf .....................................\n",
      "[CV] ...... gamma=1, C=1000, kernel=rbf, score=0.636364, total=   0.0s\n",
      "[CV] gamma=0.1, C=1000, kernel=rbf ...................................\n",
      "[CV] .... gamma=0.1, C=1000, kernel=rbf, score=0.631579, total=   0.0s\n",
      "[CV] gamma=0.1, C=1000, kernel=rbf ...................................\n",
      "[CV] .... gamma=0.1, C=1000, kernel=rbf, score=0.631579, total=   0.0s\n",
      "[CV] gamma=0.1, C=1000, kernel=rbf ...................................\n",
      "[CV] .... gamma=0.1, C=1000, kernel=rbf, score=0.636364, total=   0.0s\n",
      "[CV] gamma=0.01, C=1000, kernel=rbf ..................................\n",
      "[CV] ... gamma=0.01, C=1000, kernel=rbf, score=0.631579, total=   0.0s\n",
      "[CV] gamma=0.01, C=1000, kernel=rbf ..................................\n",
      "[CV] ... gamma=0.01, C=1000, kernel=rbf, score=0.631579, total=   0.0s\n",
      "[CV] gamma=0.01, C=1000, kernel=rbf ..................................\n",
      "[CV] ... gamma=0.01, C=1000, kernel=rbf, score=0.636364, total=   0.0s\n",
      "[CV] gamma=0.001, C=1000, kernel=rbf .................................\n",
      "[CV] .. gamma=0.001, C=1000, kernel=rbf, score=0.894737, total=   0.0s\n",
      "[CV] gamma=0.001, C=1000, kernel=rbf .................................\n",
      "[CV] .. gamma=0.001, C=1000, kernel=rbf, score=0.932331, total=   0.0s\n",
      "[CV] gamma=0.001, C=1000, kernel=rbf .................................\n",
      "[CV] .. gamma=0.001, C=1000, kernel=rbf, score=0.916667, total=   0.0s\n",
      "[CV] gamma=0.0001, C=1000, kernel=rbf ................................\n",
      "[CV] . gamma=0.0001, C=1000, kernel=rbf, score=0.909774, total=   0.0s\n",
      "[CV] gamma=0.0001, C=1000, kernel=rbf ................................\n",
      "[CV] . gamma=0.0001, C=1000, kernel=rbf, score=0.969925, total=   0.0s\n",
      "[CV] gamma=0.0001, C=1000, kernel=rbf ................................\n",
      "[CV] . gamma=0.0001, C=1000, kernel=rbf, score=0.931818, total=   0.0s\n"
     ]
    },
    {
     "name": "stderr",
     "output_type": "stream",
     "text": [
      "[Parallel(n_jobs=1)]: Done  75 out of  75 | elapsed:    0.9s finished\n"
     ]
    },
    {
     "data": {
      "text/plain": [
       "GridSearchCV(cv=None, error_score='raise',\n",
       "       estimator=SVC(C=1.0, cache_size=200, class_weight=None, coef0=0.0,\n",
       "  decision_function_shape=None, degree=3, gamma='auto', kernel='rbf',\n",
       "  max_iter=-1, probability=False, random_state=None, shrinking=True,\n",
       "  tol=0.001, verbose=False),\n",
       "       fit_params={}, iid=True, n_jobs=1,\n",
       "       param_grid={'gamma': [1, 0.1, 0.01, 0.001, 0.0001], 'C': [0.1, 1, 10, 100, 1000], 'kernel': ['rbf']},\n",
       "       pre_dispatch='2*n_jobs', refit=True, return_train_score=True,\n",
       "       scoring=None, verbose=3)"
      ]
     },
     "execution_count": 34,
     "metadata": {},
     "output_type": "execute_result"
    }
   ],
   "source": [
    "# May take awhile!\n",
    "grid.fit(X_train,y_train)"
   ]
  },
  {
   "cell_type": "code",
   "execution_count": 35,
   "metadata": {
    "ExecuteTime": {
     "end_time": "2017-05-01T12:07:11.983538",
     "start_time": "2017-05-01T12:07:11.979083"
    },
    "collapsed": false
   },
   "outputs": [
    {
     "data": {
      "text/plain": [
       "{'C': 10, 'gamma': 0.0001, 'kernel': 'rbf'}"
      ]
     },
     "execution_count": 35,
     "metadata": {},
     "output_type": "execute_result"
    }
   ],
   "source": [
    "grid.best_params_"
   ]
  },
  {
   "cell_type": "code",
   "execution_count": 37,
   "metadata": {
    "ExecuteTime": {
     "end_time": "2017-05-01T12:07:25.952311",
     "start_time": "2017-05-01T12:07:25.948094"
    },
    "collapsed": false
   },
   "outputs": [
    {
     "data": {
      "text/plain": [
       "SVC(C=10, cache_size=200, class_weight=None, coef0=0.0,\n",
       "  decision_function_shape=None, degree=3, gamma=0.0001, kernel='rbf',\n",
       "  max_iter=-1, probability=False, random_state=None, shrinking=True,\n",
       "  tol=0.001, verbose=False)"
      ]
     },
     "execution_count": 37,
     "metadata": {},
     "output_type": "execute_result"
    }
   ],
   "source": [
    "grid.best_estimator_"
   ]
  },
  {
   "cell_type": "code",
   "execution_count": 38,
   "metadata": {
    "ExecuteTime": {
     "end_time": "2017-05-01T12:07:49.889916",
     "start_time": "2017-05-01T12:07:49.885017"
    },
    "collapsed": true
   },
   "outputs": [],
   "source": [
    "grid_predictions = grid.predict(X_test)"
   ]
  },
  {
   "cell_type": "code",
   "execution_count": 39,
   "metadata": {
    "ExecuteTime": {
     "end_time": "2017-05-01T12:07:55.440354",
     "start_time": "2017-05-01T12:07:55.433973"
    },
    "collapsed": false
   },
   "outputs": [
    {
     "name": "stdout",
     "output_type": "stream",
     "text": [
      "[[ 60   6]\n",
      " [  3 102]]\n"
     ]
    }
   ],
   "source": [
    "print(confusion_matrix(y_test,grid_predictions))"
   ]
  },
  {
   "cell_type": "code",
   "execution_count": 40,
   "metadata": {
    "ExecuteTime": {
     "end_time": "2017-05-01T12:07:59.350110",
     "start_time": "2017-05-01T12:07:59.344196"
    },
    "collapsed": false
   },
   "outputs": [
    {
     "name": "stdout",
     "output_type": "stream",
     "text": [
      "             precision    recall  f1-score   support\n",
      "\n",
      "          0       0.95      0.91      0.93        66\n",
      "          1       0.94      0.97      0.96       105\n",
      "\n",
      "avg / total       0.95      0.95      0.95       171\n",
      "\n"
     ]
    }
   ],
   "source": [
    "print(classification_report(y_test,grid_predictions))"
   ]
  },
  {
   "cell_type": "code",
   "execution_count": null,
   "metadata": {
    "collapsed": true
   },
   "outputs": [],
   "source": []
  }
 ],
 "metadata": {
  "anaconda-cloud": {},
  "kernelspec": {
   "display_name": "Python [conda root]",
   "language": "python",
   "name": "conda-root-py"
  }
 },
 "nbformat": 4,
 "nbformat_minor": 2
}
