{
 "cells": [
  {
   "cell_type": "code",
   "execution_count": 186,
   "metadata": {
    "ExecuteTime": {
     "end_time": "2017-05-05T23:13:39.772345",
     "start_time": "2017-05-05T23:13:39.767471"
    },
    "collapsed": true
   },
   "outputs": [],
   "source": [
    "import pandas as pd\n",
    "import numpy as np\n",
    "import missingno as msn\n",
    "import matplotlib as plt\n",
    "import seaborn as sns"
   ]
  },
  {
   "cell_type": "code",
   "execution_count": 256,
   "metadata": {
    "ExecuteTime": {
     "end_time": "2017-05-05T23:44:32.189293",
     "start_time": "2017-05-05T23:44:32.082213"
    },
    "collapsed": true
   },
   "outputs": [],
   "source": [
    "# Open the excel file as an object\n",
    "xlsfile = pd.ExcelFile('./Data-Sources/statics.xlsx')"
   ]
  },
  {
   "cell_type": "code",
   "execution_count": 257,
   "metadata": {
    "ExecuteTime": {
     "end_time": "2017-05-05T23:44:32.518703",
     "start_time": "2017-05-05T23:44:32.435477"
    },
    "collapsed": false
   },
   "outputs": [],
   "source": [
    "#Create a function that takes in excel_file and sheet_name and returns the extracted dataframe\n",
    "#Example usage df = Student_Extractor(xlsfile, 0)\n",
    "\n",
    "def Student_Extractor(excel_file, index):\n",
    "    #  Parse the file\n",
    "    names = excel_file.sheet_names\n",
    "    #print(\"All Sheet Names:\", names)\n",
    "    print(\"Parsing Sheet with name:\", names[index])\n",
    "    df = excel_file.parse(sheetname= names[index])\n",
    "    \n",
    "    #  Drop first 2 columns and 10 rows\n",
    "    df_temp = df\n",
    "    df_temp.drop(df_temp.columns[[0]], axis=1, inplace=True)\n",
    "    df_temp.drop([0,1,2,3,4,5,6,7], axis=0, inplace=True)\n",
    "    print(\"Dataframe\" , index+1 , \"cleaned !\")\n",
    "    \n",
    "    #  Rename the columns\n",
    "    column_name = ['Student_Nmuber', 'Student_Name', 'First_Exam', 'Second_Exam', 'Final_1', 'Final_2', 'Total_Grade', 'Teacher_Name', 'Teacher_Number', 'Subject', 'Subject_Id', 'Section', 'Year']\n",
    "    df_temp.columns = column_name\n",
    "    \n",
    "    #  Return the Data Frame\n",
    "    return df_temp\n",
    "\n",
    "\n",
    "\n",
    "\n",
    "\n",
    "def Student_Extractor1(excel_file, index):\n",
    "    #  Parse the file\n",
    "    names = excel_file.sheet_names\n",
    "    print(\"Parsing Sheet with name:\", names[index])\n",
    "    df = excel_file.parse(sheetname= names[index])\n",
    "    \n",
    "    #  Drop first 2 columns and 10 rows\n",
    "    df_temp = df\n",
    "    print(\"Dataframe\" , index+1 , \"cleaned !\")\n",
    "    \n",
    "    #  Rename the columns\n",
    "    #column_name = ['Student_Nmuber', 'Student_Name', 'First_Exam', 'Second_Exam', 'Final_1', 'Final_2', 'Total_Grade', 'Teacher_Name', 'Teacher_Number', 'Subject', 'Subject_Id', 'Section', 'Year', '14']\n",
    "    #df_temp.columns = column_name\n",
    "    \n",
    "    #  Return the Data Frame\n",
    "    return df_temp"
   ]
  },
  {
   "cell_type": "code",
   "execution_count": 249,
   "metadata": {
    "ExecuteTime": {
     "end_time": "2017-05-05T23:42:51.144304",
     "start_time": "2017-05-05T23:42:51.118175"
    },
    "collapsed": false,
    "scrolled": false
   },
   "outputs": [
    {
     "name": "stdout",
     "output_type": "stream",
     "text": [
      "Parsing Sheet with name: 2014-2015-2\n",
      "Dataframe 1 cleaned !\n"
     ]
    },
    {
     "data": {
      "text/html": [
       "<div>\n",
       "<table border=\"1\" class=\"dataframe\">\n",
       "  <thead>\n",
       "    <tr style=\"text-align: right;\">\n",
       "      <th></th>\n",
       "      <th>Student_Nmuber</th>\n",
       "      <th>Student_Name</th>\n",
       "      <th>First_Exam</th>\n",
       "      <th>Second_Exam</th>\n",
       "      <th>Final_1</th>\n",
       "      <th>Final_2</th>\n",
       "      <th>Total_Grade</th>\n",
       "      <th>Teacher_Name</th>\n",
       "      <th>Teacher_Number</th>\n",
       "      <th>Subject</th>\n",
       "      <th>Subject_Id</th>\n",
       "      <th>Section</th>\n",
       "      <th>Year</th>\n",
       "    </tr>\n",
       "  </thead>\n",
       "  <tbody>\n",
       "    <tr>\n",
       "      <th>8</th>\n",
       "      <td>11315606</td>\n",
       "      <td>M</td>\n",
       "      <td>13</td>\n",
       "      <td>11.5</td>\n",
       "      <td>32</td>\n",
       "      <td>10</td>\n",
       "      <td>67</td>\n",
       "      <td>T2</td>\n",
       "      <td>3119</td>\n",
       "      <td>ستاتيكا     س.م:3</td>\n",
       "      <td>10601110</td>\n",
       "      <td>10601110/1</td>\n",
       "      <td>2014/2015</td>\n",
       "    </tr>\n",
       "    <tr>\n",
       "      <th>9</th>\n",
       "      <td>11340001</td>\n",
       "      <td>M</td>\n",
       "      <td>12</td>\n",
       "      <td>13</td>\n",
       "      <td>32</td>\n",
       "      <td>10</td>\n",
       "      <td>67</td>\n",
       "      <td>T2</td>\n",
       "      <td>3119</td>\n",
       "      <td>ستاتيكا     س.م:3</td>\n",
       "      <td>10601110</td>\n",
       "      <td>10601110/1</td>\n",
       "      <td>2014/2015</td>\n",
       "    </tr>\n",
       "    <tr>\n",
       "      <th>10</th>\n",
       "      <td>11214246</td>\n",
       "      <td>M</td>\n",
       "      <td>19</td>\n",
       "      <td>12</td>\n",
       "      <td>23</td>\n",
       "      <td>6</td>\n",
       "      <td>60</td>\n",
       "      <td>T2</td>\n",
       "      <td>3119</td>\n",
       "      <td>ستاتيكا     س.م:3</td>\n",
       "      <td>10601110</td>\n",
       "      <td>10601110/1</td>\n",
       "      <td>2014/2015</td>\n",
       "    </tr>\n",
       "    <tr>\n",
       "      <th>11</th>\n",
       "      <td>11210005</td>\n",
       "      <td>F</td>\n",
       "      <td>13</td>\n",
       "      <td>11.5</td>\n",
       "      <td>25</td>\n",
       "      <td>10</td>\n",
       "      <td>60</td>\n",
       "      <td>T2</td>\n",
       "      <td>3119</td>\n",
       "      <td>ستاتيكا     س.م:3</td>\n",
       "      <td>10601110</td>\n",
       "      <td>10601110/1</td>\n",
       "      <td>2014/2015</td>\n",
       "    </tr>\n",
       "    <tr>\n",
       "      <th>12</th>\n",
       "      <td>11316153</td>\n",
       "      <td>M</td>\n",
       "      <td>15.5</td>\n",
       "      <td>9.5</td>\n",
       "      <td>42</td>\n",
       "      <td>10</td>\n",
       "      <td>77</td>\n",
       "      <td>T2</td>\n",
       "      <td>3119</td>\n",
       "      <td>ستاتيكا     س.م:3</td>\n",
       "      <td>10601110</td>\n",
       "      <td>10601110/1</td>\n",
       "      <td>2014/2015</td>\n",
       "    </tr>\n",
       "  </tbody>\n",
       "</table>\n",
       "</div>"
      ],
      "text/plain": [
       "   Student_Nmuber Student_Name First_Exam Second_Exam Final_1 Final_2  \\\n",
       "8        11315606            M         13        11.5      32      10   \n",
       "9        11340001            M         12          13      32      10   \n",
       "10       11214246            M         19          12      23       6   \n",
       "11       11210005            F         13        11.5      25      10   \n",
       "12       11316153            M       15.5         9.5      42      10   \n",
       "\n",
       "   Total_Grade Teacher_Name Teacher_Number            Subject Subject_Id  \\\n",
       "8           67           T2           3119  ستاتيكا     س.م:3   10601110   \n",
       "9           67           T2           3119  ستاتيكا     س.م:3   10601110   \n",
       "10          60           T2           3119  ستاتيكا     س.م:3   10601110   \n",
       "11          60           T2           3119  ستاتيكا     س.م:3   10601110   \n",
       "12          77           T2           3119  ستاتيكا     س.م:3   10601110   \n",
       "\n",
       "       Section       Year  \n",
       "8   10601110/1  2014/2015  \n",
       "9   10601110/1  2014/2015  \n",
       "10  10601110/1  2014/2015  \n",
       "11  10601110/1  2014/2015  \n",
       "12  10601110/1  2014/2015  "
      ]
     },
     "execution_count": 249,
     "metadata": {},
     "output_type": "execute_result"
    }
   ],
   "source": [
    "df1 = Student_Extractor(xlsfile, 0)\n",
    "df1.head()"
   ]
  },
  {
   "cell_type": "code",
   "execution_count": 258,
   "metadata": {
    "ExecuteTime": {
     "end_time": "2017-05-05T23:44:37.861247",
     "start_time": "2017-05-05T23:44:37.836334"
    },
    "collapsed": false
   },
   "outputs": [
    {
     "name": "stdout",
     "output_type": "stream",
     "text": [
      "Parsing Sheet with name: 2015-2016-1\n",
      "Dataframe 4 cleaned !\n"
     ]
    },
    {
     "data": {
      "text/html": [
       "<div>\n",
       "<table border=\"1\" class=\"dataframe\">\n",
       "  <thead>\n",
       "    <tr style=\"text-align: right;\">\n",
       "      <th></th>\n",
       "      <th>1</th>\n",
       "      <th>11316855</th>\n",
       "      <th>M</th>\n",
       "      <th>10.5</th>\n",
       "      <th>11</th>\n",
       "      <th>7</th>\n",
       "      <th>37</th>\n",
       "      <th>66</th>\n",
       "      <th>T3</th>\n",
       "      <th>3089</th>\n",
       "      <th>ستاتيكا     س.م:3</th>\n",
       "      <th>10601110</th>\n",
       "      <th>10601110/1</th>\n",
       "      <th>2015/2016</th>\n",
       "    </tr>\n",
       "  </thead>\n",
       "  <tbody>\n",
       "    <tr>\n",
       "      <th>0</th>\n",
       "      <td>2</td>\n",
       "      <td>11440560</td>\n",
       "      <td>M</td>\n",
       "      <td>8.5</td>\n",
       "      <td>15.000</td>\n",
       "      <td>8</td>\n",
       "      <td>32.0</td>\n",
       "      <td>64</td>\n",
       "      <td>T3</td>\n",
       "      <td>3089</td>\n",
       "      <td>ستاتيكا     س.م:3</td>\n",
       "      <td>10601110</td>\n",
       "      <td>10601110/1</td>\n",
       "      <td>2015/2016</td>\n",
       "    </tr>\n",
       "    <tr>\n",
       "      <th>1</th>\n",
       "      <td>3</td>\n",
       "      <td>11317218</td>\n",
       "      <td>F</td>\n",
       "      <td>15.5</td>\n",
       "      <td>14.000</td>\n",
       "      <td>8</td>\n",
       "      <td>44.0</td>\n",
       "      <td>82</td>\n",
       "      <td>T3</td>\n",
       "      <td>3089</td>\n",
       "      <td>ستاتيكا     س.م:3</td>\n",
       "      <td>10601110</td>\n",
       "      <td>10601110/1</td>\n",
       "      <td>2015/2016</td>\n",
       "    </tr>\n",
       "    <tr>\n",
       "      <th>2</th>\n",
       "      <td>4</td>\n",
       "      <td>11441111</td>\n",
       "      <td>M</td>\n",
       "      <td>5.0</td>\n",
       "      <td>0.001</td>\n",
       "      <td>5</td>\n",
       "      <td>9999.0</td>\n",
       "      <td>4</td>\n",
       "      <td>T3</td>\n",
       "      <td>3089</td>\n",
       "      <td>ستاتيكا     س.م:3</td>\n",
       "      <td>10601110</td>\n",
       "      <td>10601110/1</td>\n",
       "      <td>2015/2016</td>\n",
       "    </tr>\n",
       "    <tr>\n",
       "      <th>3</th>\n",
       "      <td>5</td>\n",
       "      <td>11526306</td>\n",
       "      <td>M</td>\n",
       "      <td>10.5</td>\n",
       "      <td>12.000</td>\n",
       "      <td>9</td>\n",
       "      <td>44.0</td>\n",
       "      <td>76</td>\n",
       "      <td>T3</td>\n",
       "      <td>3089</td>\n",
       "      <td>ستاتيكا     س.م:3</td>\n",
       "      <td>10601110</td>\n",
       "      <td>10601110/1</td>\n",
       "      <td>2015/2016</td>\n",
       "    </tr>\n",
       "    <tr>\n",
       "      <th>4</th>\n",
       "      <td>6</td>\n",
       "      <td>11315607</td>\n",
       "      <td>F</td>\n",
       "      <td>10.0</td>\n",
       "      <td>10.000</td>\n",
       "      <td>8</td>\n",
       "      <td>9999.0</td>\n",
       "      <td>4</td>\n",
       "      <td>T3</td>\n",
       "      <td>3089</td>\n",
       "      <td>ستاتيكا     س.م:3</td>\n",
       "      <td>10601110</td>\n",
       "      <td>10601110/1</td>\n",
       "      <td>2015/2016</td>\n",
       "    </tr>\n",
       "  </tbody>\n",
       "</table>\n",
       "</div>"
      ],
      "text/plain": [
       "   1  11316855  M  10.5      11  7      37  66  T3  3089  ستاتيكا     س.م:3  \\\n",
       "0  2  11440560  M   8.5  15.000  8    32.0  64  T3  3089  ستاتيكا     س.م:3   \n",
       "1  3  11317218  F  15.5  14.000  8    44.0  82  T3  3089  ستاتيكا     س.م:3   \n",
       "2  4  11441111  M   5.0   0.001  5  9999.0   4  T3  3089  ستاتيكا     س.م:3   \n",
       "3  5  11526306  M  10.5  12.000  9    44.0  76  T3  3089  ستاتيكا     س.م:3   \n",
       "4  6  11315607  F  10.0  10.000  8  9999.0   4  T3  3089  ستاتيكا     س.م:3   \n",
       "\n",
       "   10601110  10601110/1  2015/2016  \n",
       "0  10601110  10601110/1  2015/2016  \n",
       "1  10601110  10601110/1  2015/2016  \n",
       "2  10601110  10601110/1  2015/2016  \n",
       "3  10601110  10601110/1  2015/2016  \n",
       "4  10601110  10601110/1  2015/2016  "
      ]
     },
     "execution_count": 258,
     "metadata": {},
     "output_type": "execute_result"
    }
   ],
   "source": [
    "df2 = Student_Extractor1(xlsfile, 3)\n",
    "df2.head()"
   ]
  },
  {
   "cell_type": "code",
   "execution_count": 240,
   "metadata": {
    "ExecuteTime": {
     "end_time": "2017-05-05T23:39:06.818867",
     "start_time": "2017-05-05T23:39:06.793447"
    },
    "collapsed": false
   },
   "outputs": [
    {
     "name": "stdout",
     "output_type": "stream",
     "text": [
      "Parsing Sheet with name: 215-216-1\n",
      "Dataframe 5 cleaned !\n"
     ]
    },
    {
     "data": {
      "text/html": [
       "<div>\n",
       "<table border=\"1\" class=\"dataframe\">\n",
       "  <thead>\n",
       "    <tr style=\"text-align: right;\">\n",
       "      <th></th>\n",
       "      <th>Student_Nmuber</th>\n",
       "      <th>Student_Name</th>\n",
       "      <th>First_Exam</th>\n",
       "      <th>Second_Exam</th>\n",
       "      <th>Final_1</th>\n",
       "      <th>Final_2</th>\n",
       "      <th>Total_Grade</th>\n",
       "      <th>Teacher_Name</th>\n",
       "      <th>Teacher_Number</th>\n",
       "      <th>Subject</th>\n",
       "      <th>Subject_Id</th>\n",
       "      <th>Section</th>\n",
       "      <th>Year</th>\n",
       "      <th>14</th>\n",
       "    </tr>\n",
       "  </thead>\n",
       "  <tbody>\n",
       "    <tr>\n",
       "      <th>0</th>\n",
       "      <td>2</td>\n",
       "      <td>11420513</td>\n",
       "      <td>F</td>\n",
       "      <td>12.0</td>\n",
       "      <td>17.5</td>\n",
       "      <td>44.5</td>\n",
       "      <td>10.0</td>\n",
       "      <td>84</td>\n",
       "      <td>T2</td>\n",
       "      <td>3119</td>\n",
       "      <td>ستاتيكا     س.م:3</td>\n",
       "      <td>10601110</td>\n",
       "      <td>10601110/2</td>\n",
       "      <td>2015/2016</td>\n",
       "    </tr>\n",
       "    <tr>\n",
       "      <th>1</th>\n",
       "      <td>3</td>\n",
       "      <td>11420480</td>\n",
       "      <td>M</td>\n",
       "      <td>19.5</td>\n",
       "      <td>19.5</td>\n",
       "      <td>43.0</td>\n",
       "      <td>10.0</td>\n",
       "      <td>92</td>\n",
       "      <td>T2</td>\n",
       "      <td>3119</td>\n",
       "      <td>ستاتيكا     س.م:3</td>\n",
       "      <td>10601110</td>\n",
       "      <td>10601110/2</td>\n",
       "      <td>2015/2016</td>\n",
       "    </tr>\n",
       "    <tr>\n",
       "      <th>2</th>\n",
       "      <td>4</td>\n",
       "      <td>11440430</td>\n",
       "      <td>M</td>\n",
       "      <td>9.5</td>\n",
       "      <td>10.0</td>\n",
       "      <td>33.0</td>\n",
       "      <td>10.0</td>\n",
       "      <td>63</td>\n",
       "      <td>T2</td>\n",
       "      <td>3119</td>\n",
       "      <td>ستاتيكا     س.م:3</td>\n",
       "      <td>10601110</td>\n",
       "      <td>10601110/2</td>\n",
       "      <td>2015/2016</td>\n",
       "    </tr>\n",
       "    <tr>\n",
       "      <th>3</th>\n",
       "      <td>5</td>\n",
       "      <td>11422665</td>\n",
       "      <td>M</td>\n",
       "      <td>9.5</td>\n",
       "      <td>6.5</td>\n",
       "      <td>25.0</td>\n",
       "      <td>10.0</td>\n",
       "      <td>51</td>\n",
       "      <td>T2</td>\n",
       "      <td>3119</td>\n",
       "      <td>ستاتيكا     س.م:3</td>\n",
       "      <td>10601110</td>\n",
       "      <td>10601110/2</td>\n",
       "      <td>2015/2016</td>\n",
       "    </tr>\n",
       "    <tr>\n",
       "      <th>4</th>\n",
       "      <td>6</td>\n",
       "      <td>11419576</td>\n",
       "      <td>M</td>\n",
       "      <td>14.0</td>\n",
       "      <td>12.0</td>\n",
       "      <td>41.5</td>\n",
       "      <td>8.0</td>\n",
       "      <td>76</td>\n",
       "      <td>T2</td>\n",
       "      <td>3119</td>\n",
       "      <td>ستاتيكا     س.م:3</td>\n",
       "      <td>10601110</td>\n",
       "      <td>10601110/2</td>\n",
       "      <td>2015/2016</td>\n",
       "    </tr>\n",
       "  </tbody>\n",
       "</table>\n",
       "</div>"
      ],
      "text/plain": [
       "   Student_Nmuber  Student_Name First_Exam  Second_Exam  Final_1  Final_2  \\\n",
       "0               2      11420513          F         12.0     17.5     44.5   \n",
       "1               3      11420480          M         19.5     19.5     43.0   \n",
       "2               4      11440430          M          9.5     10.0     33.0   \n",
       "3               5      11422665          M          9.5      6.5     25.0   \n",
       "4               6      11419576          M         14.0     12.0     41.5   \n",
       "\n",
       "   Total_Grade  Teacher_Name Teacher_Number  Subject         Subject_Id  \\\n",
       "0         10.0            84             T2     3119  ستاتيكا     س.م:3   \n",
       "1         10.0            92             T2     3119  ستاتيكا     س.م:3   \n",
       "2         10.0            63             T2     3119  ستاتيكا     س.م:3   \n",
       "3         10.0            51             T2     3119  ستاتيكا     س.م:3   \n",
       "4          8.0            76             T2     3119  ستاتيكا     س.م:3   \n",
       "\n",
       "    Section        Year         14  \n",
       "0  10601110  10601110/2  2015/2016  \n",
       "1  10601110  10601110/2  2015/2016  \n",
       "2  10601110  10601110/2  2015/2016  \n",
       "3  10601110  10601110/2  2015/2016  \n",
       "4  10601110  10601110/2  2015/2016  "
      ]
     },
     "execution_count": 240,
     "metadata": {},
     "output_type": "execute_result"
    }
   ],
   "source": [
    "df3 = Student_Extractor1(xlsfile, 4)\n",
    "df3.head()"
   ]
  },
  {
   "cell_type": "code",
   "execution_count": null,
   "metadata": {
    "collapsed": true
   },
   "outputs": [],
   "source": []
  },
  {
   "cell_type": "code",
   "execution_count": null,
   "metadata": {
    "collapsed": true
   },
   "outputs": [],
   "source": []
  },
  {
   "cell_type": "code",
   "execution_count": 62,
   "metadata": {
    "ExecuteTime": {
     "end_time": "2017-05-05T22:30:29.133837",
     "start_time": "2017-05-05T22:30:29.078450"
    },
    "collapsed": false
   },
   "outputs": [
    {
     "ename": "NameError",
     "evalue": "name 'df1' is not defined",
     "output_type": "error",
     "traceback": [
      "\u001b[0;31m---------------------------------------------------------------------------\u001b[0m",
      "\u001b[0;31mNameError\u001b[0m                                 Traceback (most recent call last)",
      "\u001b[0;32m<ipython-input-62-df941a538009>\u001b[0m in \u001b[0;36m<module>\u001b[0;34m()\u001b[0m\n\u001b[1;32m      1\u001b[0m \u001b[0;31m#Drop first 2 columns\u001b[0m\u001b[0;34m\u001b[0m\u001b[0;34m\u001b[0m\u001b[0m\n\u001b[0;32m----> 2\u001b[0;31m \u001b[0mdf1\u001b[0m\u001b[0;34m.\u001b[0m\u001b[0mdrop\u001b[0m\u001b[0;34m(\u001b[0m\u001b[0mdf1\u001b[0m\u001b[0;34m.\u001b[0m\u001b[0mcolumns\u001b[0m\u001b[0;34m[\u001b[0m\u001b[0;34m[\u001b[0m\u001b[0;36m0\u001b[0m\u001b[0;34m,\u001b[0m \u001b[0;36m1\u001b[0m\u001b[0;34m]\u001b[0m\u001b[0;34m]\u001b[0m\u001b[0;34m,\u001b[0m \u001b[0maxis\u001b[0m\u001b[0;34m=\u001b[0m\u001b[0;36m1\u001b[0m\u001b[0;34m,\u001b[0m \u001b[0minplace\u001b[0m\u001b[0;34m=\u001b[0m\u001b[0;32mTrue\u001b[0m\u001b[0;34m)\u001b[0m\u001b[0;34m\u001b[0m\u001b[0m\n\u001b[0m",
      "\u001b[0;31mNameError\u001b[0m: name 'df1' is not defined"
     ]
    }
   ],
   "source": [
    "#Drop first 2 columns\n",
    "df1.drop(df1.columns[[0, 1]], axis=1, inplace=True)"
   ]
  },
  {
   "cell_type": "code",
   "execution_count": null,
   "metadata": {
    "ExecuteTime": {
     "end_time": "2017-05-05T22:11:14.570604",
     "start_time": "2017-05-05T19:11:14.530Z"
    },
    "collapsed": false
   },
   "outputs": [],
   "source": [
    "df1.drop([0,1,2,3,4,5,6,7,8,9], axis=0, inplace=True)"
   ]
  },
  {
   "cell_type": "code",
   "execution_count": null,
   "metadata": {
    "ExecuteTime": {
     "end_time": "2017-05-05T22:11:14.571062",
     "start_time": "2017-05-05T19:11:14.532Z"
    },
    "code_folding": [],
    "collapsed": false
   },
   "outputs": [],
   "source": [
    "column_name = ['Student_Nmuber', 'Student_Name', 'First_Exam', 'Second_Exam', 'Final_1', 'Final_2', 'Total_Grade', 'Teacher_Name', 'Teachr_Number', 'Subject', 'Subject_Id', 'Section', 'Year' ]\n",
    "df1.columns = column_name"
   ]
  },
  {
   "cell_type": "code",
   "execution_count": null,
   "metadata": {
    "ExecuteTime": {
     "end_time": "2017-05-05T22:11:14.571555",
     "start_time": "2017-05-05T19:11:14.533Z"
    },
    "collapsed": false
   },
   "outputs": [],
   "source": [
    "df1[:12]"
   ]
  },
  {
   "cell_type": "code",
   "execution_count": null,
   "metadata": {
    "collapsed": true
   },
   "outputs": [],
   "source": []
  }
 ],
 "metadata": {
  "anaconda-cloud": {},
  "kernelspec": {
   "display_name": "Python [conda root]",
   "language": "python",
   "name": "conda-root-py"
  },
  "language_info": {
   "codemirror_mode": {
    "name": "ipython",
    "version": 3
   },
   "file_extension": ".py",
   "mimetype": "text/x-python",
   "name": "python",
   "nbconvert_exporter": "python",
   "pygments_lexer": "ipython3",
   "version": "3.5.2"
  }
 },
 "nbformat": 4,
 "nbformat_minor": 2
}
