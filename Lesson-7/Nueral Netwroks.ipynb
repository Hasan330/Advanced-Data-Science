{
 "cells": [
  {
   "cell_type": "code",
   "execution_count": 1,
   "metadata": {
    "ExecuteTime": {
     "end_time": "2017-05-06T12:40:57.173115",
     "start_time": "2017-05-06T12:40:55.276638"
    },
    "collapsed": true
   },
   "outputs": [],
   "source": [
    "import tensorflow as tf"
   ]
  },
  {
   "cell_type": "markdown",
   "metadata": {},
   "source": [
    "### Deep Learning              --> Reinforcement Learning (Trial and Error)  -->  Robot Cake Issue\n",
    "### Gradient Descent         --> Cost Function (Mount Errorest) to minimize error\n",
    "### Google's Deep-Mind    --> \n",
    "### Nueral Netwroks are Classifiers\n",
    "### Gradient Descent (Discrete Vs. Continuous)\n",
    "### Activation Function \n",
    "### Probability with weights \n",
    "### Uses -log function to calculate error function\n",
    "### Weights are first set randomly then changed according to error (by activation functio)\n",
    "### Bias\n",
    "### Cost, error, activation function"
   ]
  },
  {
   "cell_type": "code",
   "execution_count": null,
   "metadata": {
    "collapsed": true
   },
   "outputs": [],
   "source": []
  }
 ],
 "metadata": {
  "anaconda-cloud": {},
  "kernelspec": {
   "display_name": "Python [conda root]",
   "language": "python",
   "name": "conda-root-py"
  }
 },
 "nbformat": 4,
 "nbformat_minor": 2
}
