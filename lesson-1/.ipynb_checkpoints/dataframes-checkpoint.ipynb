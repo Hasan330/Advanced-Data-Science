{
 "cells": [
  {
   "cell_type": "markdown",
   "metadata": {},
   "source": [
    "# R Data Frames Exercises\n",
    "\n",
    "For this exercise we will test your knowledge of data frames! Just follow the exercise instructions that are in bold below!\n",
    "\n",
    "**Ex 1: Recreate the following dataframe by creating vectors and using the data.frame function:**"
   ]
  },
  {
   "cell_type": "code",
   "execution_count": 1,
   "metadata": {
    "ExecuteTime": {
     "end_time": "2017-04-08T17:37:26.987290",
     "start_time": "2017-04-08T14:37:26.745Z"
    },
    "collapsed": false
   },
   "outputs": [
    {
     "data": {
      "text/html": [
       "<table>\n",
       "<thead><tr><th></th><th scope=col>Age</th><th scope=col>Weight</th><th scope=col>Sex</th></tr></thead>\n",
       "<tbody>\n",
       "\t<tr><th scope=row>Sam</th><td>22 </td><td>150</td><td>M  </td></tr>\n",
       "\t<tr><th scope=row>Frank</th><td>25 </td><td>165</td><td>M  </td></tr>\n",
       "\t<tr><th scope=row>Amy</th><td>26 </td><td>120</td><td>F  </td></tr>\n",
       "</tbody>\n",
       "</table>\n"
      ],
      "text/latex": [
       "\\begin{tabular}{r|lll}\n",
       "  & Age & Weight & Sex\\\\\n",
       "\\hline\n",
       "\tSam & 22  & 150 & M  \\\\\n",
       "\tFrank & 25  & 165 & M  \\\\\n",
       "\tAmy & 26  & 120 & F  \\\\\n",
       "\\end{tabular}\n"
      ],
      "text/markdown": [
       "\n",
       "| <!--/--> | Age | Weight | Sex | \n",
       "|---|---|---|\n",
       "| Sam | 22  | 150 | M   | \n",
       "| Frank | 25  | 165 | M   | \n",
       "| Amy | 26  | 120 | F   | \n",
       "\n",
       "\n"
      ],
      "text/plain": [
       "      Age Weight Sex\n",
       "Sam   22  150    M  \n",
       "Frank 25  165    M  \n",
       "Amy   26  120    F  "
      ]
     },
     "metadata": {},
     "output_type": "display_data"
    }
   ],
   "source": [
    "Age     <- c(22,25,26)\n",
    "Weight  <- c(150,165,120)\n",
    "Sex     <- c('M','M','F')\n",
    "Names   <- c(\"Sam\", 'Frank', 'Amy')\n",
    "df <- data.frame(Age, Weight, Sex)\n",
    "\n",
    "rownames(df) <- Names\n",
    "\n",
    "df"
   ]
  },
  {
   "cell_type": "markdown",
   "metadata": {},
   "source": [
    "**Ex 2: Check if mtcars is a dataframe using is.data.frame()**"
   ]
  },
  {
   "cell_type": "code",
   "execution_count": 2,
   "metadata": {
    "ExecuteTime": {
     "end_time": "2017-04-08T17:37:27.040573",
     "start_time": "2017-04-08T14:37:26.751Z"
    },
    "collapsed": false
   },
   "outputs": [
    {
     "data": {
      "text/html": [
       "TRUE"
      ],
      "text/latex": [
       "TRUE"
      ],
      "text/markdown": [
       "TRUE"
      ],
      "text/plain": [
       "[1] TRUE"
      ]
     },
     "metadata": {},
     "output_type": "display_data"
    }
   ],
   "source": [
    "is.data.frame(mtcars)"
   ]
  },
  {
   "cell_type": "markdown",
   "metadata": {},
   "source": [
    "**Ex 3: Use as.data.frame() to convert a matrix into a dataframe:**"
   ]
  },
  {
   "cell_type": "code",
   "execution_count": 3,
   "metadata": {
    "ExecuteTime": {
     "end_time": "2017-04-08T17:37:27.162075",
     "start_time": "2017-04-08T14:37:26.764Z"
    },
    "collapsed": false
   },
   "outputs": [
    {
     "data": {
      "text/html": [
       "<table>\n",
       "<thead><tr><th></th><th scope=col>mpg</th><th scope=col>cyl</th><th scope=col>disp</th><th scope=col>hp</th><th scope=col>drat</th><th scope=col>wt</th><th scope=col>qsec</th><th scope=col>vs</th><th scope=col>am</th><th scope=col>gear</th><th scope=col>carb</th></tr></thead>\n",
       "<tbody>\n",
       "\t<tr><th scope=row>Mazda RX4</th><td>21.0 </td><td>6    </td><td>160.0</td><td>110  </td><td>3.90 </td><td>2.620</td><td>16.46</td><td>0    </td><td>1    </td><td>4    </td><td>4    </td></tr>\n",
       "\t<tr><th scope=row>Mazda RX4 Wag</th><td>21.0 </td><td>6    </td><td>160.0</td><td>110  </td><td>3.90 </td><td>2.875</td><td>17.02</td><td>0    </td><td>1    </td><td>4    </td><td>4    </td></tr>\n",
       "\t<tr><th scope=row>Datsun 710</th><td>22.8 </td><td>4    </td><td>108.0</td><td> 93  </td><td>3.85 </td><td>2.320</td><td>18.61</td><td>1    </td><td>1    </td><td>4    </td><td>1    </td></tr>\n",
       "\t<tr><th scope=row>Hornet 4 Drive</th><td>21.4 </td><td>6    </td><td>258.0</td><td>110  </td><td>3.08 </td><td>3.215</td><td>19.44</td><td>1    </td><td>0    </td><td>3    </td><td>1    </td></tr>\n",
       "\t<tr><th scope=row>Hornet Sportabout</th><td>18.7 </td><td>8    </td><td>360.0</td><td>175  </td><td>3.15 </td><td>3.440</td><td>17.02</td><td>0    </td><td>0    </td><td>3    </td><td>2    </td></tr>\n",
       "\t<tr><th scope=row>Valiant</th><td>18.1 </td><td>6    </td><td>225.0</td><td>105  </td><td>2.76 </td><td>3.460</td><td>20.22</td><td>1    </td><td>0    </td><td>3    </td><td>1    </td></tr>\n",
       "\t<tr><th scope=row>Duster 360</th><td>14.3 </td><td>8    </td><td>360.0</td><td>245  </td><td>3.21 </td><td>3.570</td><td>15.84</td><td>0    </td><td>0    </td><td>3    </td><td>4    </td></tr>\n",
       "\t<tr><th scope=row>Merc 240D</th><td>24.4 </td><td>4    </td><td>146.7</td><td> 62  </td><td>3.69 </td><td>3.190</td><td>20.00</td><td>1    </td><td>0    </td><td>4    </td><td>2    </td></tr>\n",
       "\t<tr><th scope=row>Merc 230</th><td>22.8 </td><td>4    </td><td>140.8</td><td> 95  </td><td>3.92 </td><td>3.150</td><td>22.90</td><td>1    </td><td>0    </td><td>4    </td><td>2    </td></tr>\n",
       "\t<tr><th scope=row>Merc 280</th><td>19.2 </td><td>6    </td><td>167.6</td><td>123  </td><td>3.92 </td><td>3.440</td><td>18.30</td><td>1    </td><td>0    </td><td>4    </td><td>4    </td></tr>\n",
       "\t<tr><th scope=row>Merc 280C</th><td>17.8 </td><td>6    </td><td>167.6</td><td>123  </td><td>3.92 </td><td>3.440</td><td>18.90</td><td>1    </td><td>0    </td><td>4    </td><td>4    </td></tr>\n",
       "\t<tr><th scope=row>Merc 450SE</th><td>16.4 </td><td>8    </td><td>275.8</td><td>180  </td><td>3.07 </td><td>4.070</td><td>17.40</td><td>0    </td><td>0    </td><td>3    </td><td>3    </td></tr>\n",
       "\t<tr><th scope=row>Merc 450SL</th><td>17.3 </td><td>8    </td><td>275.8</td><td>180  </td><td>3.07 </td><td>3.730</td><td>17.60</td><td>0    </td><td>0    </td><td>3    </td><td>3    </td></tr>\n",
       "\t<tr><th scope=row>Merc 450SLC</th><td>15.2 </td><td>8    </td><td>275.8</td><td>180  </td><td>3.07 </td><td>3.780</td><td>18.00</td><td>0    </td><td>0    </td><td>3    </td><td>3    </td></tr>\n",
       "\t<tr><th scope=row>Cadillac Fleetwood</th><td>10.4 </td><td>8    </td><td>472.0</td><td>205  </td><td>2.93 </td><td>5.250</td><td>17.98</td><td>0    </td><td>0    </td><td>3    </td><td>4    </td></tr>\n",
       "\t<tr><th scope=row>Lincoln Continental</th><td>10.4 </td><td>8    </td><td>460.0</td><td>215  </td><td>3.00 </td><td>5.424</td><td>17.82</td><td>0    </td><td>0    </td><td>3    </td><td>4    </td></tr>\n",
       "\t<tr><th scope=row>Chrysler Imperial</th><td>14.7 </td><td>8    </td><td>440.0</td><td>230  </td><td>3.23 </td><td>5.345</td><td>17.42</td><td>0    </td><td>0    </td><td>3    </td><td>4    </td></tr>\n",
       "\t<tr><th scope=row>Fiat 128</th><td>32.4 </td><td>4    </td><td> 78.7</td><td> 66  </td><td>4.08 </td><td>2.200</td><td>19.47</td><td>1    </td><td>1    </td><td>4    </td><td>1    </td></tr>\n",
       "\t<tr><th scope=row>Honda Civic</th><td>30.4 </td><td>4    </td><td> 75.7</td><td> 52  </td><td>4.93 </td><td>1.615</td><td>18.52</td><td>1    </td><td>1    </td><td>4    </td><td>2    </td></tr>\n",
       "\t<tr><th scope=row>Toyota Corolla</th><td>33.9 </td><td>4    </td><td> 71.1</td><td> 65  </td><td>4.22 </td><td>1.835</td><td>19.90</td><td>1    </td><td>1    </td><td>4    </td><td>1    </td></tr>\n",
       "\t<tr><th scope=row>Toyota Corona</th><td>21.5 </td><td>4    </td><td>120.1</td><td> 97  </td><td>3.70 </td><td>2.465</td><td>20.01</td><td>1    </td><td>0    </td><td>3    </td><td>1    </td></tr>\n",
       "\t<tr><th scope=row>Dodge Challenger</th><td>15.5 </td><td>8    </td><td>318.0</td><td>150  </td><td>2.76 </td><td>3.520</td><td>16.87</td><td>0    </td><td>0    </td><td>3    </td><td>2    </td></tr>\n",
       "\t<tr><th scope=row>AMC Javelin</th><td>15.2 </td><td>8    </td><td>304.0</td><td>150  </td><td>3.15 </td><td>3.435</td><td>17.30</td><td>0    </td><td>0    </td><td>3    </td><td>2    </td></tr>\n",
       "\t<tr><th scope=row>Camaro Z28</th><td>13.3 </td><td>8    </td><td>350.0</td><td>245  </td><td>3.73 </td><td>3.840</td><td>15.41</td><td>0    </td><td>0    </td><td>3    </td><td>4    </td></tr>\n",
       "\t<tr><th scope=row>Pontiac Firebird</th><td>19.2 </td><td>8    </td><td>400.0</td><td>175  </td><td>3.08 </td><td>3.845</td><td>17.05</td><td>0    </td><td>0    </td><td>3    </td><td>2    </td></tr>\n",
       "\t<tr><th scope=row>Fiat X1-9</th><td>27.3 </td><td>4    </td><td> 79.0</td><td> 66  </td><td>4.08 </td><td>1.935</td><td>18.90</td><td>1    </td><td>1    </td><td>4    </td><td>1    </td></tr>\n",
       "\t<tr><th scope=row>Porsche 914-2</th><td>26.0 </td><td>4    </td><td>120.3</td><td> 91  </td><td>4.43 </td><td>2.140</td><td>16.70</td><td>0    </td><td>1    </td><td>5    </td><td>2    </td></tr>\n",
       "\t<tr><th scope=row>Lotus Europa</th><td>30.4 </td><td>4    </td><td> 95.1</td><td>113  </td><td>3.77 </td><td>1.513</td><td>16.90</td><td>1    </td><td>1    </td><td>5    </td><td>2    </td></tr>\n",
       "\t<tr><th scope=row>Ford Pantera L</th><td>15.8 </td><td>8    </td><td>351.0</td><td>264  </td><td>4.22 </td><td>3.170</td><td>14.50</td><td>0    </td><td>1    </td><td>5    </td><td>4    </td></tr>\n",
       "\t<tr><th scope=row>Ferrari Dino</th><td>19.7 </td><td>6    </td><td>145.0</td><td>175  </td><td>3.62 </td><td>2.770</td><td>15.50</td><td>0    </td><td>1    </td><td>5    </td><td>6    </td></tr>\n",
       "\t<tr><th scope=row>Maserati Bora</th><td>15.0 </td><td>8    </td><td>301.0</td><td>335  </td><td>3.54 </td><td>3.570</td><td>14.60</td><td>0    </td><td>1    </td><td>5    </td><td>8    </td></tr>\n",
       "\t<tr><th scope=row>Volvo 142E</th><td>21.4 </td><td>4    </td><td>121.0</td><td>109  </td><td>4.11 </td><td>2.780</td><td>18.60</td><td>1    </td><td>1    </td><td>4    </td><td>2    </td></tr>\n",
       "</tbody>\n",
       "</table>\n"
      ],
      "text/latex": [
       "\\begin{tabular}{r|lllllllllll}\n",
       "  & mpg & cyl & disp & hp & drat & wt & qsec & vs & am & gear & carb\\\\\n",
       "\\hline\n",
       "\tMazda RX4 & 21.0  & 6     & 160.0 & 110   & 3.90  & 2.620 & 16.46 & 0     & 1     & 4     & 4    \\\\\n",
       "\tMazda RX4 Wag & 21.0  & 6     & 160.0 & 110   & 3.90  & 2.875 & 17.02 & 0     & 1     & 4     & 4    \\\\\n",
       "\tDatsun 710 & 22.8  & 4     & 108.0 &  93   & 3.85  & 2.320 & 18.61 & 1     & 1     & 4     & 1    \\\\\n",
       "\tHornet 4 Drive & 21.4  & 6     & 258.0 & 110   & 3.08  & 3.215 & 19.44 & 1     & 0     & 3     & 1    \\\\\n",
       "\tHornet Sportabout & 18.7  & 8     & 360.0 & 175   & 3.15  & 3.440 & 17.02 & 0     & 0     & 3     & 2    \\\\\n",
       "\tValiant & 18.1  & 6     & 225.0 & 105   & 2.76  & 3.460 & 20.22 & 1     & 0     & 3     & 1    \\\\\n",
       "\tDuster 360 & 14.3  & 8     & 360.0 & 245   & 3.21  & 3.570 & 15.84 & 0     & 0     & 3     & 4    \\\\\n",
       "\tMerc 240D & 24.4  & 4     & 146.7 &  62   & 3.69  & 3.190 & 20.00 & 1     & 0     & 4     & 2    \\\\\n",
       "\tMerc 230 & 22.8  & 4     & 140.8 &  95   & 3.92  & 3.150 & 22.90 & 1     & 0     & 4     & 2    \\\\\n",
       "\tMerc 280 & 19.2  & 6     & 167.6 & 123   & 3.92  & 3.440 & 18.30 & 1     & 0     & 4     & 4    \\\\\n",
       "\tMerc 280C & 17.8  & 6     & 167.6 & 123   & 3.92  & 3.440 & 18.90 & 1     & 0     & 4     & 4    \\\\\n",
       "\tMerc 450SE & 16.4  & 8     & 275.8 & 180   & 3.07  & 4.070 & 17.40 & 0     & 0     & 3     & 3    \\\\\n",
       "\tMerc 450SL & 17.3  & 8     & 275.8 & 180   & 3.07  & 3.730 & 17.60 & 0     & 0     & 3     & 3    \\\\\n",
       "\tMerc 450SLC & 15.2  & 8     & 275.8 & 180   & 3.07  & 3.780 & 18.00 & 0     & 0     & 3     & 3    \\\\\n",
       "\tCadillac Fleetwood & 10.4  & 8     & 472.0 & 205   & 2.93  & 5.250 & 17.98 & 0     & 0     & 3     & 4    \\\\\n",
       "\tLincoln Continental & 10.4  & 8     & 460.0 & 215   & 3.00  & 5.424 & 17.82 & 0     & 0     & 3     & 4    \\\\\n",
       "\tChrysler Imperial & 14.7  & 8     & 440.0 & 230   & 3.23  & 5.345 & 17.42 & 0     & 0     & 3     & 4    \\\\\n",
       "\tFiat 128 & 32.4  & 4     &  78.7 &  66   & 4.08  & 2.200 & 19.47 & 1     & 1     & 4     & 1    \\\\\n",
       "\tHonda Civic & 30.4  & 4     &  75.7 &  52   & 4.93  & 1.615 & 18.52 & 1     & 1     & 4     & 2    \\\\\n",
       "\tToyota Corolla & 33.9  & 4     &  71.1 &  65   & 4.22  & 1.835 & 19.90 & 1     & 1     & 4     & 1    \\\\\n",
       "\tToyota Corona & 21.5  & 4     & 120.1 &  97   & 3.70  & 2.465 & 20.01 & 1     & 0     & 3     & 1    \\\\\n",
       "\tDodge Challenger & 15.5  & 8     & 318.0 & 150   & 2.76  & 3.520 & 16.87 & 0     & 0     & 3     & 2    \\\\\n",
       "\tAMC Javelin & 15.2  & 8     & 304.0 & 150   & 3.15  & 3.435 & 17.30 & 0     & 0     & 3     & 2    \\\\\n",
       "\tCamaro Z28 & 13.3  & 8     & 350.0 & 245   & 3.73  & 3.840 & 15.41 & 0     & 0     & 3     & 4    \\\\\n",
       "\tPontiac Firebird & 19.2  & 8     & 400.0 & 175   & 3.08  & 3.845 & 17.05 & 0     & 0     & 3     & 2    \\\\\n",
       "\tFiat X1-9 & 27.3  & 4     &  79.0 &  66   & 4.08  & 1.935 & 18.90 & 1     & 1     & 4     & 1    \\\\\n",
       "\tPorsche 914-2 & 26.0  & 4     & 120.3 &  91   & 4.43  & 2.140 & 16.70 & 0     & 1     & 5     & 2    \\\\\n",
       "\tLotus Europa & 30.4  & 4     &  95.1 & 113   & 3.77  & 1.513 & 16.90 & 1     & 1     & 5     & 2    \\\\\n",
       "\tFord Pantera L & 15.8  & 8     & 351.0 & 264   & 4.22  & 3.170 & 14.50 & 0     & 1     & 5     & 4    \\\\\n",
       "\tFerrari Dino & 19.7  & 6     & 145.0 & 175   & 3.62  & 2.770 & 15.50 & 0     & 1     & 5     & 6    \\\\\n",
       "\tMaserati Bora & 15.0  & 8     & 301.0 & 335   & 3.54  & 3.570 & 14.60 & 0     & 1     & 5     & 8    \\\\\n",
       "\tVolvo 142E & 21.4  & 4     & 121.0 & 109   & 4.11  & 2.780 & 18.60 & 1     & 1     & 4     & 2    \\\\\n",
       "\\end{tabular}\n"
      ],
      "text/markdown": [
       "\n",
       "| <!--/--> | mpg | cyl | disp | hp | drat | wt | qsec | vs | am | gear | carb | \n",
       "|---|---|---|---|---|---|---|---|---|---|---|---|---|---|---|---|---|---|---|---|---|---|---|---|---|---|---|---|---|---|---|---|\n",
       "| Mazda RX4 | 21.0  | 6     | 160.0 | 110   | 3.90  | 2.620 | 16.46 | 0     | 1     | 4     | 4     | \n",
       "| Mazda RX4 Wag | 21.0  | 6     | 160.0 | 110   | 3.90  | 2.875 | 17.02 | 0     | 1     | 4     | 4     | \n",
       "| Datsun 710 | 22.8  | 4     | 108.0 |  93   | 3.85  | 2.320 | 18.61 | 1     | 1     | 4     | 1     | \n",
       "| Hornet 4 Drive | 21.4  | 6     | 258.0 | 110   | 3.08  | 3.215 | 19.44 | 1     | 0     | 3     | 1     | \n",
       "| Hornet Sportabout | 18.7  | 8     | 360.0 | 175   | 3.15  | 3.440 | 17.02 | 0     | 0     | 3     | 2     | \n",
       "| Valiant | 18.1  | 6     | 225.0 | 105   | 2.76  | 3.460 | 20.22 | 1     | 0     | 3     | 1     | \n",
       "| Duster 360 | 14.3  | 8     | 360.0 | 245   | 3.21  | 3.570 | 15.84 | 0     | 0     | 3     | 4     | \n",
       "| Merc 240D | 24.4  | 4     | 146.7 |  62   | 3.69  | 3.190 | 20.00 | 1     | 0     | 4     | 2     | \n",
       "| Merc 230 | 22.8  | 4     | 140.8 |  95   | 3.92  | 3.150 | 22.90 | 1     | 0     | 4     | 2     | \n",
       "| Merc 280 | 19.2  | 6     | 167.6 | 123   | 3.92  | 3.440 | 18.30 | 1     | 0     | 4     | 4     | \n",
       "| Merc 280C | 17.8  | 6     | 167.6 | 123   | 3.92  | 3.440 | 18.90 | 1     | 0     | 4     | 4     | \n",
       "| Merc 450SE | 16.4  | 8     | 275.8 | 180   | 3.07  | 4.070 | 17.40 | 0     | 0     | 3     | 3     | \n",
       "| Merc 450SL | 17.3  | 8     | 275.8 | 180   | 3.07  | 3.730 | 17.60 | 0     | 0     | 3     | 3     | \n",
       "| Merc 450SLC | 15.2  | 8     | 275.8 | 180   | 3.07  | 3.780 | 18.00 | 0     | 0     | 3     | 3     | \n",
       "| Cadillac Fleetwood | 10.4  | 8     | 472.0 | 205   | 2.93  | 5.250 | 17.98 | 0     | 0     | 3     | 4     | \n",
       "| Lincoln Continental | 10.4  | 8     | 460.0 | 215   | 3.00  | 5.424 | 17.82 | 0     | 0     | 3     | 4     | \n",
       "| Chrysler Imperial | 14.7  | 8     | 440.0 | 230   | 3.23  | 5.345 | 17.42 | 0     | 0     | 3     | 4     | \n",
       "| Fiat 128 | 32.4  | 4     |  78.7 |  66   | 4.08  | 2.200 | 19.47 | 1     | 1     | 4     | 1     | \n",
       "| Honda Civic | 30.4  | 4     |  75.7 |  52   | 4.93  | 1.615 | 18.52 | 1     | 1     | 4     | 2     | \n",
       "| Toyota Corolla | 33.9  | 4     |  71.1 |  65   | 4.22  | 1.835 | 19.90 | 1     | 1     | 4     | 1     | \n",
       "| Toyota Corona | 21.5  | 4     | 120.1 |  97   | 3.70  | 2.465 | 20.01 | 1     | 0     | 3     | 1     | \n",
       "| Dodge Challenger | 15.5  | 8     | 318.0 | 150   | 2.76  | 3.520 | 16.87 | 0     | 0     | 3     | 2     | \n",
       "| AMC Javelin | 15.2  | 8     | 304.0 | 150   | 3.15  | 3.435 | 17.30 | 0     | 0     | 3     | 2     | \n",
       "| Camaro Z28 | 13.3  | 8     | 350.0 | 245   | 3.73  | 3.840 | 15.41 | 0     | 0     | 3     | 4     | \n",
       "| Pontiac Firebird | 19.2  | 8     | 400.0 | 175   | 3.08  | 3.845 | 17.05 | 0     | 0     | 3     | 2     | \n",
       "| Fiat X1-9 | 27.3  | 4     |  79.0 |  66   | 4.08  | 1.935 | 18.90 | 1     | 1     | 4     | 1     | \n",
       "| Porsche 914-2 | 26.0  | 4     | 120.3 |  91   | 4.43  | 2.140 | 16.70 | 0     | 1     | 5     | 2     | \n",
       "| Lotus Europa | 30.4  | 4     |  95.1 | 113   | 3.77  | 1.513 | 16.90 | 1     | 1     | 5     | 2     | \n",
       "| Ford Pantera L | 15.8  | 8     | 351.0 | 264   | 4.22  | 3.170 | 14.50 | 0     | 1     | 5     | 4     | \n",
       "| Ferrari Dino | 19.7  | 6     | 145.0 | 175   | 3.62  | 2.770 | 15.50 | 0     | 1     | 5     | 6     | \n",
       "| Maserati Bora | 15.0  | 8     | 301.0 | 335   | 3.54  | 3.570 | 14.60 | 0     | 1     | 5     | 8     | \n",
       "| Volvo 142E | 21.4  | 4     | 121.0 | 109   | 4.11  | 2.780 | 18.60 | 1     | 1     | 4     | 2     | \n",
       "\n",
       "\n"
      ],
      "text/plain": [
       "                    mpg  cyl disp  hp  drat wt    qsec  vs am gear carb\n",
       "Mazda RX4           21.0 6   160.0 110 3.90 2.620 16.46 0  1  4    4   \n",
       "Mazda RX4 Wag       21.0 6   160.0 110 3.90 2.875 17.02 0  1  4    4   \n",
       "Datsun 710          22.8 4   108.0  93 3.85 2.320 18.61 1  1  4    1   \n",
       "Hornet 4 Drive      21.4 6   258.0 110 3.08 3.215 19.44 1  0  3    1   \n",
       "Hornet Sportabout   18.7 8   360.0 175 3.15 3.440 17.02 0  0  3    2   \n",
       "Valiant             18.1 6   225.0 105 2.76 3.460 20.22 1  0  3    1   \n",
       "Duster 360          14.3 8   360.0 245 3.21 3.570 15.84 0  0  3    4   \n",
       "Merc 240D           24.4 4   146.7  62 3.69 3.190 20.00 1  0  4    2   \n",
       "Merc 230            22.8 4   140.8  95 3.92 3.150 22.90 1  0  4    2   \n",
       "Merc 280            19.2 6   167.6 123 3.92 3.440 18.30 1  0  4    4   \n",
       "Merc 280C           17.8 6   167.6 123 3.92 3.440 18.90 1  0  4    4   \n",
       "Merc 450SE          16.4 8   275.8 180 3.07 4.070 17.40 0  0  3    3   \n",
       "Merc 450SL          17.3 8   275.8 180 3.07 3.730 17.60 0  0  3    3   \n",
       "Merc 450SLC         15.2 8   275.8 180 3.07 3.780 18.00 0  0  3    3   \n",
       "Cadillac Fleetwood  10.4 8   472.0 205 2.93 5.250 17.98 0  0  3    4   \n",
       "Lincoln Continental 10.4 8   460.0 215 3.00 5.424 17.82 0  0  3    4   \n",
       "Chrysler Imperial   14.7 8   440.0 230 3.23 5.345 17.42 0  0  3    4   \n",
       "Fiat 128            32.4 4    78.7  66 4.08 2.200 19.47 1  1  4    1   \n",
       "Honda Civic         30.4 4    75.7  52 4.93 1.615 18.52 1  1  4    2   \n",
       "Toyota Corolla      33.9 4    71.1  65 4.22 1.835 19.90 1  1  4    1   \n",
       "Toyota Corona       21.5 4   120.1  97 3.70 2.465 20.01 1  0  3    1   \n",
       "Dodge Challenger    15.5 8   318.0 150 2.76 3.520 16.87 0  0  3    2   \n",
       "AMC Javelin         15.2 8   304.0 150 3.15 3.435 17.30 0  0  3    2   \n",
       "Camaro Z28          13.3 8   350.0 245 3.73 3.840 15.41 0  0  3    4   \n",
       "Pontiac Firebird    19.2 8   400.0 175 3.08 3.845 17.05 0  0  3    2   \n",
       "Fiat X1-9           27.3 4    79.0  66 4.08 1.935 18.90 1  1  4    1   \n",
       "Porsche 914-2       26.0 4   120.3  91 4.43 2.140 16.70 0  1  5    2   \n",
       "Lotus Europa        30.4 4    95.1 113 3.77 1.513 16.90 1  1  5    2   \n",
       "Ford Pantera L      15.8 8   351.0 264 4.22 3.170 14.50 0  1  5    4   \n",
       "Ferrari Dino        19.7 6   145.0 175 3.62 2.770 15.50 0  1  5    6   \n",
       "Maserati Bora       15.0 8   301.0 335 3.54 3.570 14.60 0  1  5    8   \n",
       "Volvo 142E          21.4 4   121.0 109 4.11 2.780 18.60 1  1  4    2   "
      ]
     },
     "metadata": {},
     "output_type": "display_data"
    }
   ],
   "source": [
    "as.data.frame(mtcars)"
   ]
  },
  {
   "cell_type": "markdown",
   "metadata": {},
   "source": [
    "**Ex 4: Set the built-in data frame mtcars as a variable df. We'll use this df variable for the rest of the exercises.**"
   ]
  },
  {
   "cell_type": "code",
   "execution_count": 4,
   "metadata": {
    "ExecuteTime": {
     "end_time": "2017-04-08T17:37:27.192451",
     "start_time": "2017-04-08T14:37:26.767Z"
    },
    "collapsed": false
   },
   "outputs": [],
   "source": [
    "df <-as.data.frame(mtcars)"
   ]
  },
  {
   "cell_type": "markdown",
   "metadata": {},
   "source": [
    "**Ex 5: Display the first 6 rows of df**"
   ]
  },
  {
   "cell_type": "code",
   "execution_count": 17,
   "metadata": {
    "ExecuteTime": {
     "end_time": "2017-04-08T17:39:33.742342",
     "start_time": "2017-04-08T14:39:33.694Z"
    },
    "collapsed": false
   },
   "outputs": [
    {
     "data": {
      "text/html": [
       "<table>\n",
       "<thead><tr><th></th><th scope=col>mpg</th><th scope=col>cyl</th><th scope=col>disp</th><th scope=col>hp</th><th scope=col>drat</th><th scope=col>wt</th><th scope=col>qsec</th><th scope=col>vs</th><th scope=col>am</th><th scope=col>gear</th><th scope=col>carb</th><th scope=col>performance</th></tr></thead>\n",
       "<tbody>\n",
       "\t<tr><th scope=row>Mazda RX4</th><td>21.0    </td><td>6       </td><td>160     </td><td>110     </td><td>3.90    </td><td>2.620   </td><td>16.46   </td><td>0       </td><td>1       </td><td>4       </td><td>4       </td><td>41.98473</td></tr>\n",
       "\t<tr><th scope=row>Mazda RX4 Wag</th><td>21.0    </td><td>6       </td><td>160     </td><td>110     </td><td>3.90    </td><td>2.875   </td><td>17.02   </td><td>0       </td><td>1       </td><td>4       </td><td>4       </td><td>38.26087</td></tr>\n",
       "\t<tr><th scope=row>Datsun 710</th><td>22.8    </td><td>4       </td><td>108     </td><td> 93     </td><td>3.85    </td><td>2.320   </td><td>18.61   </td><td>1       </td><td>1       </td><td>4       </td><td>1       </td><td>40.08621</td></tr>\n",
       "\t<tr><th scope=row>Hornet 4 Drive</th><td>21.4    </td><td>6       </td><td>258     </td><td>110     </td><td>3.08    </td><td>3.215   </td><td>19.44   </td><td>1       </td><td>0       </td><td>3       </td><td>1       </td><td>34.21462</td></tr>\n",
       "\t<tr><th scope=row>Hornet Sportabout</th><td>18.7    </td><td>8       </td><td>360     </td><td>175     </td><td>3.15    </td><td>3.440   </td><td>17.02   </td><td>0       </td><td>0       </td><td>3       </td><td>2       </td><td>50.87209</td></tr>\n",
       "\t<tr><th scope=row>Valiant</th><td>18.1    </td><td>6       </td><td>225     </td><td>105     </td><td>2.76    </td><td>3.460   </td><td>20.22   </td><td>1       </td><td>0       </td><td>3       </td><td>1       </td><td>30.34682</td></tr>\n",
       "</tbody>\n",
       "</table>\n"
      ],
      "text/latex": [
       "\\begin{tabular}{r|llllllllllll}\n",
       "  & mpg & cyl & disp & hp & drat & wt & qsec & vs & am & gear & carb & performance\\\\\n",
       "\\hline\n",
       "\tMazda RX4 & 21.0     & 6        & 160      & 110      & 3.90     & 2.620    & 16.46    & 0        & 1        & 4        & 4        & 41.98473\\\\\n",
       "\tMazda RX4 Wag & 21.0     & 6        & 160      & 110      & 3.90     & 2.875    & 17.02    & 0        & 1        & 4        & 4        & 38.26087\\\\\n",
       "\tDatsun 710 & 22.8     & 4        & 108      &  93      & 3.85     & 2.320    & 18.61    & 1        & 1        & 4        & 1        & 40.08621\\\\\n",
       "\tHornet 4 Drive & 21.4     & 6        & 258      & 110      & 3.08     & 3.215    & 19.44    & 1        & 0        & 3        & 1        & 34.21462\\\\\n",
       "\tHornet Sportabout & 18.7     & 8        & 360      & 175      & 3.15     & 3.440    & 17.02    & 0        & 0        & 3        & 2        & 50.87209\\\\\n",
       "\tValiant & 18.1     & 6        & 225      & 105      & 2.76     & 3.460    & 20.22    & 1        & 0        & 3        & 1        & 30.34682\\\\\n",
       "\\end{tabular}\n"
      ],
      "text/markdown": [
       "\n",
       "| <!--/--> | mpg | cyl | disp | hp | drat | wt | qsec | vs | am | gear | carb | performance | \n",
       "|---|---|---|---|---|---|\n",
       "| Mazda RX4 | 21.0     | 6        | 160      | 110      | 3.90     | 2.620    | 16.46    | 0        | 1        | 4        | 4        | 41.98473 | \n",
       "| Mazda RX4 Wag | 21.0     | 6        | 160      | 110      | 3.90     | 2.875    | 17.02    | 0        | 1        | 4        | 4        | 38.26087 | \n",
       "| Datsun 710 | 22.8     | 4        | 108      |  93      | 3.85     | 2.320    | 18.61    | 1        | 1        | 4        | 1        | 40.08621 | \n",
       "| Hornet 4 Drive | 21.4     | 6        | 258      | 110      | 3.08     | 3.215    | 19.44    | 1        | 0        | 3        | 1        | 34.21462 | \n",
       "| Hornet Sportabout | 18.7     | 8        | 360      | 175      | 3.15     | 3.440    | 17.02    | 0        | 0        | 3        | 2        | 50.87209 | \n",
       "| Valiant | 18.1     | 6        | 225      | 105      | 2.76     | 3.460    | 20.22    | 1        | 0        | 3        | 1        | 30.34682 | \n",
       "\n",
       "\n"
      ],
      "text/plain": [
       "                  mpg  cyl disp hp  drat wt    qsec  vs am gear carb\n",
       "Mazda RX4         21.0 6   160  110 3.90 2.620 16.46 0  1  4    4   \n",
       "Mazda RX4 Wag     21.0 6   160  110 3.90 2.875 17.02 0  1  4    4   \n",
       "Datsun 710        22.8 4   108   93 3.85 2.320 18.61 1  1  4    1   \n",
       "Hornet 4 Drive    21.4 6   258  110 3.08 3.215 19.44 1  0  3    1   \n",
       "Hornet Sportabout 18.7 8   360  175 3.15 3.440 17.02 0  0  3    2   \n",
       "Valiant           18.1 6   225  105 2.76 3.460 20.22 1  0  3    1   \n",
       "                  performance\n",
       "Mazda RX4         41.98473   \n",
       "Mazda RX4 Wag     38.26087   \n",
       "Datsun 710        40.08621   \n",
       "Hornet 4 Drive    34.21462   \n",
       "Hornet Sportabout 50.87209   \n",
       "Valiant           30.34682   "
      ]
     },
     "metadata": {},
     "output_type": "display_data"
    }
   ],
   "source": [
    "df[1:6,] # 1:6, 1:ncol(df)"
   ]
  },
  {
   "cell_type": "markdown",
   "metadata": {},
   "source": [
    "**Ex 6: What is the average mpg value for all the cars?**"
   ]
  },
  {
   "cell_type": "code",
   "execution_count": 6,
   "metadata": {
    "ExecuteTime": {
     "end_time": "2017-04-08T17:37:27.329516",
     "start_time": "2017-04-08T14:37:26.776Z"
    },
    "collapsed": false,
    "scrolled": true
   },
   "outputs": [
    {
     "data": {
      "text/html": [
       "<strong>mpg:</strong> 20.090625"
      ],
      "text/latex": [
       "\\textbf{mpg:} 20.090625"
      ],
      "text/markdown": [
       "**mpg:** 20.090625"
      ],
      "text/plain": [
       "     mpg \n",
       "20.09062 "
      ]
     },
     "metadata": {},
     "output_type": "display_data"
    }
   ],
   "source": [
    "colMeans(df['mpg'])"
   ]
  },
  {
   "cell_type": "markdown",
   "metadata": {},
   "source": [
    "**Ex 7: Select the rows where all cars have 6 cylinders (cyl column)**"
   ]
  },
  {
   "cell_type": "code",
   "execution_count": 7,
   "metadata": {
    "ExecuteTime": {
     "end_time": "2017-04-08T17:37:27.422733",
     "start_time": "2017-04-08T14:37:26.782Z"
    },
    "collapsed": false
   },
   "outputs": [
    {
     "data": {
      "text/html": [
       "<table>\n",
       "<thead><tr><th></th><th scope=col>mpg</th><th scope=col>cyl</th><th scope=col>disp</th><th scope=col>hp</th><th scope=col>drat</th><th scope=col>wt</th><th scope=col>qsec</th><th scope=col>vs</th><th scope=col>am</th><th scope=col>gear</th><th scope=col>carb</th></tr></thead>\n",
       "<tbody>\n",
       "\t<tr><th scope=row>Mazda RX4</th><td>21.0 </td><td>6    </td><td>160.0</td><td>110  </td><td>3.90 </td><td>2.620</td><td>16.46</td><td>0    </td><td>1    </td><td>4    </td><td>4    </td></tr>\n",
       "\t<tr><th scope=row>Mazda RX4 Wag</th><td>21.0 </td><td>6    </td><td>160.0</td><td>110  </td><td>3.90 </td><td>2.875</td><td>17.02</td><td>0    </td><td>1    </td><td>4    </td><td>4    </td></tr>\n",
       "\t<tr><th scope=row>Hornet 4 Drive</th><td>21.4 </td><td>6    </td><td>258.0</td><td>110  </td><td>3.08 </td><td>3.215</td><td>19.44</td><td>1    </td><td>0    </td><td>3    </td><td>1    </td></tr>\n",
       "\t<tr><th scope=row>Valiant</th><td>18.1 </td><td>6    </td><td>225.0</td><td>105  </td><td>2.76 </td><td>3.460</td><td>20.22</td><td>1    </td><td>0    </td><td>3    </td><td>1    </td></tr>\n",
       "\t<tr><th scope=row>Merc 280</th><td>19.2 </td><td>6    </td><td>167.6</td><td>123  </td><td>3.92 </td><td>3.440</td><td>18.30</td><td>1    </td><td>0    </td><td>4    </td><td>4    </td></tr>\n",
       "\t<tr><th scope=row>Merc 280C</th><td>17.8 </td><td>6    </td><td>167.6</td><td>123  </td><td>3.92 </td><td>3.440</td><td>18.90</td><td>1    </td><td>0    </td><td>4    </td><td>4    </td></tr>\n",
       "\t<tr><th scope=row>Ferrari Dino</th><td>19.7 </td><td>6    </td><td>145.0</td><td>175  </td><td>3.62 </td><td>2.770</td><td>15.50</td><td>0    </td><td>1    </td><td>5    </td><td>6    </td></tr>\n",
       "</tbody>\n",
       "</table>\n"
      ],
      "text/latex": [
       "\\begin{tabular}{r|lllllllllll}\n",
       "  & mpg & cyl & disp & hp & drat & wt & qsec & vs & am & gear & carb\\\\\n",
       "\\hline\n",
       "\tMazda RX4 & 21.0  & 6     & 160.0 & 110   & 3.90  & 2.620 & 16.46 & 0     & 1     & 4     & 4    \\\\\n",
       "\tMazda RX4 Wag & 21.0  & 6     & 160.0 & 110   & 3.90  & 2.875 & 17.02 & 0     & 1     & 4     & 4    \\\\\n",
       "\tHornet 4 Drive & 21.4  & 6     & 258.0 & 110   & 3.08  & 3.215 & 19.44 & 1     & 0     & 3     & 1    \\\\\n",
       "\tValiant & 18.1  & 6     & 225.0 & 105   & 2.76  & 3.460 & 20.22 & 1     & 0     & 3     & 1    \\\\\n",
       "\tMerc 280 & 19.2  & 6     & 167.6 & 123   & 3.92  & 3.440 & 18.30 & 1     & 0     & 4     & 4    \\\\\n",
       "\tMerc 280C & 17.8  & 6     & 167.6 & 123   & 3.92  & 3.440 & 18.90 & 1     & 0     & 4     & 4    \\\\\n",
       "\tFerrari Dino & 19.7  & 6     & 145.0 & 175   & 3.62  & 2.770 & 15.50 & 0     & 1     & 5     & 6    \\\\\n",
       "\\end{tabular}\n"
      ],
      "text/markdown": [
       "\n",
       "| <!--/--> | mpg | cyl | disp | hp | drat | wt | qsec | vs | am | gear | carb | \n",
       "|---|---|---|---|---|---|---|\n",
       "| Mazda RX4 | 21.0  | 6     | 160.0 | 110   | 3.90  | 2.620 | 16.46 | 0     | 1     | 4     | 4     | \n",
       "| Mazda RX4 Wag | 21.0  | 6     | 160.0 | 110   | 3.90  | 2.875 | 17.02 | 0     | 1     | 4     | 4     | \n",
       "| Hornet 4 Drive | 21.4  | 6     | 258.0 | 110   | 3.08  | 3.215 | 19.44 | 1     | 0     | 3     | 1     | \n",
       "| Valiant | 18.1  | 6     | 225.0 | 105   | 2.76  | 3.460 | 20.22 | 1     | 0     | 3     | 1     | \n",
       "| Merc 280 | 19.2  | 6     | 167.6 | 123   | 3.92  | 3.440 | 18.30 | 1     | 0     | 4     | 4     | \n",
       "| Merc 280C | 17.8  | 6     | 167.6 | 123   | 3.92  | 3.440 | 18.90 | 1     | 0     | 4     | 4     | \n",
       "| Ferrari Dino | 19.7  | 6     | 145.0 | 175   | 3.62  | 2.770 | 15.50 | 0     | 1     | 5     | 6     | \n",
       "\n",
       "\n"
      ],
      "text/plain": [
       "               mpg  cyl disp  hp  drat wt    qsec  vs am gear carb\n",
       "Mazda RX4      21.0 6   160.0 110 3.90 2.620 16.46 0  1  4    4   \n",
       "Mazda RX4 Wag  21.0 6   160.0 110 3.90 2.875 17.02 0  1  4    4   \n",
       "Hornet 4 Drive 21.4 6   258.0 110 3.08 3.215 19.44 1  0  3    1   \n",
       "Valiant        18.1 6   225.0 105 2.76 3.460 20.22 1  0  3    1   \n",
       "Merc 280       19.2 6   167.6 123 3.92 3.440 18.30 1  0  4    4   \n",
       "Merc 280C      17.8 6   167.6 123 3.92 3.440 18.90 1  0  4    4   \n",
       "Ferrari Dino   19.7 6   145.0 175 3.62 2.770 15.50 0  1  5    6   "
      ]
     },
     "metadata": {},
     "output_type": "display_data"
    }
   ],
   "source": [
    "#subset(df, cyl == 6)\n",
    "\n",
    "df[df$cyl == 6,]"
   ]
  },
  {
   "cell_type": "markdown",
   "metadata": {},
   "source": [
    "**Ex 8:Select the columns am,gear, and carb.**"
   ]
  },
  {
   "cell_type": "code",
   "execution_count": 8,
   "metadata": {
    "ExecuteTime": {
     "end_time": "2017-04-08T17:37:27.516352",
     "start_time": "2017-04-08T14:37:26.787Z"
    },
    "collapsed": false
   },
   "outputs": [
    {
     "data": {
      "text/html": [
       "<table>\n",
       "<thead><tr><th></th><th scope=col>am</th><th scope=col>gear</th><th scope=col>carb</th></tr></thead>\n",
       "<tbody>\n",
       "\t<tr><th scope=row>Mazda RX4</th><td>1</td><td>4</td><td>4</td></tr>\n",
       "\t<tr><th scope=row>Mazda RX4 Wag</th><td>1</td><td>4</td><td>4</td></tr>\n",
       "\t<tr><th scope=row>Datsun 710</th><td>1</td><td>4</td><td>1</td></tr>\n",
       "\t<tr><th scope=row>Hornet 4 Drive</th><td>0</td><td>3</td><td>1</td></tr>\n",
       "\t<tr><th scope=row>Hornet Sportabout</th><td>0</td><td>3</td><td>2</td></tr>\n",
       "\t<tr><th scope=row>Valiant</th><td>0</td><td>3</td><td>1</td></tr>\n",
       "\t<tr><th scope=row>Duster 360</th><td>0</td><td>3</td><td>4</td></tr>\n",
       "\t<tr><th scope=row>Merc 240D</th><td>0</td><td>4</td><td>2</td></tr>\n",
       "\t<tr><th scope=row>Merc 230</th><td>0</td><td>4</td><td>2</td></tr>\n",
       "\t<tr><th scope=row>Merc 280</th><td>0</td><td>4</td><td>4</td></tr>\n",
       "\t<tr><th scope=row>Merc 280C</th><td>0</td><td>4</td><td>4</td></tr>\n",
       "\t<tr><th scope=row>Merc 450SE</th><td>0</td><td>3</td><td>3</td></tr>\n",
       "\t<tr><th scope=row>Merc 450SL</th><td>0</td><td>3</td><td>3</td></tr>\n",
       "\t<tr><th scope=row>Merc 450SLC</th><td>0</td><td>3</td><td>3</td></tr>\n",
       "\t<tr><th scope=row>Cadillac Fleetwood</th><td>0</td><td>3</td><td>4</td></tr>\n",
       "\t<tr><th scope=row>Lincoln Continental</th><td>0</td><td>3</td><td>4</td></tr>\n",
       "\t<tr><th scope=row>Chrysler Imperial</th><td>0</td><td>3</td><td>4</td></tr>\n",
       "\t<tr><th scope=row>Fiat 128</th><td>1</td><td>4</td><td>1</td></tr>\n",
       "\t<tr><th scope=row>Honda Civic</th><td>1</td><td>4</td><td>2</td></tr>\n",
       "\t<tr><th scope=row>Toyota Corolla</th><td>1</td><td>4</td><td>1</td></tr>\n",
       "\t<tr><th scope=row>Toyota Corona</th><td>0</td><td>3</td><td>1</td></tr>\n",
       "\t<tr><th scope=row>Dodge Challenger</th><td>0</td><td>3</td><td>2</td></tr>\n",
       "\t<tr><th scope=row>AMC Javelin</th><td>0</td><td>3</td><td>2</td></tr>\n",
       "\t<tr><th scope=row>Camaro Z28</th><td>0</td><td>3</td><td>4</td></tr>\n",
       "\t<tr><th scope=row>Pontiac Firebird</th><td>0</td><td>3</td><td>2</td></tr>\n",
       "\t<tr><th scope=row>Fiat X1-9</th><td>1</td><td>4</td><td>1</td></tr>\n",
       "\t<tr><th scope=row>Porsche 914-2</th><td>1</td><td>5</td><td>2</td></tr>\n",
       "\t<tr><th scope=row>Lotus Europa</th><td>1</td><td>5</td><td>2</td></tr>\n",
       "\t<tr><th scope=row>Ford Pantera L</th><td>1</td><td>5</td><td>4</td></tr>\n",
       "\t<tr><th scope=row>Ferrari Dino</th><td>1</td><td>5</td><td>6</td></tr>\n",
       "\t<tr><th scope=row>Maserati Bora</th><td>1</td><td>5</td><td>8</td></tr>\n",
       "\t<tr><th scope=row>Volvo 142E</th><td>1</td><td>4</td><td>2</td></tr>\n",
       "</tbody>\n",
       "</table>\n"
      ],
      "text/latex": [
       "\\begin{tabular}{r|lll}\n",
       "  & am & gear & carb\\\\\n",
       "\\hline\n",
       "\tMazda RX4 & 1 & 4 & 4\\\\\n",
       "\tMazda RX4 Wag & 1 & 4 & 4\\\\\n",
       "\tDatsun 710 & 1 & 4 & 1\\\\\n",
       "\tHornet 4 Drive & 0 & 3 & 1\\\\\n",
       "\tHornet Sportabout & 0 & 3 & 2\\\\\n",
       "\tValiant & 0 & 3 & 1\\\\\n",
       "\tDuster 360 & 0 & 3 & 4\\\\\n",
       "\tMerc 240D & 0 & 4 & 2\\\\\n",
       "\tMerc 230 & 0 & 4 & 2\\\\\n",
       "\tMerc 280 & 0 & 4 & 4\\\\\n",
       "\tMerc 280C & 0 & 4 & 4\\\\\n",
       "\tMerc 450SE & 0 & 3 & 3\\\\\n",
       "\tMerc 450SL & 0 & 3 & 3\\\\\n",
       "\tMerc 450SLC & 0 & 3 & 3\\\\\n",
       "\tCadillac Fleetwood & 0 & 3 & 4\\\\\n",
       "\tLincoln Continental & 0 & 3 & 4\\\\\n",
       "\tChrysler Imperial & 0 & 3 & 4\\\\\n",
       "\tFiat 128 & 1 & 4 & 1\\\\\n",
       "\tHonda Civic & 1 & 4 & 2\\\\\n",
       "\tToyota Corolla & 1 & 4 & 1\\\\\n",
       "\tToyota Corona & 0 & 3 & 1\\\\\n",
       "\tDodge Challenger & 0 & 3 & 2\\\\\n",
       "\tAMC Javelin & 0 & 3 & 2\\\\\n",
       "\tCamaro Z28 & 0 & 3 & 4\\\\\n",
       "\tPontiac Firebird & 0 & 3 & 2\\\\\n",
       "\tFiat X1-9 & 1 & 4 & 1\\\\\n",
       "\tPorsche 914-2 & 1 & 5 & 2\\\\\n",
       "\tLotus Europa & 1 & 5 & 2\\\\\n",
       "\tFord Pantera L & 1 & 5 & 4\\\\\n",
       "\tFerrari Dino & 1 & 5 & 6\\\\\n",
       "\tMaserati Bora & 1 & 5 & 8\\\\\n",
       "\tVolvo 142E & 1 & 4 & 2\\\\\n",
       "\\end{tabular}\n"
      ],
      "text/markdown": [
       "\n",
       "| <!--/--> | am | gear | carb | \n",
       "|---|---|---|---|---|---|---|---|---|---|---|---|---|---|---|---|---|---|---|---|---|---|---|---|---|---|---|---|---|---|---|---|\n",
       "| Mazda RX4 | 1 | 4 | 4 | \n",
       "| Mazda RX4 Wag | 1 | 4 | 4 | \n",
       "| Datsun 710 | 1 | 4 | 1 | \n",
       "| Hornet 4 Drive | 0 | 3 | 1 | \n",
       "| Hornet Sportabout | 0 | 3 | 2 | \n",
       "| Valiant | 0 | 3 | 1 | \n",
       "| Duster 360 | 0 | 3 | 4 | \n",
       "| Merc 240D | 0 | 4 | 2 | \n",
       "| Merc 230 | 0 | 4 | 2 | \n",
       "| Merc 280 | 0 | 4 | 4 | \n",
       "| Merc 280C | 0 | 4 | 4 | \n",
       "| Merc 450SE | 0 | 3 | 3 | \n",
       "| Merc 450SL | 0 | 3 | 3 | \n",
       "| Merc 450SLC | 0 | 3 | 3 | \n",
       "| Cadillac Fleetwood | 0 | 3 | 4 | \n",
       "| Lincoln Continental | 0 | 3 | 4 | \n",
       "| Chrysler Imperial | 0 | 3 | 4 | \n",
       "| Fiat 128 | 1 | 4 | 1 | \n",
       "| Honda Civic | 1 | 4 | 2 | \n",
       "| Toyota Corolla | 1 | 4 | 1 | \n",
       "| Toyota Corona | 0 | 3 | 1 | \n",
       "| Dodge Challenger | 0 | 3 | 2 | \n",
       "| AMC Javelin | 0 | 3 | 2 | \n",
       "| Camaro Z28 | 0 | 3 | 4 | \n",
       "| Pontiac Firebird | 0 | 3 | 2 | \n",
       "| Fiat X1-9 | 1 | 4 | 1 | \n",
       "| Porsche 914-2 | 1 | 5 | 2 | \n",
       "| Lotus Europa | 1 | 5 | 2 | \n",
       "| Ford Pantera L | 1 | 5 | 4 | \n",
       "| Ferrari Dino | 1 | 5 | 6 | \n",
       "| Maserati Bora | 1 | 5 | 8 | \n",
       "| Volvo 142E | 1 | 4 | 2 | \n",
       "\n",
       "\n"
      ],
      "text/plain": [
       "                    am gear carb\n",
       "Mazda RX4           1  4    4   \n",
       "Mazda RX4 Wag       1  4    4   \n",
       "Datsun 710          1  4    1   \n",
       "Hornet 4 Drive      0  3    1   \n",
       "Hornet Sportabout   0  3    2   \n",
       "Valiant             0  3    1   \n",
       "Duster 360          0  3    4   \n",
       "Merc 240D           0  4    2   \n",
       "Merc 230            0  4    2   \n",
       "Merc 280            0  4    4   \n",
       "Merc 280C           0  4    4   \n",
       "Merc 450SE          0  3    3   \n",
       "Merc 450SL          0  3    3   \n",
       "Merc 450SLC         0  3    3   \n",
       "Cadillac Fleetwood  0  3    4   \n",
       "Lincoln Continental 0  3    4   \n",
       "Chrysler Imperial   0  3    4   \n",
       "Fiat 128            1  4    1   \n",
       "Honda Civic         1  4    2   \n",
       "Toyota Corolla      1  4    1   \n",
       "Toyota Corona       0  3    1   \n",
       "Dodge Challenger    0  3    2   \n",
       "AMC Javelin         0  3    2   \n",
       "Camaro Z28          0  3    4   \n",
       "Pontiac Firebird    0  3    2   \n",
       "Fiat X1-9           1  4    1   \n",
       "Porsche 914-2       1  5    2   \n",
       "Lotus Europa        1  5    2   \n",
       "Ford Pantera L      1  5    4   \n",
       "Ferrari Dino        1  5    6   \n",
       "Maserati Bora       1  5    8   \n",
       "Volvo 142E          1  4    2   "
      ]
     },
     "metadata": {},
     "output_type": "display_data"
    }
   ],
   "source": [
    "df[,c('am','gear', 'carb')]"
   ]
  },
  {
   "cell_type": "markdown",
   "metadata": {},
   "source": [
    "**Ex 9: Create a new column called performance, which is calculated by hp/wt.**"
   ]
  },
  {
   "cell_type": "code",
   "execution_count": 22,
   "metadata": {
    "ExecuteTime": {
     "end_time": "2017-04-08T17:41:35.616558",
     "start_time": "2017-04-08T14:41:35.496Z"
    },
    "collapsed": false
   },
   "outputs": [
    {
     "data": {
      "text/html": [
       "<table>\n",
       "<thead><tr><th></th><th scope=col>mpg</th><th scope=col>cyl</th><th scope=col>disp</th><th scope=col>hp</th><th scope=col>drat</th><th scope=col>wt</th><th scope=col>qsec</th><th scope=col>vs</th><th scope=col>am</th><th scope=col>gear</th><th scope=col>carb</th><th scope=col>performance</th><th scope=col>performance2</th></tr></thead>\n",
       "<tbody>\n",
       "\t<tr><th scope=row>Mazda RX4</th><td>21.0    </td><td>6       </td><td>160.0   </td><td>110     </td><td>3.90    </td><td>2.620   </td><td>16.46   </td><td>0       </td><td>1       </td><td>4       </td><td>4       </td><td>41.98473</td><td>41.98473</td></tr>\n",
       "\t<tr><th scope=row>Mazda RX4 Wag</th><td>21.0    </td><td>6       </td><td>160.0   </td><td>110     </td><td>3.90    </td><td>2.875   </td><td>17.02   </td><td>0       </td><td>1       </td><td>4       </td><td>4       </td><td>38.26087</td><td>38.26087</td></tr>\n",
       "\t<tr><th scope=row>Datsun 710</th><td>22.8    </td><td>4       </td><td>108.0   </td><td> 93     </td><td>3.85    </td><td>2.320   </td><td>18.61   </td><td>1       </td><td>1       </td><td>4       </td><td>1       </td><td>40.08621</td><td>40.08621</td></tr>\n",
       "\t<tr><th scope=row>Hornet 4 Drive</th><td>21.4    </td><td>6       </td><td>258.0   </td><td>110     </td><td>3.08    </td><td>3.215   </td><td>19.44   </td><td>1       </td><td>0       </td><td>3       </td><td>1       </td><td>34.21462</td><td>34.21462</td></tr>\n",
       "\t<tr><th scope=row>Hornet Sportabout</th><td>18.7    </td><td>8       </td><td>360.0   </td><td>175     </td><td>3.15    </td><td>3.440   </td><td>17.02   </td><td>0       </td><td>0       </td><td>3       </td><td>2       </td><td>50.87209</td><td>50.87209</td></tr>\n",
       "\t<tr><th scope=row>Valiant</th><td>18.1    </td><td>6       </td><td>225.0   </td><td>105     </td><td>2.76    </td><td>3.460   </td><td>20.22   </td><td>1       </td><td>0       </td><td>3       </td><td>1       </td><td>30.34682</td><td>30.34682</td></tr>\n",
       "\t<tr><th scope=row>Duster 360</th><td>14.3    </td><td>8       </td><td>360.0   </td><td>245     </td><td>3.21    </td><td>3.570   </td><td>15.84   </td><td>0       </td><td>0       </td><td>3       </td><td>4       </td><td>68.62745</td><td>68.62745</td></tr>\n",
       "\t<tr><th scope=row>Merc 240D</th><td>24.4    </td><td>4       </td><td>146.7   </td><td> 62     </td><td>3.69    </td><td>3.190   </td><td>20.00   </td><td>1       </td><td>0       </td><td>4       </td><td>2       </td><td>19.43574</td><td>19.43574</td></tr>\n",
       "\t<tr><th scope=row>Merc 230</th><td>22.8    </td><td>4       </td><td>140.8   </td><td> 95     </td><td>3.92    </td><td>3.150   </td><td>22.90   </td><td>1       </td><td>0       </td><td>4       </td><td>2       </td><td>30.15873</td><td>30.15873</td></tr>\n",
       "\t<tr><th scope=row>Merc 280</th><td>19.2    </td><td>6       </td><td>167.6   </td><td>123     </td><td>3.92    </td><td>3.440   </td><td>18.30   </td><td>1       </td><td>0       </td><td>4       </td><td>4       </td><td>35.75581</td><td>35.75581</td></tr>\n",
       "\t<tr><th scope=row>Merc 280C</th><td>17.8    </td><td>6       </td><td>167.6   </td><td>123     </td><td>3.92    </td><td>3.440   </td><td>18.90   </td><td>1       </td><td>0       </td><td>4       </td><td>4       </td><td>35.75581</td><td>35.75581</td></tr>\n",
       "\t<tr><th scope=row>Merc 450SE</th><td>16.4    </td><td>8       </td><td>275.8   </td><td>180     </td><td>3.07    </td><td>4.070   </td><td>17.40   </td><td>0       </td><td>0       </td><td>3       </td><td>3       </td><td>44.22604</td><td>44.22604</td></tr>\n",
       "\t<tr><th scope=row>Merc 450SL</th><td>17.3    </td><td>8       </td><td>275.8   </td><td>180     </td><td>3.07    </td><td>3.730   </td><td>17.60   </td><td>0       </td><td>0       </td><td>3       </td><td>3       </td><td>48.25737</td><td>48.25737</td></tr>\n",
       "\t<tr><th scope=row>Merc 450SLC</th><td>15.2    </td><td>8       </td><td>275.8   </td><td>180     </td><td>3.07    </td><td>3.780   </td><td>18.00   </td><td>0       </td><td>0       </td><td>3       </td><td>3       </td><td>47.61905</td><td>47.61905</td></tr>\n",
       "\t<tr><th scope=row>Cadillac Fleetwood</th><td>10.4    </td><td>8       </td><td>472.0   </td><td>205     </td><td>2.93    </td><td>5.250   </td><td>17.98   </td><td>0       </td><td>0       </td><td>3       </td><td>4       </td><td>39.04762</td><td>39.04762</td></tr>\n",
       "\t<tr><th scope=row>Lincoln Continental</th><td>10.4    </td><td>8       </td><td>460.0   </td><td>215     </td><td>3.00    </td><td>5.424   </td><td>17.82   </td><td>0       </td><td>0       </td><td>3       </td><td>4       </td><td>39.63864</td><td>39.63864</td></tr>\n",
       "\t<tr><th scope=row>Chrysler Imperial</th><td>14.7    </td><td>8       </td><td>440.0   </td><td>230     </td><td>3.23    </td><td>5.345   </td><td>17.42   </td><td>0       </td><td>0       </td><td>3       </td><td>4       </td><td>43.03087</td><td>43.03087</td></tr>\n",
       "\t<tr><th scope=row>Fiat 128</th><td>32.4    </td><td>4       </td><td> 78.7   </td><td> 66     </td><td>4.08    </td><td>2.200   </td><td>19.47   </td><td>1       </td><td>1       </td><td>4       </td><td>1       </td><td>30.00000</td><td>30.00000</td></tr>\n",
       "\t<tr><th scope=row>Honda Civic</th><td>30.4    </td><td>4       </td><td> 75.7   </td><td> 52     </td><td>4.93    </td><td>1.615   </td><td>18.52   </td><td>1       </td><td>1       </td><td>4       </td><td>2       </td><td>32.19814</td><td>32.19814</td></tr>\n",
       "\t<tr><th scope=row>Toyota Corolla</th><td>33.9    </td><td>4       </td><td> 71.1   </td><td> 65     </td><td>4.22    </td><td>1.835   </td><td>19.90   </td><td>1       </td><td>1       </td><td>4       </td><td>1       </td><td>35.42234</td><td>35.42234</td></tr>\n",
       "\t<tr><th scope=row>Toyota Corona</th><td>21.5    </td><td>4       </td><td>120.1   </td><td> 97     </td><td>3.70    </td><td>2.465   </td><td>20.01   </td><td>1       </td><td>0       </td><td>3       </td><td>1       </td><td>39.35091</td><td>39.35091</td></tr>\n",
       "\t<tr><th scope=row>Dodge Challenger</th><td>15.5    </td><td>8       </td><td>318.0   </td><td>150     </td><td>2.76    </td><td>3.520   </td><td>16.87   </td><td>0       </td><td>0       </td><td>3       </td><td>2       </td><td>42.61364</td><td>42.61364</td></tr>\n",
       "\t<tr><th scope=row>AMC Javelin</th><td>15.2    </td><td>8       </td><td>304.0   </td><td>150     </td><td>3.15    </td><td>3.435   </td><td>17.30   </td><td>0       </td><td>0       </td><td>3       </td><td>2       </td><td>43.66812</td><td>43.66812</td></tr>\n",
       "\t<tr><th scope=row>Camaro Z28</th><td>13.3    </td><td>8       </td><td>350.0   </td><td>245     </td><td>3.73    </td><td>3.840   </td><td>15.41   </td><td>0       </td><td>0       </td><td>3       </td><td>4       </td><td>63.80208</td><td>63.80208</td></tr>\n",
       "\t<tr><th scope=row>Pontiac Firebird</th><td>19.2    </td><td>8       </td><td>400.0   </td><td>175     </td><td>3.08    </td><td>3.845   </td><td>17.05   </td><td>0       </td><td>0       </td><td>3       </td><td>2       </td><td>45.51365</td><td>45.51365</td></tr>\n",
       "\t<tr><th scope=row>Fiat X1-9</th><td>27.3    </td><td>4       </td><td> 79.0   </td><td> 66     </td><td>4.08    </td><td>1.935   </td><td>18.90   </td><td>1       </td><td>1       </td><td>4       </td><td>1       </td><td>34.10853</td><td>34.10853</td></tr>\n",
       "\t<tr><th scope=row>Porsche 914-2</th><td>26.0    </td><td>4       </td><td>120.3   </td><td> 91     </td><td>4.43    </td><td>2.140   </td><td>16.70   </td><td>0       </td><td>1       </td><td>5       </td><td>2       </td><td>42.52336</td><td>42.52336</td></tr>\n",
       "\t<tr><th scope=row>Lotus Europa</th><td>30.4    </td><td>4       </td><td> 95.1   </td><td>113     </td><td>3.77    </td><td>1.513   </td><td>16.90   </td><td>1       </td><td>1       </td><td>5       </td><td>2       </td><td>74.68605</td><td>74.68605</td></tr>\n",
       "\t<tr><th scope=row>Ford Pantera L</th><td>15.8    </td><td>8       </td><td>351.0   </td><td>264     </td><td>4.22    </td><td>3.170   </td><td>14.50   </td><td>0       </td><td>1       </td><td>5       </td><td>4       </td><td>83.28076</td><td>83.28076</td></tr>\n",
       "\t<tr><th scope=row>Ferrari Dino</th><td>19.7    </td><td>6       </td><td>145.0   </td><td>175     </td><td>3.62    </td><td>2.770   </td><td>15.50   </td><td>0       </td><td>1       </td><td>5       </td><td>6       </td><td>63.17690</td><td>63.17690</td></tr>\n",
       "\t<tr><th scope=row>Maserati Bora</th><td>15.0    </td><td>8       </td><td>301.0   </td><td>335     </td><td>3.54    </td><td>3.570   </td><td>14.60   </td><td>0       </td><td>1       </td><td>5       </td><td>8       </td><td>93.83754</td><td>93.83754</td></tr>\n",
       "\t<tr><th scope=row>Volvo 142E</th><td>21.4    </td><td>4       </td><td>121.0   </td><td>109     </td><td>4.11    </td><td>2.780   </td><td>18.60   </td><td>1       </td><td>1       </td><td>4       </td><td>2       </td><td>39.20863</td><td>39.20863</td></tr>\n",
       "</tbody>\n",
       "</table>\n"
      ],
      "text/latex": [
       "\\begin{tabular}{r|lllllllllllll}\n",
       "  & mpg & cyl & disp & hp & drat & wt & qsec & vs & am & gear & carb & performance & performance2\\\\\n",
       "\\hline\n",
       "\tMazda RX4 & 21.0     & 6        & 160.0    & 110      & 3.90     & 2.620    & 16.46    & 0        & 1        & 4        & 4        & 41.98473 & 41.98473\\\\\n",
       "\tMazda RX4 Wag & 21.0     & 6        & 160.0    & 110      & 3.90     & 2.875    & 17.02    & 0        & 1        & 4        & 4        & 38.26087 & 38.26087\\\\\n",
       "\tDatsun 710 & 22.8     & 4        & 108.0    &  93      & 3.85     & 2.320    & 18.61    & 1        & 1        & 4        & 1        & 40.08621 & 40.08621\\\\\n",
       "\tHornet 4 Drive & 21.4     & 6        & 258.0    & 110      & 3.08     & 3.215    & 19.44    & 1        & 0        & 3        & 1        & 34.21462 & 34.21462\\\\\n",
       "\tHornet Sportabout & 18.7     & 8        & 360.0    & 175      & 3.15     & 3.440    & 17.02    & 0        & 0        & 3        & 2        & 50.87209 & 50.87209\\\\\n",
       "\tValiant & 18.1     & 6        & 225.0    & 105      & 2.76     & 3.460    & 20.22    & 1        & 0        & 3        & 1        & 30.34682 & 30.34682\\\\\n",
       "\tDuster 360 & 14.3     & 8        & 360.0    & 245      & 3.21     & 3.570    & 15.84    & 0        & 0        & 3        & 4        & 68.62745 & 68.62745\\\\\n",
       "\tMerc 240D & 24.4     & 4        & 146.7    &  62      & 3.69     & 3.190    & 20.00    & 1        & 0        & 4        & 2        & 19.43574 & 19.43574\\\\\n",
       "\tMerc 230 & 22.8     & 4        & 140.8    &  95      & 3.92     & 3.150    & 22.90    & 1        & 0        & 4        & 2        & 30.15873 & 30.15873\\\\\n",
       "\tMerc 280 & 19.2     & 6        & 167.6    & 123      & 3.92     & 3.440    & 18.30    & 1        & 0        & 4        & 4        & 35.75581 & 35.75581\\\\\n",
       "\tMerc 280C & 17.8     & 6        & 167.6    & 123      & 3.92     & 3.440    & 18.90    & 1        & 0        & 4        & 4        & 35.75581 & 35.75581\\\\\n",
       "\tMerc 450SE & 16.4     & 8        & 275.8    & 180      & 3.07     & 4.070    & 17.40    & 0        & 0        & 3        & 3        & 44.22604 & 44.22604\\\\\n",
       "\tMerc 450SL & 17.3     & 8        & 275.8    & 180      & 3.07     & 3.730    & 17.60    & 0        & 0        & 3        & 3        & 48.25737 & 48.25737\\\\\n",
       "\tMerc 450SLC & 15.2     & 8        & 275.8    & 180      & 3.07     & 3.780    & 18.00    & 0        & 0        & 3        & 3        & 47.61905 & 47.61905\\\\\n",
       "\tCadillac Fleetwood & 10.4     & 8        & 472.0    & 205      & 2.93     & 5.250    & 17.98    & 0        & 0        & 3        & 4        & 39.04762 & 39.04762\\\\\n",
       "\tLincoln Continental & 10.4     & 8        & 460.0    & 215      & 3.00     & 5.424    & 17.82    & 0        & 0        & 3        & 4        & 39.63864 & 39.63864\\\\\n",
       "\tChrysler Imperial & 14.7     & 8        & 440.0    & 230      & 3.23     & 5.345    & 17.42    & 0        & 0        & 3        & 4        & 43.03087 & 43.03087\\\\\n",
       "\tFiat 128 & 32.4     & 4        &  78.7    &  66      & 4.08     & 2.200    & 19.47    & 1        & 1        & 4        & 1        & 30.00000 & 30.00000\\\\\n",
       "\tHonda Civic & 30.4     & 4        &  75.7    &  52      & 4.93     & 1.615    & 18.52    & 1        & 1        & 4        & 2        & 32.19814 & 32.19814\\\\\n",
       "\tToyota Corolla & 33.9     & 4        &  71.1    &  65      & 4.22     & 1.835    & 19.90    & 1        & 1        & 4        & 1        & 35.42234 & 35.42234\\\\\n",
       "\tToyota Corona & 21.5     & 4        & 120.1    &  97      & 3.70     & 2.465    & 20.01    & 1        & 0        & 3        & 1        & 39.35091 & 39.35091\\\\\n",
       "\tDodge Challenger & 15.5     & 8        & 318.0    & 150      & 2.76     & 3.520    & 16.87    & 0        & 0        & 3        & 2        & 42.61364 & 42.61364\\\\\n",
       "\tAMC Javelin & 15.2     & 8        & 304.0    & 150      & 3.15     & 3.435    & 17.30    & 0        & 0        & 3        & 2        & 43.66812 & 43.66812\\\\\n",
       "\tCamaro Z28 & 13.3     & 8        & 350.0    & 245      & 3.73     & 3.840    & 15.41    & 0        & 0        & 3        & 4        & 63.80208 & 63.80208\\\\\n",
       "\tPontiac Firebird & 19.2     & 8        & 400.0    & 175      & 3.08     & 3.845    & 17.05    & 0        & 0        & 3        & 2        & 45.51365 & 45.51365\\\\\n",
       "\tFiat X1-9 & 27.3     & 4        &  79.0    &  66      & 4.08     & 1.935    & 18.90    & 1        & 1        & 4        & 1        & 34.10853 & 34.10853\\\\\n",
       "\tPorsche 914-2 & 26.0     & 4        & 120.3    &  91      & 4.43     & 2.140    & 16.70    & 0        & 1        & 5        & 2        & 42.52336 & 42.52336\\\\\n",
       "\tLotus Europa & 30.4     & 4        &  95.1    & 113      & 3.77     & 1.513    & 16.90    & 1        & 1        & 5        & 2        & 74.68605 & 74.68605\\\\\n",
       "\tFord Pantera L & 15.8     & 8        & 351.0    & 264      & 4.22     & 3.170    & 14.50    & 0        & 1        & 5        & 4        & 83.28076 & 83.28076\\\\\n",
       "\tFerrari Dino & 19.7     & 6        & 145.0    & 175      & 3.62     & 2.770    & 15.50    & 0        & 1        & 5        & 6        & 63.17690 & 63.17690\\\\\n",
       "\tMaserati Bora & 15.0     & 8        & 301.0    & 335      & 3.54     & 3.570    & 14.60    & 0        & 1        & 5        & 8        & 93.83754 & 93.83754\\\\\n",
       "\tVolvo 142E & 21.4     & 4        & 121.0    & 109      & 4.11     & 2.780    & 18.60    & 1        & 1        & 4        & 2        & 39.20863 & 39.20863\\\\\n",
       "\\end{tabular}\n"
      ],
      "text/markdown": [
       "\n",
       "| <!--/--> | mpg | cyl | disp | hp | drat | wt | qsec | vs | am | gear | carb | performance | performance2 | \n",
       "|---|---|---|---|---|---|---|---|---|---|---|---|---|---|---|---|---|---|---|---|---|---|---|---|---|---|---|---|---|---|---|---|\n",
       "| Mazda RX4 | 21.0     | 6        | 160.0    | 110      | 3.90     | 2.620    | 16.46    | 0        | 1        | 4        | 4        | 41.98473 | 41.98473 | \n",
       "| Mazda RX4 Wag | 21.0     | 6        | 160.0    | 110      | 3.90     | 2.875    | 17.02    | 0        | 1        | 4        | 4        | 38.26087 | 38.26087 | \n",
       "| Datsun 710 | 22.8     | 4        | 108.0    |  93      | 3.85     | 2.320    | 18.61    | 1        | 1        | 4        | 1        | 40.08621 | 40.08621 | \n",
       "| Hornet 4 Drive | 21.4     | 6        | 258.0    | 110      | 3.08     | 3.215    | 19.44    | 1        | 0        | 3        | 1        | 34.21462 | 34.21462 | \n",
       "| Hornet Sportabout | 18.7     | 8        | 360.0    | 175      | 3.15     | 3.440    | 17.02    | 0        | 0        | 3        | 2        | 50.87209 | 50.87209 | \n",
       "| Valiant | 18.1     | 6        | 225.0    | 105      | 2.76     | 3.460    | 20.22    | 1        | 0        | 3        | 1        | 30.34682 | 30.34682 | \n",
       "| Duster 360 | 14.3     | 8        | 360.0    | 245      | 3.21     | 3.570    | 15.84    | 0        | 0        | 3        | 4        | 68.62745 | 68.62745 | \n",
       "| Merc 240D | 24.4     | 4        | 146.7    |  62      | 3.69     | 3.190    | 20.00    | 1        | 0        | 4        | 2        | 19.43574 | 19.43574 | \n",
       "| Merc 230 | 22.8     | 4        | 140.8    |  95      | 3.92     | 3.150    | 22.90    | 1        | 0        | 4        | 2        | 30.15873 | 30.15873 | \n",
       "| Merc 280 | 19.2     | 6        | 167.6    | 123      | 3.92     | 3.440    | 18.30    | 1        | 0        | 4        | 4        | 35.75581 | 35.75581 | \n",
       "| Merc 280C | 17.8     | 6        | 167.6    | 123      | 3.92     | 3.440    | 18.90    | 1        | 0        | 4        | 4        | 35.75581 | 35.75581 | \n",
       "| Merc 450SE | 16.4     | 8        | 275.8    | 180      | 3.07     | 4.070    | 17.40    | 0        | 0        | 3        | 3        | 44.22604 | 44.22604 | \n",
       "| Merc 450SL | 17.3     | 8        | 275.8    | 180      | 3.07     | 3.730    | 17.60    | 0        | 0        | 3        | 3        | 48.25737 | 48.25737 | \n",
       "| Merc 450SLC | 15.2     | 8        | 275.8    | 180      | 3.07     | 3.780    | 18.00    | 0        | 0        | 3        | 3        | 47.61905 | 47.61905 | \n",
       "| Cadillac Fleetwood | 10.4     | 8        | 472.0    | 205      | 2.93     | 5.250    | 17.98    | 0        | 0        | 3        | 4        | 39.04762 | 39.04762 | \n",
       "| Lincoln Continental | 10.4     | 8        | 460.0    | 215      | 3.00     | 5.424    | 17.82    | 0        | 0        | 3        | 4        | 39.63864 | 39.63864 | \n",
       "| Chrysler Imperial | 14.7     | 8        | 440.0    | 230      | 3.23     | 5.345    | 17.42    | 0        | 0        | 3        | 4        | 43.03087 | 43.03087 | \n",
       "| Fiat 128 | 32.4     | 4        |  78.7    |  66      | 4.08     | 2.200    | 19.47    | 1        | 1        | 4        | 1        | 30.00000 | 30.00000 | \n",
       "| Honda Civic | 30.4     | 4        |  75.7    |  52      | 4.93     | 1.615    | 18.52    | 1        | 1        | 4        | 2        | 32.19814 | 32.19814 | \n",
       "| Toyota Corolla | 33.9     | 4        |  71.1    |  65      | 4.22     | 1.835    | 19.90    | 1        | 1        | 4        | 1        | 35.42234 | 35.42234 | \n",
       "| Toyota Corona | 21.5     | 4        | 120.1    |  97      | 3.70     | 2.465    | 20.01    | 1        | 0        | 3        | 1        | 39.35091 | 39.35091 | \n",
       "| Dodge Challenger | 15.5     | 8        | 318.0    | 150      | 2.76     | 3.520    | 16.87    | 0        | 0        | 3        | 2        | 42.61364 | 42.61364 | \n",
       "| AMC Javelin | 15.2     | 8        | 304.0    | 150      | 3.15     | 3.435    | 17.30    | 0        | 0        | 3        | 2        | 43.66812 | 43.66812 | \n",
       "| Camaro Z28 | 13.3     | 8        | 350.0    | 245      | 3.73     | 3.840    | 15.41    | 0        | 0        | 3        | 4        | 63.80208 | 63.80208 | \n",
       "| Pontiac Firebird | 19.2     | 8        | 400.0    | 175      | 3.08     | 3.845    | 17.05    | 0        | 0        | 3        | 2        | 45.51365 | 45.51365 | \n",
       "| Fiat X1-9 | 27.3     | 4        |  79.0    |  66      | 4.08     | 1.935    | 18.90    | 1        | 1        | 4        | 1        | 34.10853 | 34.10853 | \n",
       "| Porsche 914-2 | 26.0     | 4        | 120.3    |  91      | 4.43     | 2.140    | 16.70    | 0        | 1        | 5        | 2        | 42.52336 | 42.52336 | \n",
       "| Lotus Europa | 30.4     | 4        |  95.1    | 113      | 3.77     | 1.513    | 16.90    | 1        | 1        | 5        | 2        | 74.68605 | 74.68605 | \n",
       "| Ford Pantera L | 15.8     | 8        | 351.0    | 264      | 4.22     | 3.170    | 14.50    | 0        | 1        | 5        | 4        | 83.28076 | 83.28076 | \n",
       "| Ferrari Dino | 19.7     | 6        | 145.0    | 175      | 3.62     | 2.770    | 15.50    | 0        | 1        | 5        | 6        | 63.17690 | 63.17690 | \n",
       "| Maserati Bora | 15.0     | 8        | 301.0    | 335      | 3.54     | 3.570    | 14.60    | 0        | 1        | 5        | 8        | 93.83754 | 93.83754 | \n",
       "| Volvo 142E | 21.4     | 4        | 121.0    | 109      | 4.11     | 2.780    | 18.60    | 1        | 1        | 4        | 2        | 39.20863 | 39.20863 | \n",
       "\n",
       "\n"
      ],
      "text/plain": [
       "                    mpg  cyl disp  hp  drat wt    qsec  vs am gear carb\n",
       "Mazda RX4           21.0 6   160.0 110 3.90 2.620 16.46 0  1  4    4   \n",
       "Mazda RX4 Wag       21.0 6   160.0 110 3.90 2.875 17.02 0  1  4    4   \n",
       "Datsun 710          22.8 4   108.0  93 3.85 2.320 18.61 1  1  4    1   \n",
       "Hornet 4 Drive      21.4 6   258.0 110 3.08 3.215 19.44 1  0  3    1   \n",
       "Hornet Sportabout   18.7 8   360.0 175 3.15 3.440 17.02 0  0  3    2   \n",
       "Valiant             18.1 6   225.0 105 2.76 3.460 20.22 1  0  3    1   \n",
       "Duster 360          14.3 8   360.0 245 3.21 3.570 15.84 0  0  3    4   \n",
       "Merc 240D           24.4 4   146.7  62 3.69 3.190 20.00 1  0  4    2   \n",
       "Merc 230            22.8 4   140.8  95 3.92 3.150 22.90 1  0  4    2   \n",
       "Merc 280            19.2 6   167.6 123 3.92 3.440 18.30 1  0  4    4   \n",
       "Merc 280C           17.8 6   167.6 123 3.92 3.440 18.90 1  0  4    4   \n",
       "Merc 450SE          16.4 8   275.8 180 3.07 4.070 17.40 0  0  3    3   \n",
       "Merc 450SL          17.3 8   275.8 180 3.07 3.730 17.60 0  0  3    3   \n",
       "Merc 450SLC         15.2 8   275.8 180 3.07 3.780 18.00 0  0  3    3   \n",
       "Cadillac Fleetwood  10.4 8   472.0 205 2.93 5.250 17.98 0  0  3    4   \n",
       "Lincoln Continental 10.4 8   460.0 215 3.00 5.424 17.82 0  0  3    4   \n",
       "Chrysler Imperial   14.7 8   440.0 230 3.23 5.345 17.42 0  0  3    4   \n",
       "Fiat 128            32.4 4    78.7  66 4.08 2.200 19.47 1  1  4    1   \n",
       "Honda Civic         30.4 4    75.7  52 4.93 1.615 18.52 1  1  4    2   \n",
       "Toyota Corolla      33.9 4    71.1  65 4.22 1.835 19.90 1  1  4    1   \n",
       "Toyota Corona       21.5 4   120.1  97 3.70 2.465 20.01 1  0  3    1   \n",
       "Dodge Challenger    15.5 8   318.0 150 2.76 3.520 16.87 0  0  3    2   \n",
       "AMC Javelin         15.2 8   304.0 150 3.15 3.435 17.30 0  0  3    2   \n",
       "Camaro Z28          13.3 8   350.0 245 3.73 3.840 15.41 0  0  3    4   \n",
       "Pontiac Firebird    19.2 8   400.0 175 3.08 3.845 17.05 0  0  3    2   \n",
       "Fiat X1-9           27.3 4    79.0  66 4.08 1.935 18.90 1  1  4    1   \n",
       "Porsche 914-2       26.0 4   120.3  91 4.43 2.140 16.70 0  1  5    2   \n",
       "Lotus Europa        30.4 4    95.1 113 3.77 1.513 16.90 1  1  5    2   \n",
       "Ford Pantera L      15.8 8   351.0 264 4.22 3.170 14.50 0  1  5    4   \n",
       "Ferrari Dino        19.7 6   145.0 175 3.62 2.770 15.50 0  1  5    6   \n",
       "Maserati Bora       15.0 8   301.0 335 3.54 3.570 14.60 0  1  5    8   \n",
       "Volvo 142E          21.4 4   121.0 109 4.11 2.780 18.60 1  1  4    2   \n",
       "                    performance performance2\n",
       "Mazda RX4           41.98473    41.98473    \n",
       "Mazda RX4 Wag       38.26087    38.26087    \n",
       "Datsun 710          40.08621    40.08621    \n",
       "Hornet 4 Drive      34.21462    34.21462    \n",
       "Hornet Sportabout   50.87209    50.87209    \n",
       "Valiant             30.34682    30.34682    \n",
       "Duster 360          68.62745    68.62745    \n",
       "Merc 240D           19.43574    19.43574    \n",
       "Merc 230            30.15873    30.15873    \n",
       "Merc 280            35.75581    35.75581    \n",
       "Merc 280C           35.75581    35.75581    \n",
       "Merc 450SE          44.22604    44.22604    \n",
       "Merc 450SL          48.25737    48.25737    \n",
       "Merc 450SLC         47.61905    47.61905    \n",
       "Cadillac Fleetwood  39.04762    39.04762    \n",
       "Lincoln Continental 39.63864    39.63864    \n",
       "Chrysler Imperial   43.03087    43.03087    \n",
       "Fiat 128            30.00000    30.00000    \n",
       "Honda Civic         32.19814    32.19814    \n",
       "Toyota Corolla      35.42234    35.42234    \n",
       "Toyota Corona       39.35091    39.35091    \n",
       "Dodge Challenger    42.61364    42.61364    \n",
       "AMC Javelin         43.66812    43.66812    \n",
       "Camaro Z28          63.80208    63.80208    \n",
       "Pontiac Firebird    45.51365    45.51365    \n",
       "Fiat X1-9           34.10853    34.10853    \n",
       "Porsche 914-2       42.52336    42.52336    \n",
       "Lotus Europa        74.68605    74.68605    \n",
       "Ford Pantera L      83.28076    83.28076    \n",
       "Ferrari Dino        63.17690    63.17690    \n",
       "Maserati Bora       93.83754    93.83754    \n",
       "Volvo 142E          39.20863    39.20863    "
      ]
     },
     "metadata": {},
     "output_type": "display_data"
    }
   ],
   "source": [
    "performance <- c(df['hp']/df['wt'])\n",
    "\n",
    " df['performance'] <- performance   # method 1\n",
    "df\n",
    "\n",
    "#df$performance2 <- df$hp/df$wt  #method 2 "
   ]
  },
  {
   "cell_type": "markdown",
   "metadata": {},
   "source": [
    "**Ex 10: Your performance column will have several decimal place precision. Figure out how to use round() (check help(round)) to reduce this accuracy to only 2 decimal places.**"
   ]
  },
  {
   "cell_type": "code",
   "execution_count": 34,
   "metadata": {
    "ExecuteTime": {
     "end_time": "2017-04-08T17:47:46.330865",
     "start_time": "2017-04-08T14:47:46.214Z"
    },
    "collapsed": false
   },
   "outputs": [
    {
     "data": {
      "text/html": [
       "<table>\n",
       "<thead><tr><th></th><th scope=col>mpg</th><th scope=col>cyl</th><th scope=col>disp</th><th scope=col>hp</th><th scope=col>drat</th><th scope=col>wt</th><th scope=col>qsec</th><th scope=col>vs</th><th scope=col>am</th><th scope=col>gear</th><th scope=col>carb</th><th scope=col>performance</th><th scope=col>performance2</th></tr></thead>\n",
       "<tbody>\n",
       "\t<tr><th scope=row>Mazda RX4</th><td>21.0    </td><td>6       </td><td>160.0   </td><td>110     </td><td>3.90    </td><td>2.620   </td><td>16.46   </td><td>0       </td><td>1       </td><td>4       </td><td>4       </td><td>41.98   </td><td>41.98473</td></tr>\n",
       "\t<tr><th scope=row>Mazda RX4 Wag</th><td>21.0    </td><td>6       </td><td>160.0   </td><td>110     </td><td>3.90    </td><td>2.875   </td><td>17.02   </td><td>0       </td><td>1       </td><td>4       </td><td>4       </td><td>38.26   </td><td>38.26087</td></tr>\n",
       "\t<tr><th scope=row>Datsun 710</th><td>22.8    </td><td>4       </td><td>108.0   </td><td> 93     </td><td>3.85    </td><td>2.320   </td><td>18.61   </td><td>1       </td><td>1       </td><td>4       </td><td>1       </td><td>40.09   </td><td>40.08621</td></tr>\n",
       "\t<tr><th scope=row>Hornet 4 Drive</th><td>21.4    </td><td>6       </td><td>258.0   </td><td>110     </td><td>3.08    </td><td>3.215   </td><td>19.44   </td><td>1       </td><td>0       </td><td>3       </td><td>1       </td><td>34.21   </td><td>34.21462</td></tr>\n",
       "\t<tr><th scope=row>Hornet Sportabout</th><td>18.7    </td><td>8       </td><td>360.0   </td><td>175     </td><td>3.15    </td><td>3.440   </td><td>17.02   </td><td>0       </td><td>0       </td><td>3       </td><td>2       </td><td>50.87   </td><td>50.87209</td></tr>\n",
       "\t<tr><th scope=row>Valiant</th><td>18.1    </td><td>6       </td><td>225.0   </td><td>105     </td><td>2.76    </td><td>3.460   </td><td>20.22   </td><td>1       </td><td>0       </td><td>3       </td><td>1       </td><td>30.35   </td><td>30.34682</td></tr>\n",
       "\t<tr><th scope=row>Duster 360</th><td>14.3    </td><td>8       </td><td>360.0   </td><td>245     </td><td>3.21    </td><td>3.570   </td><td>15.84   </td><td>0       </td><td>0       </td><td>3       </td><td>4       </td><td>68.63   </td><td>68.62745</td></tr>\n",
       "\t<tr><th scope=row>Merc 240D</th><td>24.4    </td><td>4       </td><td>146.7   </td><td> 62     </td><td>3.69    </td><td>3.190   </td><td>20.00   </td><td>1       </td><td>0       </td><td>4       </td><td>2       </td><td>19.44   </td><td>19.43574</td></tr>\n",
       "\t<tr><th scope=row>Merc 230</th><td>22.8    </td><td>4       </td><td>140.8   </td><td> 95     </td><td>3.92    </td><td>3.150   </td><td>22.90   </td><td>1       </td><td>0       </td><td>4       </td><td>2       </td><td>30.16   </td><td>30.15873</td></tr>\n",
       "\t<tr><th scope=row>Merc 280</th><td>19.2    </td><td>6       </td><td>167.6   </td><td>123     </td><td>3.92    </td><td>3.440   </td><td>18.30   </td><td>1       </td><td>0       </td><td>4       </td><td>4       </td><td>35.76   </td><td>35.75581</td></tr>\n",
       "\t<tr><th scope=row>Merc 280C</th><td>17.8    </td><td>6       </td><td>167.6   </td><td>123     </td><td>3.92    </td><td>3.440   </td><td>18.90   </td><td>1       </td><td>0       </td><td>4       </td><td>4       </td><td>35.76   </td><td>35.75581</td></tr>\n",
       "\t<tr><th scope=row>Merc 450SE</th><td>16.4    </td><td>8       </td><td>275.8   </td><td>180     </td><td>3.07    </td><td>4.070   </td><td>17.40   </td><td>0       </td><td>0       </td><td>3       </td><td>3       </td><td>44.23   </td><td>44.22604</td></tr>\n",
       "\t<tr><th scope=row>Merc 450SL</th><td>17.3    </td><td>8       </td><td>275.8   </td><td>180     </td><td>3.07    </td><td>3.730   </td><td>17.60   </td><td>0       </td><td>0       </td><td>3       </td><td>3       </td><td>48.26   </td><td>48.25737</td></tr>\n",
       "\t<tr><th scope=row>Merc 450SLC</th><td>15.2    </td><td>8       </td><td>275.8   </td><td>180     </td><td>3.07    </td><td>3.780   </td><td>18.00   </td><td>0       </td><td>0       </td><td>3       </td><td>3       </td><td>47.62   </td><td>47.61905</td></tr>\n",
       "\t<tr><th scope=row>Cadillac Fleetwood</th><td>10.4    </td><td>8       </td><td>472.0   </td><td>205     </td><td>2.93    </td><td>5.250   </td><td>17.98   </td><td>0       </td><td>0       </td><td>3       </td><td>4       </td><td>39.05   </td><td>39.04762</td></tr>\n",
       "\t<tr><th scope=row>Lincoln Continental</th><td>10.4    </td><td>8       </td><td>460.0   </td><td>215     </td><td>3.00    </td><td>5.424   </td><td>17.82   </td><td>0       </td><td>0       </td><td>3       </td><td>4       </td><td>39.64   </td><td>39.63864</td></tr>\n",
       "\t<tr><th scope=row>Chrysler Imperial</th><td>14.7    </td><td>8       </td><td>440.0   </td><td>230     </td><td>3.23    </td><td>5.345   </td><td>17.42   </td><td>0       </td><td>0       </td><td>3       </td><td>4       </td><td>43.03   </td><td>43.03087</td></tr>\n",
       "\t<tr><th scope=row>Fiat 128</th><td>32.4    </td><td>4       </td><td> 78.7   </td><td> 66     </td><td>4.08    </td><td>2.200   </td><td>19.47   </td><td>1       </td><td>1       </td><td>4       </td><td>1       </td><td>30.00   </td><td>30.00000</td></tr>\n",
       "\t<tr><th scope=row>Honda Civic</th><td>30.4    </td><td>4       </td><td> 75.7   </td><td> 52     </td><td>4.93    </td><td>1.615   </td><td>18.52   </td><td>1       </td><td>1       </td><td>4       </td><td>2       </td><td>32.20   </td><td>32.19814</td></tr>\n",
       "\t<tr><th scope=row>Toyota Corolla</th><td>33.9    </td><td>4       </td><td> 71.1   </td><td> 65     </td><td>4.22    </td><td>1.835   </td><td>19.90   </td><td>1       </td><td>1       </td><td>4       </td><td>1       </td><td>35.42   </td><td>35.42234</td></tr>\n",
       "\t<tr><th scope=row>Toyota Corona</th><td>21.5    </td><td>4       </td><td>120.1   </td><td> 97     </td><td>3.70    </td><td>2.465   </td><td>20.01   </td><td>1       </td><td>0       </td><td>3       </td><td>1       </td><td>39.35   </td><td>39.35091</td></tr>\n",
       "\t<tr><th scope=row>Dodge Challenger</th><td>15.5    </td><td>8       </td><td>318.0   </td><td>150     </td><td>2.76    </td><td>3.520   </td><td>16.87   </td><td>0       </td><td>0       </td><td>3       </td><td>2       </td><td>42.61   </td><td>42.61364</td></tr>\n",
       "\t<tr><th scope=row>AMC Javelin</th><td>15.2    </td><td>8       </td><td>304.0   </td><td>150     </td><td>3.15    </td><td>3.435   </td><td>17.30   </td><td>0       </td><td>0       </td><td>3       </td><td>2       </td><td>43.67   </td><td>43.66812</td></tr>\n",
       "\t<tr><th scope=row>Camaro Z28</th><td>13.3    </td><td>8       </td><td>350.0   </td><td>245     </td><td>3.73    </td><td>3.840   </td><td>15.41   </td><td>0       </td><td>0       </td><td>3       </td><td>4       </td><td>63.80   </td><td>63.80208</td></tr>\n",
       "\t<tr><th scope=row>Pontiac Firebird</th><td>19.2    </td><td>8       </td><td>400.0   </td><td>175     </td><td>3.08    </td><td>3.845   </td><td>17.05   </td><td>0       </td><td>0       </td><td>3       </td><td>2       </td><td>45.51   </td><td>45.51365</td></tr>\n",
       "\t<tr><th scope=row>Fiat X1-9</th><td>27.3    </td><td>4       </td><td> 79.0   </td><td> 66     </td><td>4.08    </td><td>1.935   </td><td>18.90   </td><td>1       </td><td>1       </td><td>4       </td><td>1       </td><td>34.11   </td><td>34.10853</td></tr>\n",
       "\t<tr><th scope=row>Porsche 914-2</th><td>26.0    </td><td>4       </td><td>120.3   </td><td> 91     </td><td>4.43    </td><td>2.140   </td><td>16.70   </td><td>0       </td><td>1       </td><td>5       </td><td>2       </td><td>42.52   </td><td>42.52336</td></tr>\n",
       "\t<tr><th scope=row>Lotus Europa</th><td>30.4    </td><td>4       </td><td> 95.1   </td><td>113     </td><td>3.77    </td><td>1.513   </td><td>16.90   </td><td>1       </td><td>1       </td><td>5       </td><td>2       </td><td>74.69   </td><td>74.68605</td></tr>\n",
       "\t<tr><th scope=row>Ford Pantera L</th><td>15.8    </td><td>8       </td><td>351.0   </td><td>264     </td><td>4.22    </td><td>3.170   </td><td>14.50   </td><td>0       </td><td>1       </td><td>5       </td><td>4       </td><td>83.28   </td><td>83.28076</td></tr>\n",
       "\t<tr><th scope=row>Ferrari Dino</th><td>19.7    </td><td>6       </td><td>145.0   </td><td>175     </td><td>3.62    </td><td>2.770   </td><td>15.50   </td><td>0       </td><td>1       </td><td>5       </td><td>6       </td><td>63.18   </td><td>63.17690</td></tr>\n",
       "\t<tr><th scope=row>Maserati Bora</th><td>15.0    </td><td>8       </td><td>301.0   </td><td>335     </td><td>3.54    </td><td>3.570   </td><td>14.60   </td><td>0       </td><td>1       </td><td>5       </td><td>8       </td><td>93.84   </td><td>93.83754</td></tr>\n",
       "\t<tr><th scope=row>Volvo 142E</th><td>21.4    </td><td>4       </td><td>121.0   </td><td>109     </td><td>4.11    </td><td>2.780   </td><td>18.60   </td><td>1       </td><td>1       </td><td>4       </td><td>2       </td><td>39.21   </td><td>39.20863</td></tr>\n",
       "</tbody>\n",
       "</table>\n"
      ],
      "text/latex": [
       "\\begin{tabular}{r|lllllllllllll}\n",
       "  & mpg & cyl & disp & hp & drat & wt & qsec & vs & am & gear & carb & performance & performance2\\\\\n",
       "\\hline\n",
       "\tMazda RX4 & 21.0     & 6        & 160.0    & 110      & 3.90     & 2.620    & 16.46    & 0        & 1        & 4        & 4        & 41.98    & 41.98473\\\\\n",
       "\tMazda RX4 Wag & 21.0     & 6        & 160.0    & 110      & 3.90     & 2.875    & 17.02    & 0        & 1        & 4        & 4        & 38.26    & 38.26087\\\\\n",
       "\tDatsun 710 & 22.8     & 4        & 108.0    &  93      & 3.85     & 2.320    & 18.61    & 1        & 1        & 4        & 1        & 40.09    & 40.08621\\\\\n",
       "\tHornet 4 Drive & 21.4     & 6        & 258.0    & 110      & 3.08     & 3.215    & 19.44    & 1        & 0        & 3        & 1        & 34.21    & 34.21462\\\\\n",
       "\tHornet Sportabout & 18.7     & 8        & 360.0    & 175      & 3.15     & 3.440    & 17.02    & 0        & 0        & 3        & 2        & 50.87    & 50.87209\\\\\n",
       "\tValiant & 18.1     & 6        & 225.0    & 105      & 2.76     & 3.460    & 20.22    & 1        & 0        & 3        & 1        & 30.35    & 30.34682\\\\\n",
       "\tDuster 360 & 14.3     & 8        & 360.0    & 245      & 3.21     & 3.570    & 15.84    & 0        & 0        & 3        & 4        & 68.63    & 68.62745\\\\\n",
       "\tMerc 240D & 24.4     & 4        & 146.7    &  62      & 3.69     & 3.190    & 20.00    & 1        & 0        & 4        & 2        & 19.44    & 19.43574\\\\\n",
       "\tMerc 230 & 22.8     & 4        & 140.8    &  95      & 3.92     & 3.150    & 22.90    & 1        & 0        & 4        & 2        & 30.16    & 30.15873\\\\\n",
       "\tMerc 280 & 19.2     & 6        & 167.6    & 123      & 3.92     & 3.440    & 18.30    & 1        & 0        & 4        & 4        & 35.76    & 35.75581\\\\\n",
       "\tMerc 280C & 17.8     & 6        & 167.6    & 123      & 3.92     & 3.440    & 18.90    & 1        & 0        & 4        & 4        & 35.76    & 35.75581\\\\\n",
       "\tMerc 450SE & 16.4     & 8        & 275.8    & 180      & 3.07     & 4.070    & 17.40    & 0        & 0        & 3        & 3        & 44.23    & 44.22604\\\\\n",
       "\tMerc 450SL & 17.3     & 8        & 275.8    & 180      & 3.07     & 3.730    & 17.60    & 0        & 0        & 3        & 3        & 48.26    & 48.25737\\\\\n",
       "\tMerc 450SLC & 15.2     & 8        & 275.8    & 180      & 3.07     & 3.780    & 18.00    & 0        & 0        & 3        & 3        & 47.62    & 47.61905\\\\\n",
       "\tCadillac Fleetwood & 10.4     & 8        & 472.0    & 205      & 2.93     & 5.250    & 17.98    & 0        & 0        & 3        & 4        & 39.05    & 39.04762\\\\\n",
       "\tLincoln Continental & 10.4     & 8        & 460.0    & 215      & 3.00     & 5.424    & 17.82    & 0        & 0        & 3        & 4        & 39.64    & 39.63864\\\\\n",
       "\tChrysler Imperial & 14.7     & 8        & 440.0    & 230      & 3.23     & 5.345    & 17.42    & 0        & 0        & 3        & 4        & 43.03    & 43.03087\\\\\n",
       "\tFiat 128 & 32.4     & 4        &  78.7    &  66      & 4.08     & 2.200    & 19.47    & 1        & 1        & 4        & 1        & 30.00    & 30.00000\\\\\n",
       "\tHonda Civic & 30.4     & 4        &  75.7    &  52      & 4.93     & 1.615    & 18.52    & 1        & 1        & 4        & 2        & 32.20    & 32.19814\\\\\n",
       "\tToyota Corolla & 33.9     & 4        &  71.1    &  65      & 4.22     & 1.835    & 19.90    & 1        & 1        & 4        & 1        & 35.42    & 35.42234\\\\\n",
       "\tToyota Corona & 21.5     & 4        & 120.1    &  97      & 3.70     & 2.465    & 20.01    & 1        & 0        & 3        & 1        & 39.35    & 39.35091\\\\\n",
       "\tDodge Challenger & 15.5     & 8        & 318.0    & 150      & 2.76     & 3.520    & 16.87    & 0        & 0        & 3        & 2        & 42.61    & 42.61364\\\\\n",
       "\tAMC Javelin & 15.2     & 8        & 304.0    & 150      & 3.15     & 3.435    & 17.30    & 0        & 0        & 3        & 2        & 43.67    & 43.66812\\\\\n",
       "\tCamaro Z28 & 13.3     & 8        & 350.0    & 245      & 3.73     & 3.840    & 15.41    & 0        & 0        & 3        & 4        & 63.80    & 63.80208\\\\\n",
       "\tPontiac Firebird & 19.2     & 8        & 400.0    & 175      & 3.08     & 3.845    & 17.05    & 0        & 0        & 3        & 2        & 45.51    & 45.51365\\\\\n",
       "\tFiat X1-9 & 27.3     & 4        &  79.0    &  66      & 4.08     & 1.935    & 18.90    & 1        & 1        & 4        & 1        & 34.11    & 34.10853\\\\\n",
       "\tPorsche 914-2 & 26.0     & 4        & 120.3    &  91      & 4.43     & 2.140    & 16.70    & 0        & 1        & 5        & 2        & 42.52    & 42.52336\\\\\n",
       "\tLotus Europa & 30.4     & 4        &  95.1    & 113      & 3.77     & 1.513    & 16.90    & 1        & 1        & 5        & 2        & 74.69    & 74.68605\\\\\n",
       "\tFord Pantera L & 15.8     & 8        & 351.0    & 264      & 4.22     & 3.170    & 14.50    & 0        & 1        & 5        & 4        & 83.28    & 83.28076\\\\\n",
       "\tFerrari Dino & 19.7     & 6        & 145.0    & 175      & 3.62     & 2.770    & 15.50    & 0        & 1        & 5        & 6        & 63.18    & 63.17690\\\\\n",
       "\tMaserati Bora & 15.0     & 8        & 301.0    & 335      & 3.54     & 3.570    & 14.60    & 0        & 1        & 5        & 8        & 93.84    & 93.83754\\\\\n",
       "\tVolvo 142E & 21.4     & 4        & 121.0    & 109      & 4.11     & 2.780    & 18.60    & 1        & 1        & 4        & 2        & 39.21    & 39.20863\\\\\n",
       "\\end{tabular}\n"
      ],
      "text/markdown": [
       "\n",
       "| <!--/--> | mpg | cyl | disp | hp | drat | wt | qsec | vs | am | gear | carb | performance | performance2 | \n",
       "|---|---|---|---|---|---|---|---|---|---|---|---|---|---|---|---|---|---|---|---|---|---|---|---|---|---|---|---|---|---|---|---|\n",
       "| Mazda RX4 | 21.0     | 6        | 160.0    | 110      | 3.90     | 2.620    | 16.46    | 0        | 1        | 4        | 4        | 41.98    | 41.98473 | \n",
       "| Mazda RX4 Wag | 21.0     | 6        | 160.0    | 110      | 3.90     | 2.875    | 17.02    | 0        | 1        | 4        | 4        | 38.26    | 38.26087 | \n",
       "| Datsun 710 | 22.8     | 4        | 108.0    |  93      | 3.85     | 2.320    | 18.61    | 1        | 1        | 4        | 1        | 40.09    | 40.08621 | \n",
       "| Hornet 4 Drive | 21.4     | 6        | 258.0    | 110      | 3.08     | 3.215    | 19.44    | 1        | 0        | 3        | 1        | 34.21    | 34.21462 | \n",
       "| Hornet Sportabout | 18.7     | 8        | 360.0    | 175      | 3.15     | 3.440    | 17.02    | 0        | 0        | 3        | 2        | 50.87    | 50.87209 | \n",
       "| Valiant | 18.1     | 6        | 225.0    | 105      | 2.76     | 3.460    | 20.22    | 1        | 0        | 3        | 1        | 30.35    | 30.34682 | \n",
       "| Duster 360 | 14.3     | 8        | 360.0    | 245      | 3.21     | 3.570    | 15.84    | 0        | 0        | 3        | 4        | 68.63    | 68.62745 | \n",
       "| Merc 240D | 24.4     | 4        | 146.7    |  62      | 3.69     | 3.190    | 20.00    | 1        | 0        | 4        | 2        | 19.44    | 19.43574 | \n",
       "| Merc 230 | 22.8     | 4        | 140.8    |  95      | 3.92     | 3.150    | 22.90    | 1        | 0        | 4        | 2        | 30.16    | 30.15873 | \n",
       "| Merc 280 | 19.2     | 6        | 167.6    | 123      | 3.92     | 3.440    | 18.30    | 1        | 0        | 4        | 4        | 35.76    | 35.75581 | \n",
       "| Merc 280C | 17.8     | 6        | 167.6    | 123      | 3.92     | 3.440    | 18.90    | 1        | 0        | 4        | 4        | 35.76    | 35.75581 | \n",
       "| Merc 450SE | 16.4     | 8        | 275.8    | 180      | 3.07     | 4.070    | 17.40    | 0        | 0        | 3        | 3        | 44.23    | 44.22604 | \n",
       "| Merc 450SL | 17.3     | 8        | 275.8    | 180      | 3.07     | 3.730    | 17.60    | 0        | 0        | 3        | 3        | 48.26    | 48.25737 | \n",
       "| Merc 450SLC | 15.2     | 8        | 275.8    | 180      | 3.07     | 3.780    | 18.00    | 0        | 0        | 3        | 3        | 47.62    | 47.61905 | \n",
       "| Cadillac Fleetwood | 10.4     | 8        | 472.0    | 205      | 2.93     | 5.250    | 17.98    | 0        | 0        | 3        | 4        | 39.05    | 39.04762 | \n",
       "| Lincoln Continental | 10.4     | 8        | 460.0    | 215      | 3.00     | 5.424    | 17.82    | 0        | 0        | 3        | 4        | 39.64    | 39.63864 | \n",
       "| Chrysler Imperial | 14.7     | 8        | 440.0    | 230      | 3.23     | 5.345    | 17.42    | 0        | 0        | 3        | 4        | 43.03    | 43.03087 | \n",
       "| Fiat 128 | 32.4     | 4        |  78.7    |  66      | 4.08     | 2.200    | 19.47    | 1        | 1        | 4        | 1        | 30.00    | 30.00000 | \n",
       "| Honda Civic | 30.4     | 4        |  75.7    |  52      | 4.93     | 1.615    | 18.52    | 1        | 1        | 4        | 2        | 32.20    | 32.19814 | \n",
       "| Toyota Corolla | 33.9     | 4        |  71.1    |  65      | 4.22     | 1.835    | 19.90    | 1        | 1        | 4        | 1        | 35.42    | 35.42234 | \n",
       "| Toyota Corona | 21.5     | 4        | 120.1    |  97      | 3.70     | 2.465    | 20.01    | 1        | 0        | 3        | 1        | 39.35    | 39.35091 | \n",
       "| Dodge Challenger | 15.5     | 8        | 318.0    | 150      | 2.76     | 3.520    | 16.87    | 0        | 0        | 3        | 2        | 42.61    | 42.61364 | \n",
       "| AMC Javelin | 15.2     | 8        | 304.0    | 150      | 3.15     | 3.435    | 17.30    | 0        | 0        | 3        | 2        | 43.67    | 43.66812 | \n",
       "| Camaro Z28 | 13.3     | 8        | 350.0    | 245      | 3.73     | 3.840    | 15.41    | 0        | 0        | 3        | 4        | 63.80    | 63.80208 | \n",
       "| Pontiac Firebird | 19.2     | 8        | 400.0    | 175      | 3.08     | 3.845    | 17.05    | 0        | 0        | 3        | 2        | 45.51    | 45.51365 | \n",
       "| Fiat X1-9 | 27.3     | 4        |  79.0    |  66      | 4.08     | 1.935    | 18.90    | 1        | 1        | 4        | 1        | 34.11    | 34.10853 | \n",
       "| Porsche 914-2 | 26.0     | 4        | 120.3    |  91      | 4.43     | 2.140    | 16.70    | 0        | 1        | 5        | 2        | 42.52    | 42.52336 | \n",
       "| Lotus Europa | 30.4     | 4        |  95.1    | 113      | 3.77     | 1.513    | 16.90    | 1        | 1        | 5        | 2        | 74.69    | 74.68605 | \n",
       "| Ford Pantera L | 15.8     | 8        | 351.0    | 264      | 4.22     | 3.170    | 14.50    | 0        | 1        | 5        | 4        | 83.28    | 83.28076 | \n",
       "| Ferrari Dino | 19.7     | 6        | 145.0    | 175      | 3.62     | 2.770    | 15.50    | 0        | 1        | 5        | 6        | 63.18    | 63.17690 | \n",
       "| Maserati Bora | 15.0     | 8        | 301.0    | 335      | 3.54     | 3.570    | 14.60    | 0        | 1        | 5        | 8        | 93.84    | 93.83754 | \n",
       "| Volvo 142E | 21.4     | 4        | 121.0    | 109      | 4.11     | 2.780    | 18.60    | 1        | 1        | 4        | 2        | 39.21    | 39.20863 | \n",
       "\n",
       "\n"
      ],
      "text/plain": [
       "                    mpg  cyl disp  hp  drat wt    qsec  vs am gear carb\n",
       "Mazda RX4           21.0 6   160.0 110 3.90 2.620 16.46 0  1  4    4   \n",
       "Mazda RX4 Wag       21.0 6   160.0 110 3.90 2.875 17.02 0  1  4    4   \n",
       "Datsun 710          22.8 4   108.0  93 3.85 2.320 18.61 1  1  4    1   \n",
       "Hornet 4 Drive      21.4 6   258.0 110 3.08 3.215 19.44 1  0  3    1   \n",
       "Hornet Sportabout   18.7 8   360.0 175 3.15 3.440 17.02 0  0  3    2   \n",
       "Valiant             18.1 6   225.0 105 2.76 3.460 20.22 1  0  3    1   \n",
       "Duster 360          14.3 8   360.0 245 3.21 3.570 15.84 0  0  3    4   \n",
       "Merc 240D           24.4 4   146.7  62 3.69 3.190 20.00 1  0  4    2   \n",
       "Merc 230            22.8 4   140.8  95 3.92 3.150 22.90 1  0  4    2   \n",
       "Merc 280            19.2 6   167.6 123 3.92 3.440 18.30 1  0  4    4   \n",
       "Merc 280C           17.8 6   167.6 123 3.92 3.440 18.90 1  0  4    4   \n",
       "Merc 450SE          16.4 8   275.8 180 3.07 4.070 17.40 0  0  3    3   \n",
       "Merc 450SL          17.3 8   275.8 180 3.07 3.730 17.60 0  0  3    3   \n",
       "Merc 450SLC         15.2 8   275.8 180 3.07 3.780 18.00 0  0  3    3   \n",
       "Cadillac Fleetwood  10.4 8   472.0 205 2.93 5.250 17.98 0  0  3    4   \n",
       "Lincoln Continental 10.4 8   460.0 215 3.00 5.424 17.82 0  0  3    4   \n",
       "Chrysler Imperial   14.7 8   440.0 230 3.23 5.345 17.42 0  0  3    4   \n",
       "Fiat 128            32.4 4    78.7  66 4.08 2.200 19.47 1  1  4    1   \n",
       "Honda Civic         30.4 4    75.7  52 4.93 1.615 18.52 1  1  4    2   \n",
       "Toyota Corolla      33.9 4    71.1  65 4.22 1.835 19.90 1  1  4    1   \n",
       "Toyota Corona       21.5 4   120.1  97 3.70 2.465 20.01 1  0  3    1   \n",
       "Dodge Challenger    15.5 8   318.0 150 2.76 3.520 16.87 0  0  3    2   \n",
       "AMC Javelin         15.2 8   304.0 150 3.15 3.435 17.30 0  0  3    2   \n",
       "Camaro Z28          13.3 8   350.0 245 3.73 3.840 15.41 0  0  3    4   \n",
       "Pontiac Firebird    19.2 8   400.0 175 3.08 3.845 17.05 0  0  3    2   \n",
       "Fiat X1-9           27.3 4    79.0  66 4.08 1.935 18.90 1  1  4    1   \n",
       "Porsche 914-2       26.0 4   120.3  91 4.43 2.140 16.70 0  1  5    2   \n",
       "Lotus Europa        30.4 4    95.1 113 3.77 1.513 16.90 1  1  5    2   \n",
       "Ford Pantera L      15.8 8   351.0 264 4.22 3.170 14.50 0  1  5    4   \n",
       "Ferrari Dino        19.7 6   145.0 175 3.62 2.770 15.50 0  1  5    6   \n",
       "Maserati Bora       15.0 8   301.0 335 3.54 3.570 14.60 0  1  5    8   \n",
       "Volvo 142E          21.4 4   121.0 109 4.11 2.780 18.60 1  1  4    2   \n",
       "                    performance performance2\n",
       "Mazda RX4           41.98       41.98473    \n",
       "Mazda RX4 Wag       38.26       38.26087    \n",
       "Datsun 710          40.09       40.08621    \n",
       "Hornet 4 Drive      34.21       34.21462    \n",
       "Hornet Sportabout   50.87       50.87209    \n",
       "Valiant             30.35       30.34682    \n",
       "Duster 360          68.63       68.62745    \n",
       "Merc 240D           19.44       19.43574    \n",
       "Merc 230            30.16       30.15873    \n",
       "Merc 280            35.76       35.75581    \n",
       "Merc 280C           35.76       35.75581    \n",
       "Merc 450SE          44.23       44.22604    \n",
       "Merc 450SL          48.26       48.25737    \n",
       "Merc 450SLC         47.62       47.61905    \n",
       "Cadillac Fleetwood  39.05       39.04762    \n",
       "Lincoln Continental 39.64       39.63864    \n",
       "Chrysler Imperial   43.03       43.03087    \n",
       "Fiat 128            30.00       30.00000    \n",
       "Honda Civic         32.20       32.19814    \n",
       "Toyota Corolla      35.42       35.42234    \n",
       "Toyota Corona       39.35       39.35091    \n",
       "Dodge Challenger    42.61       42.61364    \n",
       "AMC Javelin         43.67       43.66812    \n",
       "Camaro Z28          63.80       63.80208    \n",
       "Pontiac Firebird    45.51       45.51365    \n",
       "Fiat X1-9           34.11       34.10853    \n",
       "Porsche 914-2       42.52       42.52336    \n",
       "Lotus Europa        74.69       74.68605    \n",
       "Ford Pantera L      83.28       83.28076    \n",
       "Ferrari Dino        63.18       63.17690    \n",
       "Maserati Bora       93.84       93.83754    \n",
       "Volvo 142E          39.21       39.20863    "
      ]
     },
     "metadata": {},
     "output_type": "display_data"
    }
   ],
   "source": [
    "#help(round)\n",
    "#perf <- c(df['performance'])\n",
    "#perf\n",
    "#df['performance'] <- round(perf, digits = 1)\n",
    "df$performance <- round(df$performance, 2)\n",
    "df"
   ]
  },
  {
   "cell_type": "markdown",
   "metadata": {},
   "source": [
    "**Ex 10: What is the average mpg for cars that have more than 100 hp AND a wt value of more than 2.5.**"
   ]
  },
  {
   "cell_type": "code",
   "execution_count": 25,
   "metadata": {
    "ExecuteTime": {
     "end_time": "2017-04-08T17:44:14.003949",
     "start_time": "2017-04-08T14:44:13.967Z"
    },
    "collapsed": false
   },
   "outputs": [
    {
     "data": {
      "text/html": [
       "16.8636363636364"
      ],
      "text/latex": [
       "16.8636363636364"
      ],
      "text/markdown": [
       "16.8636363636364"
      ],
      "text/plain": [
       "[1] 16.86364"
      ]
     },
     "metadata": {},
     "output_type": "display_data"
    }
   ],
   "source": [
    "mean(subset(df, hp > 100 & wt > 2.5)$mpg)"
   ]
  },
  {
   "cell_type": "markdown",
   "metadata": {},
   "source": [
    "**Ex 11: What is the mpg of the Hornet Sportabout?**"
   ]
  },
  {
   "cell_type": "code",
   "execution_count": 38,
   "metadata": {
    "ExecuteTime": {
     "end_time": "2017-04-08T17:49:09.126123",
     "start_time": "2017-04-08T14:49:09.099Z"
    },
    "collapsed": false
   },
   "outputs": [
    {
     "data": {
      "text/html": [
       "18.7"
      ],
      "text/latex": [
       "18.7"
      ],
      "text/markdown": [
       "18.7"
      ],
      "text/plain": [
       "[1] 18.7"
      ]
     },
     "metadata": {},
     "output_type": "display_data"
    }
   ],
   "source": [
    "df['Hornet Sportabout',]$mpg"
   ]
  },
  {
   "cell_type": "code",
   "execution_count": null,
   "metadata": {
    "collapsed": true
   },
   "outputs": [],
   "source": []
  }
 ],
 "metadata": {
  "anaconda-cloud": {},
  "kernelspec": {
   "display_name": "R",
   "language": "R",
   "name": "ir"
  },
  "language_info": {
   "codemirror_mode": "r",
   "file_extension": ".r",
   "mimetype": "text/x-r-source",
   "name": "R",
   "pygments_lexer": "r",
   "version": "3.3.2"
  }
 },
 "nbformat": 4,
 "nbformat_minor": 2
}
