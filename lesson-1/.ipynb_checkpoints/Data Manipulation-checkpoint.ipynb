{
 "cells": [
  {
   "cell_type": "markdown",
   "metadata": {},
   "source": [
    "# Data Manipulation \n",
    "## Dplyr Exercises\n",
    "\n",
    "Perform the following operations using only the dplyr library. We will be reviewing the following operations:\n",
    "* filter() (and slice())\n",
    "* arrange()\n",
    "* select() (and rename())\n",
    "* distinct()\n",
    "* mutate() (and transmute())\n",
    "* summarise()\n",
    "* sample_n() and sample_frac()"
   ]
  },
  {
   "cell_type": "code",
   "execution_count": 11,
   "metadata": {
    "ExecuteTime": {
     "end_time": "2017-04-08T18:00:55.815902",
     "start_time": "2017-04-08T15:00:55.285Z"
    },
    "collapsed": false
   },
   "outputs": [
    {
     "name": "stderr",
     "output_type": "stream",
     "text": [
      "\n",
      "Attaching package: ‘dplyr’\n",
      "\n",
      "The following objects are masked from ‘package:stats’:\n",
      "\n",
      "    filter, lag\n",
      "\n",
      "The following objects are masked from ‘package:base’:\n",
      "\n",
      "    intersect, setdiff, setequal, union\n",
      "\n"
     ]
    }
   ],
   "source": [
    "library(dplyr)"
   ]
  },
  {
   "cell_type": "markdown",
   "metadata": {},
   "source": [
    "**We will use the mtcars dataframe for this exercise!**"
   ]
  },
  {
   "cell_type": "code",
   "execution_count": 2,
   "metadata": {
    "ExecuteTime": {
     "end_time": "2017-04-08T17:55:44.968619",
     "start_time": "2017-04-08T14:55:44.850Z"
    },
    "collapsed": false
   },
   "outputs": [
    {
     "data": {
      "text/html": [
       "<table>\n",
       "<thead><tr><th></th><th scope=col>mpg</th><th scope=col>cyl</th><th scope=col>disp</th><th scope=col>hp</th><th scope=col>drat</th><th scope=col>wt</th><th scope=col>qsec</th><th scope=col>vs</th><th scope=col>am</th><th scope=col>gear</th><th scope=col>carb</th></tr></thead>\n",
       "<tbody>\n",
       "\t<tr><th scope=row>Mazda RX4</th><td>21.0 </td><td>6    </td><td>160.0</td><td>110  </td><td>3.90 </td><td>2.620</td><td>16.46</td><td>0    </td><td>1    </td><td>4    </td><td>4    </td></tr>\n",
       "\t<tr><th scope=row>Mazda RX4 Wag</th><td>21.0 </td><td>6    </td><td>160.0</td><td>110  </td><td>3.90 </td><td>2.875</td><td>17.02</td><td>0    </td><td>1    </td><td>4    </td><td>4    </td></tr>\n",
       "\t<tr><th scope=row>Datsun 710</th><td>22.8 </td><td>4    </td><td>108.0</td><td> 93  </td><td>3.85 </td><td>2.320</td><td>18.61</td><td>1    </td><td>1    </td><td>4    </td><td>1    </td></tr>\n",
       "\t<tr><th scope=row>Hornet 4 Drive</th><td>21.4 </td><td>6    </td><td>258.0</td><td>110  </td><td>3.08 </td><td>3.215</td><td>19.44</td><td>1    </td><td>0    </td><td>3    </td><td>1    </td></tr>\n",
       "\t<tr><th scope=row>Hornet Sportabout</th><td>18.7 </td><td>8    </td><td>360.0</td><td>175  </td><td>3.15 </td><td>3.440</td><td>17.02</td><td>0    </td><td>0    </td><td>3    </td><td>2    </td></tr>\n",
       "\t<tr><th scope=row>Valiant</th><td>18.1 </td><td>6    </td><td>225.0</td><td>105  </td><td>2.76 </td><td>3.460</td><td>20.22</td><td>1    </td><td>0    </td><td>3    </td><td>1    </td></tr>\n",
       "\t<tr><th scope=row>Duster 360</th><td>14.3 </td><td>8    </td><td>360.0</td><td>245  </td><td>3.21 </td><td>3.570</td><td>15.84</td><td>0    </td><td>0    </td><td>3    </td><td>4    </td></tr>\n",
       "\t<tr><th scope=row>Merc 240D</th><td>24.4 </td><td>4    </td><td>146.7</td><td> 62  </td><td>3.69 </td><td>3.190</td><td>20.00</td><td>1    </td><td>0    </td><td>4    </td><td>2    </td></tr>\n",
       "\t<tr><th scope=row>Merc 230</th><td>22.8 </td><td>4    </td><td>140.8</td><td> 95  </td><td>3.92 </td><td>3.150</td><td>22.90</td><td>1    </td><td>0    </td><td>4    </td><td>2    </td></tr>\n",
       "\t<tr><th scope=row>Merc 280</th><td>19.2 </td><td>6    </td><td>167.6</td><td>123  </td><td>3.92 </td><td>3.440</td><td>18.30</td><td>1    </td><td>0    </td><td>4    </td><td>4    </td></tr>\n",
       "\t<tr><th scope=row>Merc 280C</th><td>17.8 </td><td>6    </td><td>167.6</td><td>123  </td><td>3.92 </td><td>3.440</td><td>18.90</td><td>1    </td><td>0    </td><td>4    </td><td>4    </td></tr>\n",
       "\t<tr><th scope=row>Merc 450SE</th><td>16.4 </td><td>8    </td><td>275.8</td><td>180  </td><td>3.07 </td><td>4.070</td><td>17.40</td><td>0    </td><td>0    </td><td>3    </td><td>3    </td></tr>\n",
       "\t<tr><th scope=row>Merc 450SL</th><td>17.3 </td><td>8    </td><td>275.8</td><td>180  </td><td>3.07 </td><td>3.730</td><td>17.60</td><td>0    </td><td>0    </td><td>3    </td><td>3    </td></tr>\n",
       "\t<tr><th scope=row>Merc 450SLC</th><td>15.2 </td><td>8    </td><td>275.8</td><td>180  </td><td>3.07 </td><td>3.780</td><td>18.00</td><td>0    </td><td>0    </td><td>3    </td><td>3    </td></tr>\n",
       "\t<tr><th scope=row>Cadillac Fleetwood</th><td>10.4 </td><td>8    </td><td>472.0</td><td>205  </td><td>2.93 </td><td>5.250</td><td>17.98</td><td>0    </td><td>0    </td><td>3    </td><td>4    </td></tr>\n",
       "\t<tr><th scope=row>Lincoln Continental</th><td>10.4 </td><td>8    </td><td>460.0</td><td>215  </td><td>3.00 </td><td>5.424</td><td>17.82</td><td>0    </td><td>0    </td><td>3    </td><td>4    </td></tr>\n",
       "\t<tr><th scope=row>Chrysler Imperial</th><td>14.7 </td><td>8    </td><td>440.0</td><td>230  </td><td>3.23 </td><td>5.345</td><td>17.42</td><td>0    </td><td>0    </td><td>3    </td><td>4    </td></tr>\n",
       "\t<tr><th scope=row>Fiat 128</th><td>32.4 </td><td>4    </td><td> 78.7</td><td> 66  </td><td>4.08 </td><td>2.200</td><td>19.47</td><td>1    </td><td>1    </td><td>4    </td><td>1    </td></tr>\n",
       "\t<tr><th scope=row>Honda Civic</th><td>30.4 </td><td>4    </td><td> 75.7</td><td> 52  </td><td>4.93 </td><td>1.615</td><td>18.52</td><td>1    </td><td>1    </td><td>4    </td><td>2    </td></tr>\n",
       "\t<tr><th scope=row>Toyota Corolla</th><td>33.9 </td><td>4    </td><td> 71.1</td><td> 65  </td><td>4.22 </td><td>1.835</td><td>19.90</td><td>1    </td><td>1    </td><td>4    </td><td>1    </td></tr>\n",
       "\t<tr><th scope=row>Toyota Corona</th><td>21.5 </td><td>4    </td><td>120.1</td><td> 97  </td><td>3.70 </td><td>2.465</td><td>20.01</td><td>1    </td><td>0    </td><td>3    </td><td>1    </td></tr>\n",
       "\t<tr><th scope=row>Dodge Challenger</th><td>15.5 </td><td>8    </td><td>318.0</td><td>150  </td><td>2.76 </td><td>3.520</td><td>16.87</td><td>0    </td><td>0    </td><td>3    </td><td>2    </td></tr>\n",
       "\t<tr><th scope=row>AMC Javelin</th><td>15.2 </td><td>8    </td><td>304.0</td><td>150  </td><td>3.15 </td><td>3.435</td><td>17.30</td><td>0    </td><td>0    </td><td>3    </td><td>2    </td></tr>\n",
       "\t<tr><th scope=row>Camaro Z28</th><td>13.3 </td><td>8    </td><td>350.0</td><td>245  </td><td>3.73 </td><td>3.840</td><td>15.41</td><td>0    </td><td>0    </td><td>3    </td><td>4    </td></tr>\n",
       "\t<tr><th scope=row>Pontiac Firebird</th><td>19.2 </td><td>8    </td><td>400.0</td><td>175  </td><td>3.08 </td><td>3.845</td><td>17.05</td><td>0    </td><td>0    </td><td>3    </td><td>2    </td></tr>\n",
       "\t<tr><th scope=row>Fiat X1-9</th><td>27.3 </td><td>4    </td><td> 79.0</td><td> 66  </td><td>4.08 </td><td>1.935</td><td>18.90</td><td>1    </td><td>1    </td><td>4    </td><td>1    </td></tr>\n",
       "\t<tr><th scope=row>Porsche 914-2</th><td>26.0 </td><td>4    </td><td>120.3</td><td> 91  </td><td>4.43 </td><td>2.140</td><td>16.70</td><td>0    </td><td>1    </td><td>5    </td><td>2    </td></tr>\n",
       "\t<tr><th scope=row>Lotus Europa</th><td>30.4 </td><td>4    </td><td> 95.1</td><td>113  </td><td>3.77 </td><td>1.513</td><td>16.90</td><td>1    </td><td>1    </td><td>5    </td><td>2    </td></tr>\n",
       "\t<tr><th scope=row>Ford Pantera L</th><td>15.8 </td><td>8    </td><td>351.0</td><td>264  </td><td>4.22 </td><td>3.170</td><td>14.50</td><td>0    </td><td>1    </td><td>5    </td><td>4    </td></tr>\n",
       "\t<tr><th scope=row>Ferrari Dino</th><td>19.7 </td><td>6    </td><td>145.0</td><td>175  </td><td>3.62 </td><td>2.770</td><td>15.50</td><td>0    </td><td>1    </td><td>5    </td><td>6    </td></tr>\n",
       "\t<tr><th scope=row>Maserati Bora</th><td>15.0 </td><td>8    </td><td>301.0</td><td>335  </td><td>3.54 </td><td>3.570</td><td>14.60</td><td>0    </td><td>1    </td><td>5    </td><td>8    </td></tr>\n",
       "\t<tr><th scope=row>Volvo 142E</th><td>21.4 </td><td>4    </td><td>121.0</td><td>109  </td><td>4.11 </td><td>2.780</td><td>18.60</td><td>1    </td><td>1    </td><td>4    </td><td>2    </td></tr>\n",
       "</tbody>\n",
       "</table>\n"
      ],
      "text/latex": [
       "\\begin{tabular}{r|lllllllllll}\n",
       "  & mpg & cyl & disp & hp & drat & wt & qsec & vs & am & gear & carb\\\\\n",
       "\\hline\n",
       "\tMazda RX4 & 21.0  & 6     & 160.0 & 110   & 3.90  & 2.620 & 16.46 & 0     & 1     & 4     & 4    \\\\\n",
       "\tMazda RX4 Wag & 21.0  & 6     & 160.0 & 110   & 3.90  & 2.875 & 17.02 & 0     & 1     & 4     & 4    \\\\\n",
       "\tDatsun 710 & 22.8  & 4     & 108.0 &  93   & 3.85  & 2.320 & 18.61 & 1     & 1     & 4     & 1    \\\\\n",
       "\tHornet 4 Drive & 21.4  & 6     & 258.0 & 110   & 3.08  & 3.215 & 19.44 & 1     & 0     & 3     & 1    \\\\\n",
       "\tHornet Sportabout & 18.7  & 8     & 360.0 & 175   & 3.15  & 3.440 & 17.02 & 0     & 0     & 3     & 2    \\\\\n",
       "\tValiant & 18.1  & 6     & 225.0 & 105   & 2.76  & 3.460 & 20.22 & 1     & 0     & 3     & 1    \\\\\n",
       "\tDuster 360 & 14.3  & 8     & 360.0 & 245   & 3.21  & 3.570 & 15.84 & 0     & 0     & 3     & 4    \\\\\n",
       "\tMerc 240D & 24.4  & 4     & 146.7 &  62   & 3.69  & 3.190 & 20.00 & 1     & 0     & 4     & 2    \\\\\n",
       "\tMerc 230 & 22.8  & 4     & 140.8 &  95   & 3.92  & 3.150 & 22.90 & 1     & 0     & 4     & 2    \\\\\n",
       "\tMerc 280 & 19.2  & 6     & 167.6 & 123   & 3.92  & 3.440 & 18.30 & 1     & 0     & 4     & 4    \\\\\n",
       "\tMerc 280C & 17.8  & 6     & 167.6 & 123   & 3.92  & 3.440 & 18.90 & 1     & 0     & 4     & 4    \\\\\n",
       "\tMerc 450SE & 16.4  & 8     & 275.8 & 180   & 3.07  & 4.070 & 17.40 & 0     & 0     & 3     & 3    \\\\\n",
       "\tMerc 450SL & 17.3  & 8     & 275.8 & 180   & 3.07  & 3.730 & 17.60 & 0     & 0     & 3     & 3    \\\\\n",
       "\tMerc 450SLC & 15.2  & 8     & 275.8 & 180   & 3.07  & 3.780 & 18.00 & 0     & 0     & 3     & 3    \\\\\n",
       "\tCadillac Fleetwood & 10.4  & 8     & 472.0 & 205   & 2.93  & 5.250 & 17.98 & 0     & 0     & 3     & 4    \\\\\n",
       "\tLincoln Continental & 10.4  & 8     & 460.0 & 215   & 3.00  & 5.424 & 17.82 & 0     & 0     & 3     & 4    \\\\\n",
       "\tChrysler Imperial & 14.7  & 8     & 440.0 & 230   & 3.23  & 5.345 & 17.42 & 0     & 0     & 3     & 4    \\\\\n",
       "\tFiat 128 & 32.4  & 4     &  78.7 &  66   & 4.08  & 2.200 & 19.47 & 1     & 1     & 4     & 1    \\\\\n",
       "\tHonda Civic & 30.4  & 4     &  75.7 &  52   & 4.93  & 1.615 & 18.52 & 1     & 1     & 4     & 2    \\\\\n",
       "\tToyota Corolla & 33.9  & 4     &  71.1 &  65   & 4.22  & 1.835 & 19.90 & 1     & 1     & 4     & 1    \\\\\n",
       "\tToyota Corona & 21.5  & 4     & 120.1 &  97   & 3.70  & 2.465 & 20.01 & 1     & 0     & 3     & 1    \\\\\n",
       "\tDodge Challenger & 15.5  & 8     & 318.0 & 150   & 2.76  & 3.520 & 16.87 & 0     & 0     & 3     & 2    \\\\\n",
       "\tAMC Javelin & 15.2  & 8     & 304.0 & 150   & 3.15  & 3.435 & 17.30 & 0     & 0     & 3     & 2    \\\\\n",
       "\tCamaro Z28 & 13.3  & 8     & 350.0 & 245   & 3.73  & 3.840 & 15.41 & 0     & 0     & 3     & 4    \\\\\n",
       "\tPontiac Firebird & 19.2  & 8     & 400.0 & 175   & 3.08  & 3.845 & 17.05 & 0     & 0     & 3     & 2    \\\\\n",
       "\tFiat X1-9 & 27.3  & 4     &  79.0 &  66   & 4.08  & 1.935 & 18.90 & 1     & 1     & 4     & 1    \\\\\n",
       "\tPorsche 914-2 & 26.0  & 4     & 120.3 &  91   & 4.43  & 2.140 & 16.70 & 0     & 1     & 5     & 2    \\\\\n",
       "\tLotus Europa & 30.4  & 4     &  95.1 & 113   & 3.77  & 1.513 & 16.90 & 1     & 1     & 5     & 2    \\\\\n",
       "\tFord Pantera L & 15.8  & 8     & 351.0 & 264   & 4.22  & 3.170 & 14.50 & 0     & 1     & 5     & 4    \\\\\n",
       "\tFerrari Dino & 19.7  & 6     & 145.0 & 175   & 3.62  & 2.770 & 15.50 & 0     & 1     & 5     & 6    \\\\\n",
       "\tMaserati Bora & 15.0  & 8     & 301.0 & 335   & 3.54  & 3.570 & 14.60 & 0     & 1     & 5     & 8    \\\\\n",
       "\tVolvo 142E & 21.4  & 4     & 121.0 & 109   & 4.11  & 2.780 & 18.60 & 1     & 1     & 4     & 2    \\\\\n",
       "\\end{tabular}\n"
      ],
      "text/markdown": [
       "\n",
       "| <!--/--> | mpg | cyl | disp | hp | drat | wt | qsec | vs | am | gear | carb | \n",
       "|---|---|---|---|---|---|---|---|---|---|---|---|---|---|---|---|---|---|---|---|---|---|---|---|---|---|---|---|---|---|---|---|\n",
       "| Mazda RX4 | 21.0  | 6     | 160.0 | 110   | 3.90  | 2.620 | 16.46 | 0     | 1     | 4     | 4     | \n",
       "| Mazda RX4 Wag | 21.0  | 6     | 160.0 | 110   | 3.90  | 2.875 | 17.02 | 0     | 1     | 4     | 4     | \n",
       "| Datsun 710 | 22.8  | 4     | 108.0 |  93   | 3.85  | 2.320 | 18.61 | 1     | 1     | 4     | 1     | \n",
       "| Hornet 4 Drive | 21.4  | 6     | 258.0 | 110   | 3.08  | 3.215 | 19.44 | 1     | 0     | 3     | 1     | \n",
       "| Hornet Sportabout | 18.7  | 8     | 360.0 | 175   | 3.15  | 3.440 | 17.02 | 0     | 0     | 3     | 2     | \n",
       "| Valiant | 18.1  | 6     | 225.0 | 105   | 2.76  | 3.460 | 20.22 | 1     | 0     | 3     | 1     | \n",
       "| Duster 360 | 14.3  | 8     | 360.0 | 245   | 3.21  | 3.570 | 15.84 | 0     | 0     | 3     | 4     | \n",
       "| Merc 240D | 24.4  | 4     | 146.7 |  62   | 3.69  | 3.190 | 20.00 | 1     | 0     | 4     | 2     | \n",
       "| Merc 230 | 22.8  | 4     | 140.8 |  95   | 3.92  | 3.150 | 22.90 | 1     | 0     | 4     | 2     | \n",
       "| Merc 280 | 19.2  | 6     | 167.6 | 123   | 3.92  | 3.440 | 18.30 | 1     | 0     | 4     | 4     | \n",
       "| Merc 280C | 17.8  | 6     | 167.6 | 123   | 3.92  | 3.440 | 18.90 | 1     | 0     | 4     | 4     | \n",
       "| Merc 450SE | 16.4  | 8     | 275.8 | 180   | 3.07  | 4.070 | 17.40 | 0     | 0     | 3     | 3     | \n",
       "| Merc 450SL | 17.3  | 8     | 275.8 | 180   | 3.07  | 3.730 | 17.60 | 0     | 0     | 3     | 3     | \n",
       "| Merc 450SLC | 15.2  | 8     | 275.8 | 180   | 3.07  | 3.780 | 18.00 | 0     | 0     | 3     | 3     | \n",
       "| Cadillac Fleetwood | 10.4  | 8     | 472.0 | 205   | 2.93  | 5.250 | 17.98 | 0     | 0     | 3     | 4     | \n",
       "| Lincoln Continental | 10.4  | 8     | 460.0 | 215   | 3.00  | 5.424 | 17.82 | 0     | 0     | 3     | 4     | \n",
       "| Chrysler Imperial | 14.7  | 8     | 440.0 | 230   | 3.23  | 5.345 | 17.42 | 0     | 0     | 3     | 4     | \n",
       "| Fiat 128 | 32.4  | 4     |  78.7 |  66   | 4.08  | 2.200 | 19.47 | 1     | 1     | 4     | 1     | \n",
       "| Honda Civic | 30.4  | 4     |  75.7 |  52   | 4.93  | 1.615 | 18.52 | 1     | 1     | 4     | 2     | \n",
       "| Toyota Corolla | 33.9  | 4     |  71.1 |  65   | 4.22  | 1.835 | 19.90 | 1     | 1     | 4     | 1     | \n",
       "| Toyota Corona | 21.5  | 4     | 120.1 |  97   | 3.70  | 2.465 | 20.01 | 1     | 0     | 3     | 1     | \n",
       "| Dodge Challenger | 15.5  | 8     | 318.0 | 150   | 2.76  | 3.520 | 16.87 | 0     | 0     | 3     | 2     | \n",
       "| AMC Javelin | 15.2  | 8     | 304.0 | 150   | 3.15  | 3.435 | 17.30 | 0     | 0     | 3     | 2     | \n",
       "| Camaro Z28 | 13.3  | 8     | 350.0 | 245   | 3.73  | 3.840 | 15.41 | 0     | 0     | 3     | 4     | \n",
       "| Pontiac Firebird | 19.2  | 8     | 400.0 | 175   | 3.08  | 3.845 | 17.05 | 0     | 0     | 3     | 2     | \n",
       "| Fiat X1-9 | 27.3  | 4     |  79.0 |  66   | 4.08  | 1.935 | 18.90 | 1     | 1     | 4     | 1     | \n",
       "| Porsche 914-2 | 26.0  | 4     | 120.3 |  91   | 4.43  | 2.140 | 16.70 | 0     | 1     | 5     | 2     | \n",
       "| Lotus Europa | 30.4  | 4     |  95.1 | 113   | 3.77  | 1.513 | 16.90 | 1     | 1     | 5     | 2     | \n",
       "| Ford Pantera L | 15.8  | 8     | 351.0 | 264   | 4.22  | 3.170 | 14.50 | 0     | 1     | 5     | 4     | \n",
       "| Ferrari Dino | 19.7  | 6     | 145.0 | 175   | 3.62  | 2.770 | 15.50 | 0     | 1     | 5     | 6     | \n",
       "| Maserati Bora | 15.0  | 8     | 301.0 | 335   | 3.54  | 3.570 | 14.60 | 0     | 1     | 5     | 8     | \n",
       "| Volvo 142E | 21.4  | 4     | 121.0 | 109   | 4.11  | 2.780 | 18.60 | 1     | 1     | 4     | 2     | \n",
       "\n",
       "\n"
      ],
      "text/plain": [
       "                    mpg  cyl disp  hp  drat wt    qsec  vs am gear carb\n",
       "Mazda RX4           21.0 6   160.0 110 3.90 2.620 16.46 0  1  4    4   \n",
       "Mazda RX4 Wag       21.0 6   160.0 110 3.90 2.875 17.02 0  1  4    4   \n",
       "Datsun 710          22.8 4   108.0  93 3.85 2.320 18.61 1  1  4    1   \n",
       "Hornet 4 Drive      21.4 6   258.0 110 3.08 3.215 19.44 1  0  3    1   \n",
       "Hornet Sportabout   18.7 8   360.0 175 3.15 3.440 17.02 0  0  3    2   \n",
       "Valiant             18.1 6   225.0 105 2.76 3.460 20.22 1  0  3    1   \n",
       "Duster 360          14.3 8   360.0 245 3.21 3.570 15.84 0  0  3    4   \n",
       "Merc 240D           24.4 4   146.7  62 3.69 3.190 20.00 1  0  4    2   \n",
       "Merc 230            22.8 4   140.8  95 3.92 3.150 22.90 1  0  4    2   \n",
       "Merc 280            19.2 6   167.6 123 3.92 3.440 18.30 1  0  4    4   \n",
       "Merc 280C           17.8 6   167.6 123 3.92 3.440 18.90 1  0  4    4   \n",
       "Merc 450SE          16.4 8   275.8 180 3.07 4.070 17.40 0  0  3    3   \n",
       "Merc 450SL          17.3 8   275.8 180 3.07 3.730 17.60 0  0  3    3   \n",
       "Merc 450SLC         15.2 8   275.8 180 3.07 3.780 18.00 0  0  3    3   \n",
       "Cadillac Fleetwood  10.4 8   472.0 205 2.93 5.250 17.98 0  0  3    4   \n",
       "Lincoln Continental 10.4 8   460.0 215 3.00 5.424 17.82 0  0  3    4   \n",
       "Chrysler Imperial   14.7 8   440.0 230 3.23 5.345 17.42 0  0  3    4   \n",
       "Fiat 128            32.4 4    78.7  66 4.08 2.200 19.47 1  1  4    1   \n",
       "Honda Civic         30.4 4    75.7  52 4.93 1.615 18.52 1  1  4    2   \n",
       "Toyota Corolla      33.9 4    71.1  65 4.22 1.835 19.90 1  1  4    1   \n",
       "Toyota Corona       21.5 4   120.1  97 3.70 2.465 20.01 1  0  3    1   \n",
       "Dodge Challenger    15.5 8   318.0 150 2.76 3.520 16.87 0  0  3    2   \n",
       "AMC Javelin         15.2 8   304.0 150 3.15 3.435 17.30 0  0  3    2   \n",
       "Camaro Z28          13.3 8   350.0 245 3.73 3.840 15.41 0  0  3    4   \n",
       "Pontiac Firebird    19.2 8   400.0 175 3.08 3.845 17.05 0  0  3    2   \n",
       "Fiat X1-9           27.3 4    79.0  66 4.08 1.935 18.90 1  1  4    1   \n",
       "Porsche 914-2       26.0 4   120.3  91 4.43 2.140 16.70 0  1  5    2   \n",
       "Lotus Europa        30.4 4    95.1 113 3.77 1.513 16.90 1  1  5    2   \n",
       "Ford Pantera L      15.8 8   351.0 264 4.22 3.170 14.50 0  1  5    4   \n",
       "Ferrari Dino        19.7 6   145.0 175 3.62 2.770 15.50 0  1  5    6   \n",
       "Maserati Bora       15.0 8   301.0 335 3.54 3.570 14.60 0  1  5    8   \n",
       "Volvo 142E          21.4 4   121.0 109 4.11 2.780 18.60 1  1  4    2   "
      ]
     },
     "metadata": {},
     "output_type": "display_data"
    }
   ],
   "source": [
    "mtcars"
   ]
  },
  {
   "cell_type": "markdown",
   "metadata": {},
   "source": [
    "**Return rows of cars that have an mpg value greater than 20 and 6 cylinders.**"
   ]
  },
  {
   "cell_type": "code",
   "execution_count": 25,
   "metadata": {
    "ExecuteTime": {
     "end_time": "2017-04-08T18:03:34.844105",
     "start_time": "2017-04-08T15:03:34.791Z"
    },
    "collapsed": false
   },
   "outputs": [
    {
     "data": {
      "text/html": [
       "<table>\n",
       "<thead><tr><th scope=col>mpg</th><th scope=col>cyl</th><th scope=col>disp</th><th scope=col>hp</th><th scope=col>drat</th><th scope=col>wt</th><th scope=col>qsec</th><th scope=col>vs</th><th scope=col>am</th><th scope=col>gear</th><th scope=col>carb</th></tr></thead>\n",
       "<tbody>\n",
       "\t<tr><td>21.0 </td><td>6    </td><td>160  </td><td>110  </td><td>3.90 </td><td>2.620</td><td>16.46</td><td>0    </td><td>1    </td><td>4    </td><td>4    </td></tr>\n",
       "\t<tr><td>21.0 </td><td>6    </td><td>160  </td><td>110  </td><td>3.90 </td><td>2.875</td><td>17.02</td><td>0    </td><td>1    </td><td>4    </td><td>4    </td></tr>\n",
       "\t<tr><td>21.4 </td><td>6    </td><td>258  </td><td>110  </td><td>3.08 </td><td>3.215</td><td>19.44</td><td>1    </td><td>0    </td><td>3    </td><td>1    </td></tr>\n",
       "</tbody>\n",
       "</table>\n"
      ],
      "text/latex": [
       "\\begin{tabular}{r|lllllllllll}\n",
       " mpg & cyl & disp & hp & drat & wt & qsec & vs & am & gear & carb\\\\\n",
       "\\hline\n",
       "\t 21.0  & 6     & 160   & 110   & 3.90  & 2.620 & 16.46 & 0     & 1     & 4     & 4    \\\\\n",
       "\t 21.0  & 6     & 160   & 110   & 3.90  & 2.875 & 17.02 & 0     & 1     & 4     & 4    \\\\\n",
       "\t 21.4  & 6     & 258   & 110   & 3.08  & 3.215 & 19.44 & 1     & 0     & 3     & 1    \\\\\n",
       "\\end{tabular}\n"
      ],
      "text/markdown": [
       "\n",
       "mpg | cyl | disp | hp | drat | wt | qsec | vs | am | gear | carb | \n",
       "|---|---|---|\n",
       "| 21.0  | 6     | 160   | 110   | 3.90  | 2.620 | 16.46 | 0     | 1     | 4     | 4     | \n",
       "| 21.0  | 6     | 160   | 110   | 3.90  | 2.875 | 17.02 | 0     | 1     | 4     | 4     | \n",
       "| 21.4  | 6     | 258   | 110   | 3.08  | 3.215 | 19.44 | 1     | 0     | 3     | 1     | \n",
       "\n",
       "\n"
      ],
      "text/plain": [
       "  mpg  cyl disp hp  drat wt    qsec  vs am gear carb\n",
       "1 21.0 6   160  110 3.90 2.620 16.46 0  1  4    4   \n",
       "2 21.0 6   160  110 3.90 2.875 17.02 0  1  4    4   \n",
       "3 21.4 6   258  110 3.08 3.215 19.44 1  0  3    1   "
      ]
     },
     "metadata": {},
     "output_type": "display_data"
    }
   ],
   "source": [
    "filter(mtcars, mpg > 20 & cyl == 6)\n"
   ]
  },
  {
   "cell_type": "markdown",
   "metadata": {},
   "source": [
    "**Reorder the Data Frame by cyl first, then by descending wt.**"
   ]
  },
  {
   "cell_type": "code",
   "execution_count": 33,
   "metadata": {
    "ExecuteTime": {
     "end_time": "2017-04-08T18:06:23.355122",
     "start_time": "2017-04-08T15:06:23.238Z"
    },
    "collapsed": false
   },
   "outputs": [
    {
     "data": {
      "text/html": [
       "<table>\n",
       "<thead><tr><th scope=col>mpg</th><th scope=col>cyl</th><th scope=col>disp</th><th scope=col>hp</th><th scope=col>drat</th><th scope=col>wt</th><th scope=col>qsec</th><th scope=col>vs</th><th scope=col>am</th><th scope=col>gear</th><th scope=col>carb</th></tr></thead>\n",
       "<tbody>\n",
       "\t<tr><td>24.4 </td><td>4    </td><td>146.7</td><td> 62  </td><td>3.69 </td><td>3.190</td><td>20.00</td><td>1    </td><td>0    </td><td>4    </td><td>2    </td></tr>\n",
       "\t<tr><td>22.8 </td><td>4    </td><td>140.8</td><td> 95  </td><td>3.92 </td><td>3.150</td><td>22.90</td><td>1    </td><td>0    </td><td>4    </td><td>2    </td></tr>\n",
       "\t<tr><td>21.4 </td><td>4    </td><td>121.0</td><td>109  </td><td>4.11 </td><td>2.780</td><td>18.60</td><td>1    </td><td>1    </td><td>4    </td><td>2    </td></tr>\n",
       "\t<tr><td>21.5 </td><td>4    </td><td>120.1</td><td> 97  </td><td>3.70 </td><td>2.465</td><td>20.01</td><td>1    </td><td>0    </td><td>3    </td><td>1    </td></tr>\n",
       "\t<tr><td>22.8 </td><td>4    </td><td>108.0</td><td> 93  </td><td>3.85 </td><td>2.320</td><td>18.61</td><td>1    </td><td>1    </td><td>4    </td><td>1    </td></tr>\n",
       "\t<tr><td>32.4 </td><td>4    </td><td> 78.7</td><td> 66  </td><td>4.08 </td><td>2.200</td><td>19.47</td><td>1    </td><td>1    </td><td>4    </td><td>1    </td></tr>\n",
       "\t<tr><td>26.0 </td><td>4    </td><td>120.3</td><td> 91  </td><td>4.43 </td><td>2.140</td><td>16.70</td><td>0    </td><td>1    </td><td>5    </td><td>2    </td></tr>\n",
       "\t<tr><td>27.3 </td><td>4    </td><td> 79.0</td><td> 66  </td><td>4.08 </td><td>1.935</td><td>18.90</td><td>1    </td><td>1    </td><td>4    </td><td>1    </td></tr>\n",
       "\t<tr><td>33.9 </td><td>4    </td><td> 71.1</td><td> 65  </td><td>4.22 </td><td>1.835</td><td>19.90</td><td>1    </td><td>1    </td><td>4    </td><td>1    </td></tr>\n",
       "\t<tr><td>30.4 </td><td>4    </td><td> 75.7</td><td> 52  </td><td>4.93 </td><td>1.615</td><td>18.52</td><td>1    </td><td>1    </td><td>4    </td><td>2    </td></tr>\n",
       "\t<tr><td>30.4 </td><td>4    </td><td> 95.1</td><td>113  </td><td>3.77 </td><td>1.513</td><td>16.90</td><td>1    </td><td>1    </td><td>5    </td><td>2    </td></tr>\n",
       "\t<tr><td>18.1 </td><td>6    </td><td>225.0</td><td>105  </td><td>2.76 </td><td>3.460</td><td>20.22</td><td>1    </td><td>0    </td><td>3    </td><td>1    </td></tr>\n",
       "\t<tr><td>19.2 </td><td>6    </td><td>167.6</td><td>123  </td><td>3.92 </td><td>3.440</td><td>18.30</td><td>1    </td><td>0    </td><td>4    </td><td>4    </td></tr>\n",
       "\t<tr><td>17.8 </td><td>6    </td><td>167.6</td><td>123  </td><td>3.92 </td><td>3.440</td><td>18.90</td><td>1    </td><td>0    </td><td>4    </td><td>4    </td></tr>\n",
       "\t<tr><td>21.4 </td><td>6    </td><td>258.0</td><td>110  </td><td>3.08 </td><td>3.215</td><td>19.44</td><td>1    </td><td>0    </td><td>3    </td><td>1    </td></tr>\n",
       "\t<tr><td>21.0 </td><td>6    </td><td>160.0</td><td>110  </td><td>3.90 </td><td>2.875</td><td>17.02</td><td>0    </td><td>1    </td><td>4    </td><td>4    </td></tr>\n",
       "\t<tr><td>19.7 </td><td>6    </td><td>145.0</td><td>175  </td><td>3.62 </td><td>2.770</td><td>15.50</td><td>0    </td><td>1    </td><td>5    </td><td>6    </td></tr>\n",
       "\t<tr><td>21.0 </td><td>6    </td><td>160.0</td><td>110  </td><td>3.90 </td><td>2.620</td><td>16.46</td><td>0    </td><td>1    </td><td>4    </td><td>4    </td></tr>\n",
       "\t<tr><td>10.4 </td><td>8    </td><td>460.0</td><td>215  </td><td>3.00 </td><td>5.424</td><td>17.82</td><td>0    </td><td>0    </td><td>3    </td><td>4    </td></tr>\n",
       "\t<tr><td>14.7 </td><td>8    </td><td>440.0</td><td>230  </td><td>3.23 </td><td>5.345</td><td>17.42</td><td>0    </td><td>0    </td><td>3    </td><td>4    </td></tr>\n",
       "\t<tr><td>10.4 </td><td>8    </td><td>472.0</td><td>205  </td><td>2.93 </td><td>5.250</td><td>17.98</td><td>0    </td><td>0    </td><td>3    </td><td>4    </td></tr>\n",
       "\t<tr><td>16.4 </td><td>8    </td><td>275.8</td><td>180  </td><td>3.07 </td><td>4.070</td><td>17.40</td><td>0    </td><td>0    </td><td>3    </td><td>3    </td></tr>\n",
       "\t<tr><td>19.2 </td><td>8    </td><td>400.0</td><td>175  </td><td>3.08 </td><td>3.845</td><td>17.05</td><td>0    </td><td>0    </td><td>3    </td><td>2    </td></tr>\n",
       "\t<tr><td>13.3 </td><td>8    </td><td>350.0</td><td>245  </td><td>3.73 </td><td>3.840</td><td>15.41</td><td>0    </td><td>0    </td><td>3    </td><td>4    </td></tr>\n",
       "\t<tr><td>15.2 </td><td>8    </td><td>275.8</td><td>180  </td><td>3.07 </td><td>3.780</td><td>18.00</td><td>0    </td><td>0    </td><td>3    </td><td>3    </td></tr>\n",
       "\t<tr><td>17.3 </td><td>8    </td><td>275.8</td><td>180  </td><td>3.07 </td><td>3.730</td><td>17.60</td><td>0    </td><td>0    </td><td>3    </td><td>3    </td></tr>\n",
       "\t<tr><td>14.3 </td><td>8    </td><td>360.0</td><td>245  </td><td>3.21 </td><td>3.570</td><td>15.84</td><td>0    </td><td>0    </td><td>3    </td><td>4    </td></tr>\n",
       "\t<tr><td>15.0 </td><td>8    </td><td>301.0</td><td>335  </td><td>3.54 </td><td>3.570</td><td>14.60</td><td>0    </td><td>1    </td><td>5    </td><td>8    </td></tr>\n",
       "\t<tr><td>15.5 </td><td>8    </td><td>318.0</td><td>150  </td><td>2.76 </td><td>3.520</td><td>16.87</td><td>0    </td><td>0    </td><td>3    </td><td>2    </td></tr>\n",
       "\t<tr><td>18.7 </td><td>8    </td><td>360.0</td><td>175  </td><td>3.15 </td><td>3.440</td><td>17.02</td><td>0    </td><td>0    </td><td>3    </td><td>2    </td></tr>\n",
       "\t<tr><td>15.2 </td><td>8    </td><td>304.0</td><td>150  </td><td>3.15 </td><td>3.435</td><td>17.30</td><td>0    </td><td>0    </td><td>3    </td><td>2    </td></tr>\n",
       "\t<tr><td>15.8 </td><td>8    </td><td>351.0</td><td>264  </td><td>4.22 </td><td>3.170</td><td>14.50</td><td>0    </td><td>1    </td><td>5    </td><td>4    </td></tr>\n",
       "</tbody>\n",
       "</table>\n"
      ],
      "text/latex": [
       "\\begin{tabular}{r|lllllllllll}\n",
       " mpg & cyl & disp & hp & drat & wt & qsec & vs & am & gear & carb\\\\\n",
       "\\hline\n",
       "\t 24.4  & 4     & 146.7 &  62   & 3.69  & 3.190 & 20.00 & 1     & 0     & 4     & 2    \\\\\n",
       "\t 22.8  & 4     & 140.8 &  95   & 3.92  & 3.150 & 22.90 & 1     & 0     & 4     & 2    \\\\\n",
       "\t 21.4  & 4     & 121.0 & 109   & 4.11  & 2.780 & 18.60 & 1     & 1     & 4     & 2    \\\\\n",
       "\t 21.5  & 4     & 120.1 &  97   & 3.70  & 2.465 & 20.01 & 1     & 0     & 3     & 1    \\\\\n",
       "\t 22.8  & 4     & 108.0 &  93   & 3.85  & 2.320 & 18.61 & 1     & 1     & 4     & 1    \\\\\n",
       "\t 32.4  & 4     &  78.7 &  66   & 4.08  & 2.200 & 19.47 & 1     & 1     & 4     & 1    \\\\\n",
       "\t 26.0  & 4     & 120.3 &  91   & 4.43  & 2.140 & 16.70 & 0     & 1     & 5     & 2    \\\\\n",
       "\t 27.3  & 4     &  79.0 &  66   & 4.08  & 1.935 & 18.90 & 1     & 1     & 4     & 1    \\\\\n",
       "\t 33.9  & 4     &  71.1 &  65   & 4.22  & 1.835 & 19.90 & 1     & 1     & 4     & 1    \\\\\n",
       "\t 30.4  & 4     &  75.7 &  52   & 4.93  & 1.615 & 18.52 & 1     & 1     & 4     & 2    \\\\\n",
       "\t 30.4  & 4     &  95.1 & 113   & 3.77  & 1.513 & 16.90 & 1     & 1     & 5     & 2    \\\\\n",
       "\t 18.1  & 6     & 225.0 & 105   & 2.76  & 3.460 & 20.22 & 1     & 0     & 3     & 1    \\\\\n",
       "\t 19.2  & 6     & 167.6 & 123   & 3.92  & 3.440 & 18.30 & 1     & 0     & 4     & 4    \\\\\n",
       "\t 17.8  & 6     & 167.6 & 123   & 3.92  & 3.440 & 18.90 & 1     & 0     & 4     & 4    \\\\\n",
       "\t 21.4  & 6     & 258.0 & 110   & 3.08  & 3.215 & 19.44 & 1     & 0     & 3     & 1    \\\\\n",
       "\t 21.0  & 6     & 160.0 & 110   & 3.90  & 2.875 & 17.02 & 0     & 1     & 4     & 4    \\\\\n",
       "\t 19.7  & 6     & 145.0 & 175   & 3.62  & 2.770 & 15.50 & 0     & 1     & 5     & 6    \\\\\n",
       "\t 21.0  & 6     & 160.0 & 110   & 3.90  & 2.620 & 16.46 & 0     & 1     & 4     & 4    \\\\\n",
       "\t 10.4  & 8     & 460.0 & 215   & 3.00  & 5.424 & 17.82 & 0     & 0     & 3     & 4    \\\\\n",
       "\t 14.7  & 8     & 440.0 & 230   & 3.23  & 5.345 & 17.42 & 0     & 0     & 3     & 4    \\\\\n",
       "\t 10.4  & 8     & 472.0 & 205   & 2.93  & 5.250 & 17.98 & 0     & 0     & 3     & 4    \\\\\n",
       "\t 16.4  & 8     & 275.8 & 180   & 3.07  & 4.070 & 17.40 & 0     & 0     & 3     & 3    \\\\\n",
       "\t 19.2  & 8     & 400.0 & 175   & 3.08  & 3.845 & 17.05 & 0     & 0     & 3     & 2    \\\\\n",
       "\t 13.3  & 8     & 350.0 & 245   & 3.73  & 3.840 & 15.41 & 0     & 0     & 3     & 4    \\\\\n",
       "\t 15.2  & 8     & 275.8 & 180   & 3.07  & 3.780 & 18.00 & 0     & 0     & 3     & 3    \\\\\n",
       "\t 17.3  & 8     & 275.8 & 180   & 3.07  & 3.730 & 17.60 & 0     & 0     & 3     & 3    \\\\\n",
       "\t 14.3  & 8     & 360.0 & 245   & 3.21  & 3.570 & 15.84 & 0     & 0     & 3     & 4    \\\\\n",
       "\t 15.0  & 8     & 301.0 & 335   & 3.54  & 3.570 & 14.60 & 0     & 1     & 5     & 8    \\\\\n",
       "\t 15.5  & 8     & 318.0 & 150   & 2.76  & 3.520 & 16.87 & 0     & 0     & 3     & 2    \\\\\n",
       "\t 18.7  & 8     & 360.0 & 175   & 3.15  & 3.440 & 17.02 & 0     & 0     & 3     & 2    \\\\\n",
       "\t 15.2  & 8     & 304.0 & 150   & 3.15  & 3.435 & 17.30 & 0     & 0     & 3     & 2    \\\\\n",
       "\t 15.8  & 8     & 351.0 & 264   & 4.22  & 3.170 & 14.50 & 0     & 1     & 5     & 4    \\\\\n",
       "\\end{tabular}\n"
      ],
      "text/markdown": [
       "\n",
       "mpg | cyl | disp | hp | drat | wt | qsec | vs | am | gear | carb | \n",
       "|---|---|---|---|---|---|---|---|---|---|---|---|---|---|---|---|---|---|---|---|---|---|---|---|---|---|---|---|---|---|---|---|\n",
       "| 24.4  | 4     | 146.7 |  62   | 3.69  | 3.190 | 20.00 | 1     | 0     | 4     | 2     | \n",
       "| 22.8  | 4     | 140.8 |  95   | 3.92  | 3.150 | 22.90 | 1     | 0     | 4     | 2     | \n",
       "| 21.4  | 4     | 121.0 | 109   | 4.11  | 2.780 | 18.60 | 1     | 1     | 4     | 2     | \n",
       "| 21.5  | 4     | 120.1 |  97   | 3.70  | 2.465 | 20.01 | 1     | 0     | 3     | 1     | \n",
       "| 22.8  | 4     | 108.0 |  93   | 3.85  | 2.320 | 18.61 | 1     | 1     | 4     | 1     | \n",
       "| 32.4  | 4     |  78.7 |  66   | 4.08  | 2.200 | 19.47 | 1     | 1     | 4     | 1     | \n",
       "| 26.0  | 4     | 120.3 |  91   | 4.43  | 2.140 | 16.70 | 0     | 1     | 5     | 2     | \n",
       "| 27.3  | 4     |  79.0 |  66   | 4.08  | 1.935 | 18.90 | 1     | 1     | 4     | 1     | \n",
       "| 33.9  | 4     |  71.1 |  65   | 4.22  | 1.835 | 19.90 | 1     | 1     | 4     | 1     | \n",
       "| 30.4  | 4     |  75.7 |  52   | 4.93  | 1.615 | 18.52 | 1     | 1     | 4     | 2     | \n",
       "| 30.4  | 4     |  95.1 | 113   | 3.77  | 1.513 | 16.90 | 1     | 1     | 5     | 2     | \n",
       "| 18.1  | 6     | 225.0 | 105   | 2.76  | 3.460 | 20.22 | 1     | 0     | 3     | 1     | \n",
       "| 19.2  | 6     | 167.6 | 123   | 3.92  | 3.440 | 18.30 | 1     | 0     | 4     | 4     | \n",
       "| 17.8  | 6     | 167.6 | 123   | 3.92  | 3.440 | 18.90 | 1     | 0     | 4     | 4     | \n",
       "| 21.4  | 6     | 258.0 | 110   | 3.08  | 3.215 | 19.44 | 1     | 0     | 3     | 1     | \n",
       "| 21.0  | 6     | 160.0 | 110   | 3.90  | 2.875 | 17.02 | 0     | 1     | 4     | 4     | \n",
       "| 19.7  | 6     | 145.0 | 175   | 3.62  | 2.770 | 15.50 | 0     | 1     | 5     | 6     | \n",
       "| 21.0  | 6     | 160.0 | 110   | 3.90  | 2.620 | 16.46 | 0     | 1     | 4     | 4     | \n",
       "| 10.4  | 8     | 460.0 | 215   | 3.00  | 5.424 | 17.82 | 0     | 0     | 3     | 4     | \n",
       "| 14.7  | 8     | 440.0 | 230   | 3.23  | 5.345 | 17.42 | 0     | 0     | 3     | 4     | \n",
       "| 10.4  | 8     | 472.0 | 205   | 2.93  | 5.250 | 17.98 | 0     | 0     | 3     | 4     | \n",
       "| 16.4  | 8     | 275.8 | 180   | 3.07  | 4.070 | 17.40 | 0     | 0     | 3     | 3     | \n",
       "| 19.2  | 8     | 400.0 | 175   | 3.08  | 3.845 | 17.05 | 0     | 0     | 3     | 2     | \n",
       "| 13.3  | 8     | 350.0 | 245   | 3.73  | 3.840 | 15.41 | 0     | 0     | 3     | 4     | \n",
       "| 15.2  | 8     | 275.8 | 180   | 3.07  | 3.780 | 18.00 | 0     | 0     | 3     | 3     | \n",
       "| 17.3  | 8     | 275.8 | 180   | 3.07  | 3.730 | 17.60 | 0     | 0     | 3     | 3     | \n",
       "| 14.3  | 8     | 360.0 | 245   | 3.21  | 3.570 | 15.84 | 0     | 0     | 3     | 4     | \n",
       "| 15.0  | 8     | 301.0 | 335   | 3.54  | 3.570 | 14.60 | 0     | 1     | 5     | 8     | \n",
       "| 15.5  | 8     | 318.0 | 150   | 2.76  | 3.520 | 16.87 | 0     | 0     | 3     | 2     | \n",
       "| 18.7  | 8     | 360.0 | 175   | 3.15  | 3.440 | 17.02 | 0     | 0     | 3     | 2     | \n",
       "| 15.2  | 8     | 304.0 | 150   | 3.15  | 3.435 | 17.30 | 0     | 0     | 3     | 2     | \n",
       "| 15.8  | 8     | 351.0 | 264   | 4.22  | 3.170 | 14.50 | 0     | 1     | 5     | 4     | \n",
       "\n",
       "\n"
      ],
      "text/plain": [
       "   mpg  cyl disp  hp  drat wt    qsec  vs am gear carb\n",
       "1  24.4 4   146.7  62 3.69 3.190 20.00 1  0  4    2   \n",
       "2  22.8 4   140.8  95 3.92 3.150 22.90 1  0  4    2   \n",
       "3  21.4 4   121.0 109 4.11 2.780 18.60 1  1  4    2   \n",
       "4  21.5 4   120.1  97 3.70 2.465 20.01 1  0  3    1   \n",
       "5  22.8 4   108.0  93 3.85 2.320 18.61 1  1  4    1   \n",
       "6  32.4 4    78.7  66 4.08 2.200 19.47 1  1  4    1   \n",
       "7  26.0 4   120.3  91 4.43 2.140 16.70 0  1  5    2   \n",
       "8  27.3 4    79.0  66 4.08 1.935 18.90 1  1  4    1   \n",
       "9  33.9 4    71.1  65 4.22 1.835 19.90 1  1  4    1   \n",
       "10 30.4 4    75.7  52 4.93 1.615 18.52 1  1  4    2   \n",
       "11 30.4 4    95.1 113 3.77 1.513 16.90 1  1  5    2   \n",
       "12 18.1 6   225.0 105 2.76 3.460 20.22 1  0  3    1   \n",
       "13 19.2 6   167.6 123 3.92 3.440 18.30 1  0  4    4   \n",
       "14 17.8 6   167.6 123 3.92 3.440 18.90 1  0  4    4   \n",
       "15 21.4 6   258.0 110 3.08 3.215 19.44 1  0  3    1   \n",
       "16 21.0 6   160.0 110 3.90 2.875 17.02 0  1  4    4   \n",
       "17 19.7 6   145.0 175 3.62 2.770 15.50 0  1  5    6   \n",
       "18 21.0 6   160.0 110 3.90 2.620 16.46 0  1  4    4   \n",
       "19 10.4 8   460.0 215 3.00 5.424 17.82 0  0  3    4   \n",
       "20 14.7 8   440.0 230 3.23 5.345 17.42 0  0  3    4   \n",
       "21 10.4 8   472.0 205 2.93 5.250 17.98 0  0  3    4   \n",
       "22 16.4 8   275.8 180 3.07 4.070 17.40 0  0  3    3   \n",
       "23 19.2 8   400.0 175 3.08 3.845 17.05 0  0  3    2   \n",
       "24 13.3 8   350.0 245 3.73 3.840 15.41 0  0  3    4   \n",
       "25 15.2 8   275.8 180 3.07 3.780 18.00 0  0  3    3   \n",
       "26 17.3 8   275.8 180 3.07 3.730 17.60 0  0  3    3   \n",
       "27 14.3 8   360.0 245 3.21 3.570 15.84 0  0  3    4   \n",
       "28 15.0 8   301.0 335 3.54 3.570 14.60 0  1  5    8   \n",
       "29 15.5 8   318.0 150 2.76 3.520 16.87 0  0  3    2   \n",
       "30 18.7 8   360.0 175 3.15 3.440 17.02 0  0  3    2   \n",
       "31 15.2 8   304.0 150 3.15 3.435 17.30 0  0  3    2   \n",
       "32 15.8 8   351.0 264 4.22 3.170 14.50 0  1  5    4   "
      ]
     },
     "metadata": {},
     "output_type": "display_data"
    }
   ],
   "source": [
    "# help(arrange)\n",
    "arrange(mtcars, cyl, desc(wt))\n",
    "# arrange(mtcars, cyl)"
   ]
  },
  {
   "cell_type": "markdown",
   "metadata": {},
   "source": [
    "**Select the columns mpg and hp**"
   ]
  },
  {
   "cell_type": "code",
   "execution_count": 35,
   "metadata": {
    "ExecuteTime": {
     "end_time": "2017-04-08T18:07:10.624749",
     "start_time": "2017-04-08T15:07:10.539Z"
    },
    "collapsed": false
   },
   "outputs": [
    {
     "data": {
      "text/html": [
       "<table>\n",
       "<thead><tr><th></th><th scope=col>mpg</th><th scope=col>hp</th></tr></thead>\n",
       "<tbody>\n",
       "\t<tr><th scope=row>Mazda RX4</th><td>21.0</td><td>110 </td></tr>\n",
       "\t<tr><th scope=row>Mazda RX4 Wag</th><td>21.0</td><td>110 </td></tr>\n",
       "\t<tr><th scope=row>Datsun 710</th><td>22.8</td><td> 93 </td></tr>\n",
       "\t<tr><th scope=row>Hornet 4 Drive</th><td>21.4</td><td>110 </td></tr>\n",
       "\t<tr><th scope=row>Hornet Sportabout</th><td>18.7</td><td>175 </td></tr>\n",
       "\t<tr><th scope=row>Valiant</th><td>18.1</td><td>105 </td></tr>\n",
       "\t<tr><th scope=row>Duster 360</th><td>14.3</td><td>245 </td></tr>\n",
       "\t<tr><th scope=row>Merc 240D</th><td>24.4</td><td> 62 </td></tr>\n",
       "\t<tr><th scope=row>Merc 230</th><td>22.8</td><td> 95 </td></tr>\n",
       "\t<tr><th scope=row>Merc 280</th><td>19.2</td><td>123 </td></tr>\n",
       "\t<tr><th scope=row>Merc 280C</th><td>17.8</td><td>123 </td></tr>\n",
       "\t<tr><th scope=row>Merc 450SE</th><td>16.4</td><td>180 </td></tr>\n",
       "\t<tr><th scope=row>Merc 450SL</th><td>17.3</td><td>180 </td></tr>\n",
       "\t<tr><th scope=row>Merc 450SLC</th><td>15.2</td><td>180 </td></tr>\n",
       "\t<tr><th scope=row>Cadillac Fleetwood</th><td>10.4</td><td>205 </td></tr>\n",
       "\t<tr><th scope=row>Lincoln Continental</th><td>10.4</td><td>215 </td></tr>\n",
       "\t<tr><th scope=row>Chrysler Imperial</th><td>14.7</td><td>230 </td></tr>\n",
       "\t<tr><th scope=row>Fiat 128</th><td>32.4</td><td> 66 </td></tr>\n",
       "\t<tr><th scope=row>Honda Civic</th><td>30.4</td><td> 52 </td></tr>\n",
       "\t<tr><th scope=row>Toyota Corolla</th><td>33.9</td><td> 65 </td></tr>\n",
       "\t<tr><th scope=row>Toyota Corona</th><td>21.5</td><td> 97 </td></tr>\n",
       "\t<tr><th scope=row>Dodge Challenger</th><td>15.5</td><td>150 </td></tr>\n",
       "\t<tr><th scope=row>AMC Javelin</th><td>15.2</td><td>150 </td></tr>\n",
       "\t<tr><th scope=row>Camaro Z28</th><td>13.3</td><td>245 </td></tr>\n",
       "\t<tr><th scope=row>Pontiac Firebird</th><td>19.2</td><td>175 </td></tr>\n",
       "\t<tr><th scope=row>Fiat X1-9</th><td>27.3</td><td> 66 </td></tr>\n",
       "\t<tr><th scope=row>Porsche 914-2</th><td>26.0</td><td> 91 </td></tr>\n",
       "\t<tr><th scope=row>Lotus Europa</th><td>30.4</td><td>113 </td></tr>\n",
       "\t<tr><th scope=row>Ford Pantera L</th><td>15.8</td><td>264 </td></tr>\n",
       "\t<tr><th scope=row>Ferrari Dino</th><td>19.7</td><td>175 </td></tr>\n",
       "\t<tr><th scope=row>Maserati Bora</th><td>15.0</td><td>335 </td></tr>\n",
       "\t<tr><th scope=row>Volvo 142E</th><td>21.4</td><td>109 </td></tr>\n",
       "</tbody>\n",
       "</table>\n"
      ],
      "text/latex": [
       "\\begin{tabular}{r|ll}\n",
       "  & mpg & hp\\\\\n",
       "\\hline\n",
       "\tMazda RX4 & 21.0 & 110 \\\\\n",
       "\tMazda RX4 Wag & 21.0 & 110 \\\\\n",
       "\tDatsun 710 & 22.8 &  93 \\\\\n",
       "\tHornet 4 Drive & 21.4 & 110 \\\\\n",
       "\tHornet Sportabout & 18.7 & 175 \\\\\n",
       "\tValiant & 18.1 & 105 \\\\\n",
       "\tDuster 360 & 14.3 & 245 \\\\\n",
       "\tMerc 240D & 24.4 &  62 \\\\\n",
       "\tMerc 230 & 22.8 &  95 \\\\\n",
       "\tMerc 280 & 19.2 & 123 \\\\\n",
       "\tMerc 280C & 17.8 & 123 \\\\\n",
       "\tMerc 450SE & 16.4 & 180 \\\\\n",
       "\tMerc 450SL & 17.3 & 180 \\\\\n",
       "\tMerc 450SLC & 15.2 & 180 \\\\\n",
       "\tCadillac Fleetwood & 10.4 & 205 \\\\\n",
       "\tLincoln Continental & 10.4 & 215 \\\\\n",
       "\tChrysler Imperial & 14.7 & 230 \\\\\n",
       "\tFiat 128 & 32.4 &  66 \\\\\n",
       "\tHonda Civic & 30.4 &  52 \\\\\n",
       "\tToyota Corolla & 33.9 &  65 \\\\\n",
       "\tToyota Corona & 21.5 &  97 \\\\\n",
       "\tDodge Challenger & 15.5 & 150 \\\\\n",
       "\tAMC Javelin & 15.2 & 150 \\\\\n",
       "\tCamaro Z28 & 13.3 & 245 \\\\\n",
       "\tPontiac Firebird & 19.2 & 175 \\\\\n",
       "\tFiat X1-9 & 27.3 &  66 \\\\\n",
       "\tPorsche 914-2 & 26.0 &  91 \\\\\n",
       "\tLotus Europa & 30.4 & 113 \\\\\n",
       "\tFord Pantera L & 15.8 & 264 \\\\\n",
       "\tFerrari Dino & 19.7 & 175 \\\\\n",
       "\tMaserati Bora & 15.0 & 335 \\\\\n",
       "\tVolvo 142E & 21.4 & 109 \\\\\n",
       "\\end{tabular}\n"
      ],
      "text/markdown": [
       "\n",
       "| <!--/--> | mpg | hp | \n",
       "|---|---|---|---|---|---|---|---|---|---|---|---|---|---|---|---|---|---|---|---|---|---|---|---|---|---|---|---|---|---|---|---|\n",
       "| Mazda RX4 | 21.0 | 110  | \n",
       "| Mazda RX4 Wag | 21.0 | 110  | \n",
       "| Datsun 710 | 22.8 |  93  | \n",
       "| Hornet 4 Drive | 21.4 | 110  | \n",
       "| Hornet Sportabout | 18.7 | 175  | \n",
       "| Valiant | 18.1 | 105  | \n",
       "| Duster 360 | 14.3 | 245  | \n",
       "| Merc 240D | 24.4 |  62  | \n",
       "| Merc 230 | 22.8 |  95  | \n",
       "| Merc 280 | 19.2 | 123  | \n",
       "| Merc 280C | 17.8 | 123  | \n",
       "| Merc 450SE | 16.4 | 180  | \n",
       "| Merc 450SL | 17.3 | 180  | \n",
       "| Merc 450SLC | 15.2 | 180  | \n",
       "| Cadillac Fleetwood | 10.4 | 205  | \n",
       "| Lincoln Continental | 10.4 | 215  | \n",
       "| Chrysler Imperial | 14.7 | 230  | \n",
       "| Fiat 128 | 32.4 |  66  | \n",
       "| Honda Civic | 30.4 |  52  | \n",
       "| Toyota Corolla | 33.9 |  65  | \n",
       "| Toyota Corona | 21.5 |  97  | \n",
       "| Dodge Challenger | 15.5 | 150  | \n",
       "| AMC Javelin | 15.2 | 150  | \n",
       "| Camaro Z28 | 13.3 | 245  | \n",
       "| Pontiac Firebird | 19.2 | 175  | \n",
       "| Fiat X1-9 | 27.3 |  66  | \n",
       "| Porsche 914-2 | 26.0 |  91  | \n",
       "| Lotus Europa | 30.4 | 113  | \n",
       "| Ford Pantera L | 15.8 | 264  | \n",
       "| Ferrari Dino | 19.7 | 175  | \n",
       "| Maserati Bora | 15.0 | 335  | \n",
       "| Volvo 142E | 21.4 | 109  | \n",
       "\n",
       "\n"
      ],
      "text/plain": [
       "                    mpg  hp \n",
       "Mazda RX4           21.0 110\n",
       "Mazda RX4 Wag       21.0 110\n",
       "Datsun 710          22.8  93\n",
       "Hornet 4 Drive      21.4 110\n",
       "Hornet Sportabout   18.7 175\n",
       "Valiant             18.1 105\n",
       "Duster 360          14.3 245\n",
       "Merc 240D           24.4  62\n",
       "Merc 230            22.8  95\n",
       "Merc 280            19.2 123\n",
       "Merc 280C           17.8 123\n",
       "Merc 450SE          16.4 180\n",
       "Merc 450SL          17.3 180\n",
       "Merc 450SLC         15.2 180\n",
       "Cadillac Fleetwood  10.4 205\n",
       "Lincoln Continental 10.4 215\n",
       "Chrysler Imperial   14.7 230\n",
       "Fiat 128            32.4  66\n",
       "Honda Civic         30.4  52\n",
       "Toyota Corolla      33.9  65\n",
       "Toyota Corona       21.5  97\n",
       "Dodge Challenger    15.5 150\n",
       "AMC Javelin         15.2 150\n",
       "Camaro Z28          13.3 245\n",
       "Pontiac Firebird    19.2 175\n",
       "Fiat X1-9           27.3  66\n",
       "Porsche 914-2       26.0  91\n",
       "Lotus Europa        30.4 113\n",
       "Ford Pantera L      15.8 264\n",
       "Ferrari Dino        19.7 175\n",
       "Maserati Bora       15.0 335\n",
       "Volvo 142E          21.4 109"
      ]
     },
     "metadata": {},
     "output_type": "display_data"
    }
   ],
   "source": [
    "select(mtcars, mpg, hp)"
   ]
  },
  {
   "cell_type": "markdown",
   "metadata": {},
   "source": [
    "**Select the distinct values of the gear column.**"
   ]
  },
  {
   "cell_type": "code",
   "execution_count": 65,
   "metadata": {
    "ExecuteTime": {
     "end_time": "2017-04-08T18:21:02.576349",
     "start_time": "2017-04-08T15:21:02.533Z"
    },
    "collapsed": false
   },
   "outputs": [
    {
     "data": {
      "text/html": [
       "<table>\n",
       "<thead><tr><th scope=col>gear</th></tr></thead>\n",
       "<tbody>\n",
       "\t<tr><td>4</td></tr>\n",
       "\t<tr><td>3</td></tr>\n",
       "\t<tr><td>5</td></tr>\n",
       "</tbody>\n",
       "</table>\n"
      ],
      "text/latex": [
       "\\begin{tabular}{r|l}\n",
       " gear\\\\\n",
       "\\hline\n",
       "\t 4\\\\\n",
       "\t 3\\\\\n",
       "\t 5\\\\\n",
       "\\end{tabular}\n"
      ],
      "text/markdown": [
       "\n",
       "gear | \n",
       "|---|---|---|\n",
       "| 4 | \n",
       "| 3 | \n",
       "| 5 | \n",
       "\n",
       "\n"
      ],
      "text/plain": [
       "  gear\n",
       "1 4   \n",
       "2 3   \n",
       "3 5   "
      ]
     },
     "metadata": {},
     "output_type": "display_data"
    }
   ],
   "source": [
    "# select(distinct(mtcars, gear), gear)\n",
    "distinct(mtcars, gear)\n"
   ]
  },
  {
   "cell_type": "markdown",
   "metadata": {},
   "source": [
    "**Create a new column called \"Performance\" which is calculated by hp divided by wt.**"
   ]
  },
  {
   "cell_type": "code",
   "execution_count": 53,
   "metadata": {
    "ExecuteTime": {
     "end_time": "2017-04-08T18:16:49.891165",
     "start_time": "2017-04-08T15:16:49.774Z"
    },
    "collapsed": false
   },
   "outputs": [
    {
     "data": {
      "text/html": [
       "<table>\n",
       "<thead><tr><th scope=col>mpg</th><th scope=col>cyl</th><th scope=col>disp</th><th scope=col>hp</th><th scope=col>drat</th><th scope=col>wt</th><th scope=col>qsec</th><th scope=col>vs</th><th scope=col>am</th><th scope=col>gear</th><th scope=col>carb</th><th scope=col>perfromnace</th></tr></thead>\n",
       "<tbody>\n",
       "\t<tr><td>21.0    </td><td>6       </td><td>160.0   </td><td>110     </td><td>3.90    </td><td>2.620   </td><td>16.46   </td><td>0       </td><td>1       </td><td>4       </td><td>4       </td><td>41.98473</td></tr>\n",
       "\t<tr><td>21.0    </td><td>6       </td><td>160.0   </td><td>110     </td><td>3.90    </td><td>2.875   </td><td>17.02   </td><td>0       </td><td>1       </td><td>4       </td><td>4       </td><td>38.26087</td></tr>\n",
       "\t<tr><td>22.8    </td><td>4       </td><td>108.0   </td><td> 93     </td><td>3.85    </td><td>2.320   </td><td>18.61   </td><td>1       </td><td>1       </td><td>4       </td><td>1       </td><td>40.08621</td></tr>\n",
       "\t<tr><td>21.4    </td><td>6       </td><td>258.0   </td><td>110     </td><td>3.08    </td><td>3.215   </td><td>19.44   </td><td>1       </td><td>0       </td><td>3       </td><td>1       </td><td>34.21462</td></tr>\n",
       "\t<tr><td>18.7    </td><td>8       </td><td>360.0   </td><td>175     </td><td>3.15    </td><td>3.440   </td><td>17.02   </td><td>0       </td><td>0       </td><td>3       </td><td>2       </td><td>50.87209</td></tr>\n",
       "\t<tr><td>18.1    </td><td>6       </td><td>225.0   </td><td>105     </td><td>2.76    </td><td>3.460   </td><td>20.22   </td><td>1       </td><td>0       </td><td>3       </td><td>1       </td><td>30.34682</td></tr>\n",
       "\t<tr><td>14.3    </td><td>8       </td><td>360.0   </td><td>245     </td><td>3.21    </td><td>3.570   </td><td>15.84   </td><td>0       </td><td>0       </td><td>3       </td><td>4       </td><td>68.62745</td></tr>\n",
       "\t<tr><td>24.4    </td><td>4       </td><td>146.7   </td><td> 62     </td><td>3.69    </td><td>3.190   </td><td>20.00   </td><td>1       </td><td>0       </td><td>4       </td><td>2       </td><td>19.43574</td></tr>\n",
       "\t<tr><td>22.8    </td><td>4       </td><td>140.8   </td><td> 95     </td><td>3.92    </td><td>3.150   </td><td>22.90   </td><td>1       </td><td>0       </td><td>4       </td><td>2       </td><td>30.15873</td></tr>\n",
       "\t<tr><td>19.2    </td><td>6       </td><td>167.6   </td><td>123     </td><td>3.92    </td><td>3.440   </td><td>18.30   </td><td>1       </td><td>0       </td><td>4       </td><td>4       </td><td>35.75581</td></tr>\n",
       "\t<tr><td>17.8    </td><td>6       </td><td>167.6   </td><td>123     </td><td>3.92    </td><td>3.440   </td><td>18.90   </td><td>1       </td><td>0       </td><td>4       </td><td>4       </td><td>35.75581</td></tr>\n",
       "\t<tr><td>16.4    </td><td>8       </td><td>275.8   </td><td>180     </td><td>3.07    </td><td>4.070   </td><td>17.40   </td><td>0       </td><td>0       </td><td>3       </td><td>3       </td><td>44.22604</td></tr>\n",
       "\t<tr><td>17.3    </td><td>8       </td><td>275.8   </td><td>180     </td><td>3.07    </td><td>3.730   </td><td>17.60   </td><td>0       </td><td>0       </td><td>3       </td><td>3       </td><td>48.25737</td></tr>\n",
       "\t<tr><td>15.2    </td><td>8       </td><td>275.8   </td><td>180     </td><td>3.07    </td><td>3.780   </td><td>18.00   </td><td>0       </td><td>0       </td><td>3       </td><td>3       </td><td>47.61905</td></tr>\n",
       "\t<tr><td>10.4    </td><td>8       </td><td>472.0   </td><td>205     </td><td>2.93    </td><td>5.250   </td><td>17.98   </td><td>0       </td><td>0       </td><td>3       </td><td>4       </td><td>39.04762</td></tr>\n",
       "\t<tr><td>10.4    </td><td>8       </td><td>460.0   </td><td>215     </td><td>3.00    </td><td>5.424   </td><td>17.82   </td><td>0       </td><td>0       </td><td>3       </td><td>4       </td><td>39.63864</td></tr>\n",
       "\t<tr><td>14.7    </td><td>8       </td><td>440.0   </td><td>230     </td><td>3.23    </td><td>5.345   </td><td>17.42   </td><td>0       </td><td>0       </td><td>3       </td><td>4       </td><td>43.03087</td></tr>\n",
       "\t<tr><td>32.4    </td><td>4       </td><td> 78.7   </td><td> 66     </td><td>4.08    </td><td>2.200   </td><td>19.47   </td><td>1       </td><td>1       </td><td>4       </td><td>1       </td><td>30.00000</td></tr>\n",
       "\t<tr><td>30.4    </td><td>4       </td><td> 75.7   </td><td> 52     </td><td>4.93    </td><td>1.615   </td><td>18.52   </td><td>1       </td><td>1       </td><td>4       </td><td>2       </td><td>32.19814</td></tr>\n",
       "\t<tr><td>33.9    </td><td>4       </td><td> 71.1   </td><td> 65     </td><td>4.22    </td><td>1.835   </td><td>19.90   </td><td>1       </td><td>1       </td><td>4       </td><td>1       </td><td>35.42234</td></tr>\n",
       "\t<tr><td>21.5    </td><td>4       </td><td>120.1   </td><td> 97     </td><td>3.70    </td><td>2.465   </td><td>20.01   </td><td>1       </td><td>0       </td><td>3       </td><td>1       </td><td>39.35091</td></tr>\n",
       "\t<tr><td>15.5    </td><td>8       </td><td>318.0   </td><td>150     </td><td>2.76    </td><td>3.520   </td><td>16.87   </td><td>0       </td><td>0       </td><td>3       </td><td>2       </td><td>42.61364</td></tr>\n",
       "\t<tr><td>15.2    </td><td>8       </td><td>304.0   </td><td>150     </td><td>3.15    </td><td>3.435   </td><td>17.30   </td><td>0       </td><td>0       </td><td>3       </td><td>2       </td><td>43.66812</td></tr>\n",
       "\t<tr><td>13.3    </td><td>8       </td><td>350.0   </td><td>245     </td><td>3.73    </td><td>3.840   </td><td>15.41   </td><td>0       </td><td>0       </td><td>3       </td><td>4       </td><td>63.80208</td></tr>\n",
       "\t<tr><td>19.2    </td><td>8       </td><td>400.0   </td><td>175     </td><td>3.08    </td><td>3.845   </td><td>17.05   </td><td>0       </td><td>0       </td><td>3       </td><td>2       </td><td>45.51365</td></tr>\n",
       "\t<tr><td>27.3    </td><td>4       </td><td> 79.0   </td><td> 66     </td><td>4.08    </td><td>1.935   </td><td>18.90   </td><td>1       </td><td>1       </td><td>4       </td><td>1       </td><td>34.10853</td></tr>\n",
       "\t<tr><td>26.0    </td><td>4       </td><td>120.3   </td><td> 91     </td><td>4.43    </td><td>2.140   </td><td>16.70   </td><td>0       </td><td>1       </td><td>5       </td><td>2       </td><td>42.52336</td></tr>\n",
       "\t<tr><td>30.4    </td><td>4       </td><td> 95.1   </td><td>113     </td><td>3.77    </td><td>1.513   </td><td>16.90   </td><td>1       </td><td>1       </td><td>5       </td><td>2       </td><td>74.68605</td></tr>\n",
       "\t<tr><td>15.8    </td><td>8       </td><td>351.0   </td><td>264     </td><td>4.22    </td><td>3.170   </td><td>14.50   </td><td>0       </td><td>1       </td><td>5       </td><td>4       </td><td>83.28076</td></tr>\n",
       "\t<tr><td>19.7    </td><td>6       </td><td>145.0   </td><td>175     </td><td>3.62    </td><td>2.770   </td><td>15.50   </td><td>0       </td><td>1       </td><td>5       </td><td>6       </td><td>63.17690</td></tr>\n",
       "\t<tr><td>15.0    </td><td>8       </td><td>301.0   </td><td>335     </td><td>3.54    </td><td>3.570   </td><td>14.60   </td><td>0       </td><td>1       </td><td>5       </td><td>8       </td><td>93.83754</td></tr>\n",
       "\t<tr><td>21.4    </td><td>4       </td><td>121.0   </td><td>109     </td><td>4.11    </td><td>2.780   </td><td>18.60   </td><td>1       </td><td>1       </td><td>4       </td><td>2       </td><td>39.20863</td></tr>\n",
       "</tbody>\n",
       "</table>\n"
      ],
      "text/latex": [
       "\\begin{tabular}{r|llllllllllll}\n",
       " mpg & cyl & disp & hp & drat & wt & qsec & vs & am & gear & carb & perfromnace\\\\\n",
       "\\hline\n",
       "\t 21.0     & 6        & 160.0    & 110      & 3.90     & 2.620    & 16.46    & 0        & 1        & 4        & 4        & 41.98473\\\\\n",
       "\t 21.0     & 6        & 160.0    & 110      & 3.90     & 2.875    & 17.02    & 0        & 1        & 4        & 4        & 38.26087\\\\\n",
       "\t 22.8     & 4        & 108.0    &  93      & 3.85     & 2.320    & 18.61    & 1        & 1        & 4        & 1        & 40.08621\\\\\n",
       "\t 21.4     & 6        & 258.0    & 110      & 3.08     & 3.215    & 19.44    & 1        & 0        & 3        & 1        & 34.21462\\\\\n",
       "\t 18.7     & 8        & 360.0    & 175      & 3.15     & 3.440    & 17.02    & 0        & 0        & 3        & 2        & 50.87209\\\\\n",
       "\t 18.1     & 6        & 225.0    & 105      & 2.76     & 3.460    & 20.22    & 1        & 0        & 3        & 1        & 30.34682\\\\\n",
       "\t 14.3     & 8        & 360.0    & 245      & 3.21     & 3.570    & 15.84    & 0        & 0        & 3        & 4        & 68.62745\\\\\n",
       "\t 24.4     & 4        & 146.7    &  62      & 3.69     & 3.190    & 20.00    & 1        & 0        & 4        & 2        & 19.43574\\\\\n",
       "\t 22.8     & 4        & 140.8    &  95      & 3.92     & 3.150    & 22.90    & 1        & 0        & 4        & 2        & 30.15873\\\\\n",
       "\t 19.2     & 6        & 167.6    & 123      & 3.92     & 3.440    & 18.30    & 1        & 0        & 4        & 4        & 35.75581\\\\\n",
       "\t 17.8     & 6        & 167.6    & 123      & 3.92     & 3.440    & 18.90    & 1        & 0        & 4        & 4        & 35.75581\\\\\n",
       "\t 16.4     & 8        & 275.8    & 180      & 3.07     & 4.070    & 17.40    & 0        & 0        & 3        & 3        & 44.22604\\\\\n",
       "\t 17.3     & 8        & 275.8    & 180      & 3.07     & 3.730    & 17.60    & 0        & 0        & 3        & 3        & 48.25737\\\\\n",
       "\t 15.2     & 8        & 275.8    & 180      & 3.07     & 3.780    & 18.00    & 0        & 0        & 3        & 3        & 47.61905\\\\\n",
       "\t 10.4     & 8        & 472.0    & 205      & 2.93     & 5.250    & 17.98    & 0        & 0        & 3        & 4        & 39.04762\\\\\n",
       "\t 10.4     & 8        & 460.0    & 215      & 3.00     & 5.424    & 17.82    & 0        & 0        & 3        & 4        & 39.63864\\\\\n",
       "\t 14.7     & 8        & 440.0    & 230      & 3.23     & 5.345    & 17.42    & 0        & 0        & 3        & 4        & 43.03087\\\\\n",
       "\t 32.4     & 4        &  78.7    &  66      & 4.08     & 2.200    & 19.47    & 1        & 1        & 4        & 1        & 30.00000\\\\\n",
       "\t 30.4     & 4        &  75.7    &  52      & 4.93     & 1.615    & 18.52    & 1        & 1        & 4        & 2        & 32.19814\\\\\n",
       "\t 33.9     & 4        &  71.1    &  65      & 4.22     & 1.835    & 19.90    & 1        & 1        & 4        & 1        & 35.42234\\\\\n",
       "\t 21.5     & 4        & 120.1    &  97      & 3.70     & 2.465    & 20.01    & 1        & 0        & 3        & 1        & 39.35091\\\\\n",
       "\t 15.5     & 8        & 318.0    & 150      & 2.76     & 3.520    & 16.87    & 0        & 0        & 3        & 2        & 42.61364\\\\\n",
       "\t 15.2     & 8        & 304.0    & 150      & 3.15     & 3.435    & 17.30    & 0        & 0        & 3        & 2        & 43.66812\\\\\n",
       "\t 13.3     & 8        & 350.0    & 245      & 3.73     & 3.840    & 15.41    & 0        & 0        & 3        & 4        & 63.80208\\\\\n",
       "\t 19.2     & 8        & 400.0    & 175      & 3.08     & 3.845    & 17.05    & 0        & 0        & 3        & 2        & 45.51365\\\\\n",
       "\t 27.3     & 4        &  79.0    &  66      & 4.08     & 1.935    & 18.90    & 1        & 1        & 4        & 1        & 34.10853\\\\\n",
       "\t 26.0     & 4        & 120.3    &  91      & 4.43     & 2.140    & 16.70    & 0        & 1        & 5        & 2        & 42.52336\\\\\n",
       "\t 30.4     & 4        &  95.1    & 113      & 3.77     & 1.513    & 16.90    & 1        & 1        & 5        & 2        & 74.68605\\\\\n",
       "\t 15.8     & 8        & 351.0    & 264      & 4.22     & 3.170    & 14.50    & 0        & 1        & 5        & 4        & 83.28076\\\\\n",
       "\t 19.7     & 6        & 145.0    & 175      & 3.62     & 2.770    & 15.50    & 0        & 1        & 5        & 6        & 63.17690\\\\\n",
       "\t 15.0     & 8        & 301.0    & 335      & 3.54     & 3.570    & 14.60    & 0        & 1        & 5        & 8        & 93.83754\\\\\n",
       "\t 21.4     & 4        & 121.0    & 109      & 4.11     & 2.780    & 18.60    & 1        & 1        & 4        & 2        & 39.20863\\\\\n",
       "\\end{tabular}\n"
      ],
      "text/markdown": [
       "\n",
       "mpg | cyl | disp | hp | drat | wt | qsec | vs | am | gear | carb | perfromnace | \n",
       "|---|---|---|---|---|---|---|---|---|---|---|---|---|---|---|---|---|---|---|---|---|---|---|---|---|---|---|---|---|---|---|---|\n",
       "| 21.0     | 6        | 160.0    | 110      | 3.90     | 2.620    | 16.46    | 0        | 1        | 4        | 4        | 41.98473 | \n",
       "| 21.0     | 6        | 160.0    | 110      | 3.90     | 2.875    | 17.02    | 0        | 1        | 4        | 4        | 38.26087 | \n",
       "| 22.8     | 4        | 108.0    |  93      | 3.85     | 2.320    | 18.61    | 1        | 1        | 4        | 1        | 40.08621 | \n",
       "| 21.4     | 6        | 258.0    | 110      | 3.08     | 3.215    | 19.44    | 1        | 0        | 3        | 1        | 34.21462 | \n",
       "| 18.7     | 8        | 360.0    | 175      | 3.15     | 3.440    | 17.02    | 0        | 0        | 3        | 2        | 50.87209 | \n",
       "| 18.1     | 6        | 225.0    | 105      | 2.76     | 3.460    | 20.22    | 1        | 0        | 3        | 1        | 30.34682 | \n",
       "| 14.3     | 8        | 360.0    | 245      | 3.21     | 3.570    | 15.84    | 0        | 0        | 3        | 4        | 68.62745 | \n",
       "| 24.4     | 4        | 146.7    |  62      | 3.69     | 3.190    | 20.00    | 1        | 0        | 4        | 2        | 19.43574 | \n",
       "| 22.8     | 4        | 140.8    |  95      | 3.92     | 3.150    | 22.90    | 1        | 0        | 4        | 2        | 30.15873 | \n",
       "| 19.2     | 6        | 167.6    | 123      | 3.92     | 3.440    | 18.30    | 1        | 0        | 4        | 4        | 35.75581 | \n",
       "| 17.8     | 6        | 167.6    | 123      | 3.92     | 3.440    | 18.90    | 1        | 0        | 4        | 4        | 35.75581 | \n",
       "| 16.4     | 8        | 275.8    | 180      | 3.07     | 4.070    | 17.40    | 0        | 0        | 3        | 3        | 44.22604 | \n",
       "| 17.3     | 8        | 275.8    | 180      | 3.07     | 3.730    | 17.60    | 0        | 0        | 3        | 3        | 48.25737 | \n",
       "| 15.2     | 8        | 275.8    | 180      | 3.07     | 3.780    | 18.00    | 0        | 0        | 3        | 3        | 47.61905 | \n",
       "| 10.4     | 8        | 472.0    | 205      | 2.93     | 5.250    | 17.98    | 0        | 0        | 3        | 4        | 39.04762 | \n",
       "| 10.4     | 8        | 460.0    | 215      | 3.00     | 5.424    | 17.82    | 0        | 0        | 3        | 4        | 39.63864 | \n",
       "| 14.7     | 8        | 440.0    | 230      | 3.23     | 5.345    | 17.42    | 0        | 0        | 3        | 4        | 43.03087 | \n",
       "| 32.4     | 4        |  78.7    |  66      | 4.08     | 2.200    | 19.47    | 1        | 1        | 4        | 1        | 30.00000 | \n",
       "| 30.4     | 4        |  75.7    |  52      | 4.93     | 1.615    | 18.52    | 1        | 1        | 4        | 2        | 32.19814 | \n",
       "| 33.9     | 4        |  71.1    |  65      | 4.22     | 1.835    | 19.90    | 1        | 1        | 4        | 1        | 35.42234 | \n",
       "| 21.5     | 4        | 120.1    |  97      | 3.70     | 2.465    | 20.01    | 1        | 0        | 3        | 1        | 39.35091 | \n",
       "| 15.5     | 8        | 318.0    | 150      | 2.76     | 3.520    | 16.87    | 0        | 0        | 3        | 2        | 42.61364 | \n",
       "| 15.2     | 8        | 304.0    | 150      | 3.15     | 3.435    | 17.30    | 0        | 0        | 3        | 2        | 43.66812 | \n",
       "| 13.3     | 8        | 350.0    | 245      | 3.73     | 3.840    | 15.41    | 0        | 0        | 3        | 4        | 63.80208 | \n",
       "| 19.2     | 8        | 400.0    | 175      | 3.08     | 3.845    | 17.05    | 0        | 0        | 3        | 2        | 45.51365 | \n",
       "| 27.3     | 4        |  79.0    |  66      | 4.08     | 1.935    | 18.90    | 1        | 1        | 4        | 1        | 34.10853 | \n",
       "| 26.0     | 4        | 120.3    |  91      | 4.43     | 2.140    | 16.70    | 0        | 1        | 5        | 2        | 42.52336 | \n",
       "| 30.4     | 4        |  95.1    | 113      | 3.77     | 1.513    | 16.90    | 1        | 1        | 5        | 2        | 74.68605 | \n",
       "| 15.8     | 8        | 351.0    | 264      | 4.22     | 3.170    | 14.50    | 0        | 1        | 5        | 4        | 83.28076 | \n",
       "| 19.7     | 6        | 145.0    | 175      | 3.62     | 2.770    | 15.50    | 0        | 1        | 5        | 6        | 63.17690 | \n",
       "| 15.0     | 8        | 301.0    | 335      | 3.54     | 3.570    | 14.60    | 0        | 1        | 5        | 8        | 93.83754 | \n",
       "| 21.4     | 4        | 121.0    | 109      | 4.11     | 2.780    | 18.60    | 1        | 1        | 4        | 2        | 39.20863 | \n",
       "\n",
       "\n"
      ],
      "text/plain": [
       "   mpg  cyl disp  hp  drat wt    qsec  vs am gear carb perfromnace\n",
       "1  21.0 6   160.0 110 3.90 2.620 16.46 0  1  4    4    41.98473   \n",
       "2  21.0 6   160.0 110 3.90 2.875 17.02 0  1  4    4    38.26087   \n",
       "3  22.8 4   108.0  93 3.85 2.320 18.61 1  1  4    1    40.08621   \n",
       "4  21.4 6   258.0 110 3.08 3.215 19.44 1  0  3    1    34.21462   \n",
       "5  18.7 8   360.0 175 3.15 3.440 17.02 0  0  3    2    50.87209   \n",
       "6  18.1 6   225.0 105 2.76 3.460 20.22 1  0  3    1    30.34682   \n",
       "7  14.3 8   360.0 245 3.21 3.570 15.84 0  0  3    4    68.62745   \n",
       "8  24.4 4   146.7  62 3.69 3.190 20.00 1  0  4    2    19.43574   \n",
       "9  22.8 4   140.8  95 3.92 3.150 22.90 1  0  4    2    30.15873   \n",
       "10 19.2 6   167.6 123 3.92 3.440 18.30 1  0  4    4    35.75581   \n",
       "11 17.8 6   167.6 123 3.92 3.440 18.90 1  0  4    4    35.75581   \n",
       "12 16.4 8   275.8 180 3.07 4.070 17.40 0  0  3    3    44.22604   \n",
       "13 17.3 8   275.8 180 3.07 3.730 17.60 0  0  3    3    48.25737   \n",
       "14 15.2 8   275.8 180 3.07 3.780 18.00 0  0  3    3    47.61905   \n",
       "15 10.4 8   472.0 205 2.93 5.250 17.98 0  0  3    4    39.04762   \n",
       "16 10.4 8   460.0 215 3.00 5.424 17.82 0  0  3    4    39.63864   \n",
       "17 14.7 8   440.0 230 3.23 5.345 17.42 0  0  3    4    43.03087   \n",
       "18 32.4 4    78.7  66 4.08 2.200 19.47 1  1  4    1    30.00000   \n",
       "19 30.4 4    75.7  52 4.93 1.615 18.52 1  1  4    2    32.19814   \n",
       "20 33.9 4    71.1  65 4.22 1.835 19.90 1  1  4    1    35.42234   \n",
       "21 21.5 4   120.1  97 3.70 2.465 20.01 1  0  3    1    39.35091   \n",
       "22 15.5 8   318.0 150 2.76 3.520 16.87 0  0  3    2    42.61364   \n",
       "23 15.2 8   304.0 150 3.15 3.435 17.30 0  0  3    2    43.66812   \n",
       "24 13.3 8   350.0 245 3.73 3.840 15.41 0  0  3    4    63.80208   \n",
       "25 19.2 8   400.0 175 3.08 3.845 17.05 0  0  3    2    45.51365   \n",
       "26 27.3 4    79.0  66 4.08 1.935 18.90 1  1  4    1    34.10853   \n",
       "27 26.0 4   120.3  91 4.43 2.140 16.70 0  1  5    2    42.52336   \n",
       "28 30.4 4    95.1 113 3.77 1.513 16.90 1  1  5    2    74.68605   \n",
       "29 15.8 8   351.0 264 4.22 3.170 14.50 0  1  5    4    83.28076   \n",
       "30 19.7 6   145.0 175 3.62 2.770 15.50 0  1  5    6    63.17690   \n",
       "31 15.0 8   301.0 335 3.54 3.570 14.60 0  1  5    8    93.83754   \n",
       "32 21.4 4   121.0 109 4.11 2.780 18.60 1  1  4    2    39.20863   "
      ]
     },
     "metadata": {},
     "output_type": "display_data"
    }
   ],
   "source": [
    "#help(mutate)\n",
    "#mutate(mtcars, displ_l = disp / 61.0237)\n",
    "mtcars <- mutate(mtcars, perfromnace = hp / wt)\n",
    "mtcars"
   ]
  },
  {
   "cell_type": "markdown",
   "metadata": {},
   "source": [
    "**Find the mean mpg value using dplyr.**"
   ]
  },
  {
   "cell_type": "code",
   "execution_count": 64,
   "metadata": {
    "ExecuteTime": {
     "end_time": "2017-04-08T18:19:39.077110",
     "start_time": "2017-04-08T15:19:39.039Z"
    },
    "collapsed": false
   },
   "outputs": [
    {
     "data": {
      "text/html": [
       "<table>\n",
       "<thead><tr><th scope=col>avg</th><th scope=col>total</th></tr></thead>\n",
       "<tbody>\n",
       "\t<tr><td>20.09062</td><td>642.9   </td></tr>\n",
       "</tbody>\n",
       "</table>\n"
      ],
      "text/latex": [
       "\\begin{tabular}{r|ll}\n",
       " avg & total\\\\\n",
       "\\hline\n",
       "\t 20.09062 & 642.9   \\\\\n",
       "\\end{tabular}\n"
      ],
      "text/markdown": [
       "\n",
       "avg | total | \n",
       "|---|\n",
       "| 20.09062 | 642.9    | \n",
       "\n",
       "\n"
      ],
      "text/plain": [
       "  avg      total\n",
       "1 20.09062 642.9"
      ]
     },
     "metadata": {},
     "output_type": "display_data"
    }
   ],
   "source": [
    "# help(summarise)\n",
    "summarize(mtcars, avg=mean(mpg), total=sum(mpg))"
   ]
  },
  {
   "cell_type": "markdown",
   "metadata": {},
   "source": [
    "**Use pipe operators to get the mean hp value for cars with 6 cylinders.**"
   ]
  },
  {
   "cell_type": "code",
   "execution_count": 100,
   "metadata": {
    "ExecuteTime": {
     "end_time": "2017-04-08T18:39:31.214845",
     "start_time": "2017-04-08T15:39:31.177Z"
    },
    "collapsed": false
   },
   "outputs": [
    {
     "data": {
      "text/html": [
       "<strong>hp:</strong> 122.285714285714"
      ],
      "text/latex": [
       "\\textbf{hp:} 122.285714285714"
      ],
      "text/markdown": [
       "**hp:** 122.285714285714"
      ],
      "text/plain": [
       "      hp \n",
       "122.2857 "
      ]
     },
     "metadata": {},
     "output_type": "display_data"
    }
   ],
   "source": [
    "mtcars %>% filter(cyl == 6) %>% select(hp) %>% colMeans()\n",
    "\n"
   ]
  },
  {
   "cell_type": "code",
   "execution_count": null,
   "metadata": {
    "collapsed": true
   },
   "outputs": [],
   "source": []
  }
 ],
 "metadata": {
  "anaconda-cloud": {},
  "kernelspec": {
   "display_name": "R",
   "language": "R",
   "name": "ir"
  },
  "language_info": {
   "codemirror_mode": "r",
   "file_extension": ".r",
   "mimetype": "text/x-r-source",
   "name": "R",
   "pygments_lexer": "r",
   "version": "3.3.2"
  }
 },
 "nbformat": 4,
 "nbformat_minor": 2
}
